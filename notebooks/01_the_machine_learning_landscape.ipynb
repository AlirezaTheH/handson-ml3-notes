{
 "cells": [
  {
   "cell_type": "markdown",
   "metadata": {},
   "source": [
    "# Chapter 1 - The Machine Learning Landscape\n",
    "[![Open in Colab](https://colab.research.google.com/assets/colab-badge.svg)](https://colab.research.google.com/github/alirezatheh/handson-ml3-notes/blob/main/notebooks/01_the_machine_learning_landscape.ipynb)\n",
    "[![Open in Kaggle](https://kaggle.com/static/images/open-in-kaggle.svg)](https://kaggle.com/kernels/welcome?src=https://github.com/alirezatheh/handson-ml3-notes/blob/main/notebooks/01_the_machine_learning_landscape.ipynb)\n",
    "\n",
    "Machine learning has been around for decades in some specialized applications, such as optical character recognition (OCR). The first machine learning application that really became mainstream in the 1990s was the *spam filter*."
   ]
  },
  {
   "cell_type": "markdown",
   "metadata": {},
   "source": [
    "## What is Machine Learning\n",
    "Machine learning is the science (and art) of programming computers so they can *learn from data*.\n",
    "\n",
    "A more general definition:\n",
    "\n",
    "    [Machine learning is the] field of study that gives computers the ability to learn without being explicitly programmed.\n",
    "    —Arthur Samuel, 1959\n",
    "    \n",
    "a more engineering-oriented one:\n",
    "\n",
    "    A computer program is said to learn from experience E with respect to some task T and some performance measure P, if its performance on T, as measured by P, improves with experience E.\n",
    "    —Tom Mitchell, 1997"
   ]
  },
  {
   "cell_type": "markdown",
   "metadata": {},
   "source": [
    "## Why Use Machine Learning\n",
    "To summarize, machine learning is great for:\n",
    "- Problems for which existing solutions require a lot of fine-tuning or long lists of rules, e.g. spam filter\n",
    "- Complex problems for which using a traditional approach yields no good solution, e.g. speech recognition\n",
    "- Fluctuating environments (a machine learning system can easily be retrained on new data, always keeping it up to date), e.g. when spammers notice\n",
    "- Getting insights about complex problems and large amounts of data"
   ]
  },
  {
   "cell_type": "markdown",
   "metadata": {},
   "source": [
    "## Examples of Applications\n",
    "- *Analyzing images of products on a production line to automatically classify them*\n",
    "- *Detecting tumors in brain scans*\n",
    "- *Automatically classifying news articles*\n",
    "- *Automatically flagging offensive comments on discussion forums*\n",
    "- *Summarizing long documents automatically*\n",
    "- *Creating a chatbot or a personal assistant*\n",
    "- *Forecasting our company’s revenue next year, based on many performance metrics*\n",
    "- *Making our app react to voice commands*\n",
    "- *Detecting credit card fraud*\n",
    "- *Segmenting clients based on their purchases so that we can design a different marketing strategy for each segment*\n",
    "- *Representing a complex, high-dimensional dataset in a clear and insightful diagram*\n",
    "- *Recommending a product that a client may be interested in, based on past purchases*\n",
    "- *Building an intelligent bot for a game*"
   ]
  },
  {
   "cell_type": "markdown",
   "metadata": {},
   "source": [
    "## Types of Machine Learning Systems\n",
    "It is useful to classify ML systems based on the following criteria:\n",
    "- How they are supervised during training\n",
    "- Whether or not they can learn incrementally on the fly\n",
    "- Whether they work by comparing new data points to known data points, or instead by detecting patterns in the training data and building a predictive model"
   ]
  },
  {
   "cell_type": "markdown",
   "metadata": {
    "slideshow": {
     "slide_type": ""
    },
    "tags": []
   },
   "source": [
    "### Training Supervision"
   ]
  },
  {
   "cell_type": "markdown",
   "metadata": {},
   "source": [
    "#### Supervised learning\n",
    "The training set we feed to the algorithm includes the desired solutions, called *labels*. e.g. classification and regression."
   ]
  },
  {
   "cell_type": "markdown",
   "metadata": {},
   "source": [
    "#### Unsupervised learning\n",
    "The training data is unlabeled. e.g. clustering and association rule learning, in which the goal is to dig into large amounts of data and discover interesting relations between attributes."
   ]
  },
  {
   "cell_type": "markdown",
   "metadata": {},
   "source": [
    "#### Semi-supervised learning\n",
    "Since labeling data is usually time-consuming and costly, we will often have partially labeled data, which some algorithms can deal with. Most semi-supervised learning algorithms are combinations of unsupervised and supervised algorithms."
   ]
  },
  {
   "cell_type": "markdown",
   "metadata": {},
   "source": [
    "#### Self-supervised learning\n",
    "Another approach is generating a fully labeled dataset from a fully unlabeled one. e.g. randomly mask an small part of each image and train a model to recover original images."
   ]
  },
  {
   "cell_type": "markdown",
   "metadata": {},
   "source": [
    "#### Reinforcement learning\n",
    "The learning system, called an *agent* in this context, can observe the environment, select and perform actions, and get *rewards* in return (or *penalties* in the form of negative rewards). It must then learn by itself what is the best strategy, called a *policy*, to get the most reward over time. A policy defines what action the agent should choose when it is in a given situation."
   ]
  },
  {
   "cell_type": "markdown",
   "metadata": {},
   "source": [
    "### Batch Versus Online Learning"
   ]
  },
  {
   "cell_type": "markdown",
   "metadata": {},
   "source": [
    "#### Batch learning\n",
    "The system is incapable of learning incrementally: it must be trained using all the available data. It is typically done offline and called *offline learning*. Unfortunately, a model’s performance tends to decay slowly over time, because the world continues to evolve while the model remains unchanged. This phenomenon is often called *model rot* or *data drift*."
   ]
  },
  {
   "cell_type": "markdown",
   "metadata": {},
   "source": [
    "#### Online learning\n",
    "We train the system incrementally by feeding it data instances sequentially, either individually or in small groups called *mini-batches*. Online learning algorithms can be used to train models on huge datasets that cannot fit in one machine’s main memory (this is called *out-of-core learning*). Out-of-core learning is usually done offline, so *online learning* can be a confusing name. Think of it as incremental learning."
   ]
  },
  {
   "cell_type": "markdown",
   "metadata": {},
   "source": [
    "### Instance-Based Versus Model-Based Learning\n",
    "One more way to categorize machine learning systems is by how they *generalize*. There are two main approaches to generalization:"
   ]
  },
  {
   "cell_type": "markdown",
   "metadata": {},
   "source": [
    "#### Instance-based learning\n",
    "The system learns the examples by heart, then generalizes to new cases by using a *similarity measure* to compare them to the learned examples (or a subset of them)."
   ]
  },
  {
   "cell_type": "markdown",
   "metadata": {},
   "source": [
    "#### Model-based learning and a typical machine learning workflow\n",
    "Another way to generalize from a set of examples is to build a model of these examples and then use that model to make *predictions*.\n",
    "\n",
    "e.g. suppose we want to know if money makes people happy, so we download the Better Life Index data from the [OECD’s website](http://stats.oecd.org/index.aspx?DataSetCode=BLI) (to get the Life Satisfaction for each country) and World Bank stats about gross domestic product (GDP) per capita from [OurWorldInData.org](https://ourworldindata.org/grapher/gdp-per-capita-worldbank). Then we join the tables and sort by GDP per capita:\n",
    "\n",
    "| Country       | GDP per capita \\(USD\\) | Life satisfaction |\n",
    "|:--------------|:-----------------------|:------------------|\n",
    "| Turkey        | 28384.987785           | 5.5               |\n",
    "| Hungary       | 31007.768407           | 5.6               |\n",
    "| France        | 42025.617373           | 6.5               |\n",
    "| New Zealand   | 42404.393738           | 7.3               |\n",
    "| Australia     | 48697.837028           | 7.3               |\n",
    "| Denmark       | 55938.212809           | 7.6               |\n",
    "| United States | 60235.728492           | 6.9               |\n",
    "\n",
    "Let’s plot the data for these countries:\n",
    "\n",
    "<center>\n",
    "  <img \n",
    "    src=\"../images/01/money_happy.png\" \n",
    "    onerror=\"\n",
    "      this.onerror = null;\n",
    "      const repo = 'https://github.com/alirezatheh/handson-ml3-notes/blob/main';\n",
    "      this.src = repo + this.src.split('..')[1];\n",
    "    \"\n",
    "  >\n",
    "</center>\n",
    "\n",
    "Although the data is noisy, it looks like life satisfaction goes up more or less linearly as the country’s GDP per capita increases. So we decide to model life satisfaction as a linear function of GDP per capita. This step is called *model selection*.\n",
    "\n",
    "**Equation 1-1** A simple linear model\n",
    "$$\n",
    "\\text{life$\\_$satisfaction}=\\theta_0+\\theta_1\\times\\text{GDP$\\_$per$\\_$capita}\n",
    "$$\n",
    "\n",
    "We need to define the model’s parameter values $\\theta_0$ and $\\theta_1$ and in order to know which values will make our model perform best, we need to specify a performance measure. Either a *utility function* (or *fitness function*) that measures how *good* the model is, or a *cost function* that measures how *bad* it is. For linear regression problems, people typically use a cost function.\n",
    "\n",
    "**Example 1-1** Training and running a linear model using Scikit-Learn"
   ]
  },
  {
   "cell_type": "code",
   "execution_count": 1,
   "metadata": {
    "slideshow": {
     "slide_type": ""
    },
    "tags": []
   },
   "outputs": [
    {
     "data": {
      "image/png": "[encoded data removed]",
      "text/plain": [
       "<Figure size 432x288 with 1 Axes>"
      ]
     },
     "metadata": {
      "needs_background": "light"
     },
     "output_type": "display_data"
    },
    {
     "name": "stdout",
     "output_type": "stream",
     "text": [
      "[[6.30165767]]\n"
     ]
    }
   ],
   "source": [
    "import matplotlib.pyplot as plt\n",
    "import numpy as np\n",
    "import pandas as pd\n",
    "from sklearn.linear_model import LinearRegression\n",
    "\n",
    "# Make this notebook’s output stable across runs\n",
    "np.random.seed(42)\n",
    "\n",
    "# Download and prepare the data\n",
    "data_root = 'https://github.com/ageron/data/raw/main/'\n",
    "lifesat = pd.read_csv(data_root + 'lifesat/lifesat.csv')\n",
    "X = lifesat[['GDP per capita (USD)']].values\n",
    "y = lifesat[['Life satisfaction']].values\n",
    "\n",
    "# The next 5 lines define the default font sizes\n",
    "plt.rc('font', size=14)\n",
    "plt.rc('axes', labelsize=14, titlesize=14)\n",
    "plt.rc('legend', fontsize=14)\n",
    "plt.rc('xtick', labelsize=10)\n",
    "plt.rc('ytick', labelsize=10)\n",
    "\n",
    "# Visualize the data\n",
    "lifesat.plot(\n",
    "    kind='scatter', grid=True, x='GDP per capita (USD)', y='Life satisfaction'\n",
    ")\n",
    "plt.axis([23_500, 62_500, 4, 9])\n",
    "plt.show()\n",
    "\n",
    "# Select a linear model\n",
    "model = LinearRegression()\n",
    "\n",
    "# Train the model\n",
    "model.fit(X, y)\n",
    "\n",
    "# Make a prediction for Cyprus\n",
    "# Cyprus’ GDP per capita in 2020\n",
    "X_new = [[37_655.2]]\n",
    "# outputs [[6.30165767]]\n",
    "print(model.predict(X_new))"
   ]
  },
  {
   "cell_type": "markdown",
   "metadata": {
    "slideshow": {
     "slide_type": ""
    },
    "tags": []
   },
   "source": [
    "Replacing the Linear Regression model with *k*-Nearest Neighbors (in this example, $k=3$) regression in the previous code is as simple as replacing these two lines:\n",
    "\n",
    "```python\n",
    "from sklearn.linear_model import LinearRegression\n",
    "\n",
    "model = LinearRegression()\n",
    "```\n",
    "\n",
    "with these two:\n",
    "\n",
    "```python\n",
    "from sklearn.neighbors import KNeighborsRegressor\n",
    "\n",
    "model = KNeighborsRegressor(n_neighbors=3)\n",
    "```"
   ]
  },
  {
   "cell_type": "code",
   "execution_count": 2,
   "metadata": {},
   "outputs": [
    {
     "name": "stdout",
     "output_type": "stream",
     "text": [
      "[[6.33333333]]\n"
     ]
    }
   ],
   "source": [
    "# Select a 3-Nearest Neighbors regression model\n",
    "from sklearn.neighbors import KNeighborsRegressor\n",
    "\n",
    "model = KNeighborsRegressor(n_neighbors=3)\n",
    "\n",
    "# Train the model\n",
    "model.fit(X, y)\n",
    "\n",
    "# Make a prediction for Cyprus\n",
    "# outputs [[6.33333333]]\n",
    "print(model.predict(X_new))"
   ]
  },
  {
   "cell_type": "markdown",
   "metadata": {},
   "source": [
    "## Main Challenges of Machine Learning\n",
    "The two things that can go wrong are “bad model” and “bad data”."
   ]
  },
  {
   "cell_type": "markdown",
   "metadata": {},
   "source": [
    "### Insufficient Quantity of Training Data\n",
    "It takes a lot of data for most ML algorithms to work properly. Even for simple \n",
    "problems we need thousands of examples, and for complex problems such as image \n",
    "or speech recognition we may need millions of examples."
   ]
  },
  {
   "cell_type": "markdown",
   "metadata": {},
   "source": [
    "<div style=\"border: 1px solid;\">\n",
    "\n",
    "#### The Unreasonable Effectiveness of Data\n",
    "In a famous paper published in 2001 [“Scaling to Very Very Large Corpora for Natural Language Disambiguation”](https://homl.info/6), Microsoft researchers Michele Banko and Eric Brill showed that very different machine learning algorithms, including fairly simple ones, performed almost identically well on a complex problem of natural language disambiguation (e.g. knowing whether to write “to”, “two”, or “too”, depending on the context) once they were given enough data.\n",
    "\n",
    "<center>\n",
    "  <img \n",
    "    src=\"../images/01/the_unreasonable_effectiveness_of_data.png\" \n",
    "    onerror=\"\n",
    "      this.onerror = null;\n",
    "      const repo = 'https://github.com/alirezatheh/handson-ml3-notes/blob/main';\n",
    "      this.src = repo + this.src.split('..')[1];\n",
    "    \"\n",
    "  >\n",
    "</center>\n",
    "\n",
    "The idea that data matters more than algorithms for complex problems was further popularized by Peter Norvig et al. in a paper titled [“The Unreasonable Effectiveness of Data”](https://homl.info/7), published in 2009.\n",
    "</div>"
   ]
  },
  {
   "cell_type": "markdown",
   "metadata": {},
   "source": [
    "### Nonrepresentative Training Data\n",
    "In order to generalize well, it is crucial that our training data be representative of the new cases we want to generalize to. If the sample is too small, we will have *sampling noise* (i.e., nonrepresentative data as a result of chance), but even very large samples can be nonrepresentative if the sampling method is flawed. This is called *sampling bias*.\n",
    "\n",
    "<center>\n",
    "  <img \n",
    "    src=\"../images/01/representative_training_data.png\"\n",
    "    onerror=\"\n",
    "      this.onerror = null;\n",
    "      const repo = 'https://github.com/alirezatheh/handson-ml3-notes/blob/main';\n",
    "      this.src = repo + this.src.split('..')[1];\n",
    "    \"\n",
    "  >\n",
    "</center>"
   ]
  },
  {
   "cell_type": "markdown",
   "metadata": {},
   "source": [
    "### Poor-Quality Data\n",
    "If our training data is full of errors, outliers, and noise (e.g., due to poor-quality measurements), it will make it harder for the system to detect the underlying patterns."
   ]
  },
  {
   "cell_type": "markdown",
   "metadata": {},
   "source": [
    "### Irrelevant Features\n",
    "As the saying goes: garbage in, garbage out. A critical part of the success of a machine learning project is coming up with a good set of features to train on. This process, called *feature engineering*, involves the following steps:\n",
    "- Feature selection (selecting the most useful features to train on among existing features)\n",
    "- Feature extraction (combining existing features to produce a more useful one)\n",
    "- Creating new features by gathering new data"
   ]
  },
  {
   "cell_type": "markdown",
   "metadata": {},
   "source": [
    "### Overfitting the Training Data\n",
    "Means that the model performs well on the training data, but it does not generalize well. Overfitting happens when the model is too complex relative to the amount and noisiness of the training data. Here are possible solutions:\n",
    "- Simplify the model by:\n",
    "  - Selecting one with fewer parameters\n",
    "  - Reducing the number of attributes in the training data\n",
    "  - Constraining the model\n",
    "- Gather more training data.\n",
    "- Reduce the noise in the training data (e.g., fix data errors and remove outliers).\n",
    "\n",
    "<center>\n",
    "  <img \n",
    "    src=\"../images/01/overfitting_model.png\"\n",
    "    onerror=\"\n",
    "      this.onerror = null;\n",
    "      const repo = 'https://github.com/alirezatheh/handson-ml3-notes/blob/main';\n",
    "      this.src = repo + this.src.split('..')[1];\n",
    "    \"\n",
    "  >\n",
    "</center>\n",
    "\n",
    "Constraining a model to make it simpler and reduce the risk of overfitting is called *regularization*. The amount of regularization to apply during learning can be controlled by a *hyperparameter*. A hyperparameter is a parameter of a learning algorithm (not of the model)."
   ]
  },
  {
   "cell_type": "markdown",
   "metadata": {},
   "source": [
    "### Underfitting the Training Data\n",
    "It occurs when our model is too simple to learn the underlying structure of the data.\n",
    "\n",
    "Solutions:\n",
    "- Select a more powerful model, with more parameters.\n",
    "- Feed better features to the learning algorithm (feature engineering).\n",
    "- Reduce the constraints on the model."
   ]
  },
  {
   "cell_type": "markdown",
   "metadata": {},
   "source": [
    "## Testing and Validating\n",
    "Split our data into two sets: the *training set* and the *test set*. Train the model using the training set, and test it using the test set. The error rate on new cases is called the *generalization error* (or *out-of-sample error*), and by evaluating our model on the test set, we get an estimate of this error. If the training error is low but the generalization error is high, it means that our model is overfitting the training data.\n",
    "\n",
    "**Tip**: It is common to use 80% of the data for training and *hold out* 20% for testing. But if size of the dataset is large (> 1 million) 1% for test is more than enough."
   ]
  },
  {
   "cell_type": "markdown",
   "metadata": {},
   "source": [
    "### Hyperparameter Tuning and Model Selection\n",
    "If we measure generalization error multiple times on the test set, and adapt the model and hyperparameters to produce the best model for that *particular set*, the model is unlikely to perform as well on new data.\n",
    "\n",
    "A common solution to this problem is called *holdout validation*: simply hold out part of the training set to evaluate several candidate models and select the best one. The new held-out set is called the *validation set* (or the *development set*, or *dev set*).\n",
    "- Train multiple models with various hyperparameters on the reduced training set (i.e., the full training set minus the validation set).\n",
    "- Select the model that performs best on the validation set.\n",
    "- Retrain the best model on the full training set (including the validation set).\n",
    "- Estimate the generalization error on test set.\n",
    "\n",
    "If the validation set is too small, then the model evaluations will be imprecise. If the validation set is too large, then the remaining training set will be much smaller than the full training set. It is like selecting the fastest sprinter to participate in a marathon.\n",
    "\n",
    "The solution is to perform repeated *cross-validation*, using many small validation sets. Each model is evaluated once per validation set after it is trained on the rest of the data. By averaging out all the evaluations of a model, we get a much more accurate measure of its performance.\n",
    "\n",
    "There is a drawback: the training time is multiplied by the number of validation sets."
   ]
  },
  {
   "cell_type": "markdown",
   "metadata": {},
   "source": [
    "### Data Mismatch\n",
    "Sometimes we have a large amount of data downloaded from the web and nonrepresentative of the data that will be used in production. In this case it is important to keep both validation and test sets as representative as possible.\n",
    "\n",
    "But if we observe that the validation error is bad, we will not know whether this is because the model is overfiting, or it is just due to the mismatch between the validation and test sets.\n",
    "\n",
    "The solution is to hold out some of the training data in yet another set that Andrew Ng dubbed the *train-dev set*.\n",
    "\n",
    "<center>\n",
    "  <img \n",
    "    src=\"../images/01/train_dev_set.png\" \n",
    "    onerror=\"\n",
    "      this.onerror = null;\n",
    "      const repo = 'https://github.com/alirezatheh/handson-ml3-notes/blob/main';\n",
    "      this.src = repo + this.src.split('..')[1];\n",
    "    \"\n",
    "  >\n",
    "</center>\n",
    "\n",
    "After the model is trained, we can evaluate it on the train-dev set. If it performs poorly, then it must have overfit the training set. But if it performs well on the train-dev set, then we evaluate the model on the dev set. If it performs poorly, then the problem must be coming from the data mismatch. We can try to tackle this problem by preprocessing the downloaded data to make them look more like the production data, and then retraining the model."
   ]
  },
  {
   "cell_type": "markdown",
   "metadata": {},
   "source": [
    "<div style=\"border: 1px solid;\">\n",
    "\n",
    "#### No Free Lunch Theorem\n",
    "In a famous 1996 paper [“The Lack of A Priori Distinctions Between Learning Algorithms”](https://homl.info/8), David Wolpert demonstrated that if we make absolutely no assumption about the data, then there is no reason to prefer one model over any other. The only way to know for sure which model is best is to evaluate them all. Since this is not possible, in practice we make some reasonable assumptions about the data and evaluate only a few reasonable models.\n",
    "</div>"
   ]
  },
  {
   "cell_type": "markdown",
   "metadata": {},
   "source": [
    "## Exercises\n",
    "1. How would we define machine learning?\n",
    "> Machine learning is about building systems that can learn from data. Learning means getting better at some task, given some performance measure.\n",
    "2. Can we name four types of applications where it shines?\n",
    "> Machine learning is great for complex problems for which we have no  algorithmic solution, to replace long lists of hand-tuned rules, to build systems that adapt to fluctuating environments, and finally to help humans learn (e.g., data mining).\n",
    "3. What is a labeled training set?\n",
    "> A training set that contains the desired solution (a.k.a. a label) for each instance.\n",
    "4. What are the two most common supervised tasks?\n",
    "> The two most common supervised tasks are regression and classification.\n",
    "5. Can we name four common unsupervised tasks?\n",
    "> Clustering, visualization, dimensionality reduction, and association rule learning.\n",
    "6. What type of algorithm would we use to allow a robot to walk in various unknown terrains?\n",
    "> Reinforcement learning, since this is typically the type of problem that reinforcement learning tackles. It might be possible to express the problem as a supervised or semi-supervised learning problem, but it would be less natural.\n",
    "7. What type of algorithm would we use to segment our customers into multiple groups?\n",
    "> If we don’t know how to define the groups, then we can use a clustering algorithm (unsupervised learning) to segment our customers into clusters of similar customers. However, if we know what groups we would like to have, then we can feed many examples of each group to a classification algorithm (supervised learning), and it will classify all our customers into these groups.\n",
    "8. Would we frame the problem of spam detection as a supervised learning problem or an unsupervised learning problem?\n",
    "> Supervised learning: the algorithm is fed many emails along with their labels (spam or not spam).\n",
    "9. What is an online learning system?\n",
    "> An online learning system can learn incrementally, as opposed to a batch learning system. This makes it capable of adapting rapidly to both changing data and autonomous systems, and of training on very large quantities of data.\n",
    "10. What is out-of-core learning?\n",
    "> Out-of-core algorithms can handle vast quantities of data that cannot fit in a computer’s main memory. An out-of-core learning algorithm chops the data into mini-batches and uses online learning techniques to learn from these mini-batches.\n",
    "11. What type of algorithm relies on a similarity measure to make predictions?\n",
    "> An instance-based learning system learns the training data by heart; then, when given a new instance, it uses a similarity measure to find the most similar learned instances and uses them to make predictions.\n",
    "12. What is the difference between a model parameter and a model hyperparameter?\n",
    "> A model has one or more model parameters that determine what it will predict given a new instance (e.g., the slope of a linear model). A learning algorithm tries to find optimal values for these parameters such that the model generalizes well to new instances. A hyperparameter is a parameter of the learning algorithm itself, not of the model (e.g., the amount of regularization to apply).\n",
    "13. What do model-based algorithms search for? What is the most common strategy they use to succeed? How do they make predictions?\n",
    "> Model-based learning algorithms search for an optimal value for the model parameters such that the model will generalize well to new instances. We usually train such systems by minimizing a cost function that measures how bad the system is at making predictions on the training data, plus a penalty for model complexity if the model is regularized. To make predictions, we feed the new instance’s features into the model’s prediction function, using the parameter values found by the learning algorithm.\n",
    "14. Can we name four of the main challenges in machine learning?\n",
    "> The lack of data, poor data quality, nonrepresentative data, uninformative features, excessively simple models that underfit the training data, and excessively complex models that overfit the data.\n",
    "15. If our model performs great on the training data but generalizes poorly to new instances, what is happening? Can we name three possible solutions?\n",
    "> The model is likely overfitting the training data (or we got extremely lucky on the training data). Possible solutions to overfitting are getting more data, simplifying the model (selecting a simpler algorithm, reducing the number of parameters or features used, or regularizing the model), or reducing the noise in the training data.\n",
    "16. What is a test set, and why would we want to use it?\n",
    "> A test set is used to estimate the generalization error that a model will make on new instances, before the model is launched in production.\n",
    "17. What is the purpose of a validation set?\n",
    "> A validation set is used to compare models. It makes it possible to select the best model and tune the hyperparameters.\n",
    "18. What is the train-dev set, when do we need it, and how do we use it?\n",
    "> The train-dev set is used when there is a risk of mismatch between the training data and the data used in the validation and test datasets (which should always be as close as possible to the data used once the model is in production). The train-dev set is a part of the training set that’s held out (the model is not trained on it). The model is trained on the rest of the training set, and evaluated on both the train-dev set and the validation set. If the model performs well on the training set but not on the train-dev set, then the model is likely overfitting the training set If it performs well on both the training set and the train-dev set, but not on the validation set, then there is probably a significant data mismatch between the training data and the validation + test data, and we should try to improve the training data to make it look more like the validation + test data.\n",
    "19. What can go wrong if we tune hyperparameters using the test set?\n",
    "> If we tune hyperparameters using the test set, we risk overfitting the test set, and the generalization error we measure will be optimistic (we may launch a model that performs worse than we expect)."
   ]
  }
 ],
 "metadata": {
  "kernelspec": {
   "display_name": "Python 3 (ipykernel)",
   "language": "python",
   "name": "python3"
  },
  "language_info": {
   "codemirror_mode": {
    "name": "ipython",
    "version": 3
   },
   "file_extension": ".py",
   "mimetype": "text/x-python",
   "name": "python",
   "nbconvert_exporter": "python",
   "pygments_lexer": "ipython3",
   "version": "3.10.4"
  },
  "metadata": {
   "interpreter": {
    "hash": "22b0ec00cd9e253c751e6d2619fc0bb2d18ed12980de3246690d5be49479dd65"
   }
  },
  "nav_menu": {},
  "toc": {
   "navigate_menu": true,
   "number_sections": true,
   "sideBar": true,
   "threshold": 6,
   "toc_cell": false,
   "toc_section_display": "block",
   "toc_window_display": true
  },
  "toc_position": {
   "height": "616px",
   "left": "0px",
   "right": "20px",
   "top": "106px",
   "width": "213px"
  }
 },
 "nbformat": 4,
 "nbformat_minor": 4
}
