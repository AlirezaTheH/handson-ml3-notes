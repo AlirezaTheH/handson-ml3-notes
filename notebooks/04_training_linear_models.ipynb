{
 "cells": [
  {
   "cell_type": "markdown",
   "metadata": {},
   "source": [
    "<table align=\"left\">\n",
    "  <td>\n",
    "    <a\n",
    "      href=\"https://colab.research.google.com/github/ageron/handson-ml3/blob/main/04_training_linear_models.ipynb\"\n",
    "      target=\"_blank\"\n",
    "    >\n",
    "      <img\n",
    "        src=\"https://colab.research.google.com/assets/colab-badge.svg\"\n",
    "        alt=\"Open In Colab\"\n",
    "      >\n",
    "    </a>\n",
    "  </td>\n",
    "  <td>\n",
    "    <a\n",
    "      href=\"https://kaggle.com/kernels/welcome?src=https://github.com/ageron/handson-ml3/blob/main/04_training_linear_models.ipynb\"\n",
    "      target=\"_blank\"\n",
    "    >\n",
    "      <img\n",
    "        src=\"https://kaggle.com/static/images/open-in-kaggle.svg\"\n",
    "        alt=\"Open In Kaggle\"\n",
    "      >\n",
    "    </a>\n",
    "  </td>\n",
    "</table>"
   ]
  },
  {
   "cell_type": "markdown",
   "metadata": {},
   "source": [
    "# Chapter 4 – Training Models"
   ]
  },
  {
   "cell_type": "markdown",
   "metadata": {},
   "source": [
    "## Linear Regression\n",
    "A linear model makes a prediction by simply computing a weighted sum of the input features, plus a constant called the *bias term* (also called the *intercept term*).\n",
    "\n",
    "**Equation 4-1** Linear regression model prediction\n",
    "$$\n",
    "\\widehat{y}=\\theta_0+\\theta_1x_1+\\theta_2x_2+\\dots+\\theta_nx_n\n",
    "$$\n",
    "- $\\widehat{y}$: The predicted value\n",
    "- $n$: The number of features\n",
    "- $x_i$: The $i^{\\text{th}}$ feature value\n",
    "- $\\theta_j$: The $j^{\\text{th}}$ model parameter, including the bias term $\\theta_0$ and the feature weights $\\theta_1$, $\\theta_2$, $\\dots$, $\\theta_n$\n",
    "\n",
    "A vectorized form:\n",
    "\n",
    "**Equation 4-2** Linear regression model prediction (vectorized form)\n",
    "$$\n",
    "\\widehat{y}=h_{\\boldsymbol{\\theta}}(\\mathbf{x})=\\boldsymbol{\\theta}\\cdot\\mathbf{x}\n",
    "$$\n",
    "- $h_{\\boldsymbol{\\theta}}$: The hypothesis function, using the model parameters $\\boldsymbol{\\theta}$\n",
    "- $\\boldsymbol{\\theta}$: The model’s *parameter vector*, containing the bias term $\\theta_0$ and the feature weights $\\theta_1$, $\\theta_2$, $\\dots$, $\\theta_n$\n",
    "- $\\mathbf{x}$: The instance’s *feature vector*, containing $x_0$ to $x_n$, with $x_0$ always equal to 1\n",
    "- $\\boldsymbol{\\theta}\\cdot\\mathbf{x}$: The dot product of the vectors $\\boldsymbol{\\theta}$ and $\\mathbf{x}$, which is equal to $\\theta_0x_0+\\theta_1x_1+\\theta_2x_2+\\dots+\\theta_nx_n$\n",
    "\n",
    "**Note**: In machine learning, vectors are often represented as *column vectors*, which are 2D arrays with a single column. If $\\boldsymbol{\\theta}$ and $\\mathbf{x}$ are column vectors, then the prediction is $\\widehat{y}=\\boldsymbol{\\theta}^\\top\\mathbf{x}$, where $\\boldsymbol{\\theta}^\\top\\mathbf{x}$ is the matrix multiplication of $\\boldsymbol{\\theta}^\\top$ and $\\mathbf{x}$. It is the same prediction, except that it is now represented as a single-cell matrix rather than a scalar value. We will use this notation to avoid switching between dot products and matrix multiplications."
   ]
  },
  {
   "cell_type": "markdown",
   "metadata": {},
   "source": [
    "### The Normal Equation\n",
    "To find the value of $\\boldsymbol{\\theta}$ that minimizes the MSE, there exists a *closed-form solution*, in other words, a mathematical equation that gives the result directly.\n",
    "\n",
    "**Equation 4-4** Normal equation\n",
    "$$\n",
    "\\widehat{\\boldsymbol{\\theta}}\n",
    "=\\left(\\mathbf{X}^{\\top}\\mathbf{X}\\right)^{-1}\\mathbf{X}^{\\top}\\mathbf{y}\n",
    "$$\n",
    "- $\\widehat{\\boldsymbol{\\theta}}$: The value of $\\boldsymbol{\\theta}$ that minimizes the cost function\n",
    "- $\\mathbf{y}$: The vector of target values containing $y^{(1)}$ to $y^{(m)}$\n",
    "\n",
    "Let's implement it:"
   ]
  },
  {
   "cell_type": "code",
   "execution_count": 1,
   "metadata": {},
   "outputs": [],
   "source": [
    "import numpy as np\n",
    "\n",
    "# To make this code example reproducible\n",
    "np.random.seed(42)\n",
    "# Number of instances\n",
    "m = 100\n",
    "# Column vector\n",
    "X = 2 * np.random.rand(m, 1)\n",
    "# Column vector\n",
    "y = 4 + 3 * X + np.random.randn(m, 1)"
   ]
  },
  {
   "cell_type": "code",
   "execution_count": 2,
   "metadata": {},
   "outputs": [],
   "source": [
    "from sklearn.preprocessing import add_dummy_feature\n",
    "\n",
    "# Add x0 = 1 to each instance\n",
    "X_b = add_dummy_feature(X)\n",
    "theta_best = np.linalg.inv(X_b.T @ X_b) @ X_b.T @ y"
   ]
  },
  {
   "cell_type": "code",
   "execution_count": 3,
   "metadata": {},
   "outputs": [
    {
     "data": {
      "text/plain": [
       "array([[4.21509616],\n",
       "       [2.77011339]])"
      ]
     },
     "execution_count": 3,
     "metadata": {},
     "output_type": "execute_result"
    }
   ],
   "source": [
    "theta_best"
   ]
  },
  {
   "cell_type": "code",
   "execution_count": 4,
   "metadata": {},
   "outputs": [
    {
     "data": {
      "text/plain": [
       "array([[4.21509616],\n",
       "       [9.75532293]])"
      ]
     },
     "execution_count": 4,
     "metadata": {},
     "output_type": "execute_result"
    }
   ],
   "source": [
    "X_new = np.array([[0], [2]])\n",
    "# add x0 = 1 to each instance\n",
    "X_new_b = add_dummy_feature(X_new)\n",
    "y_predict = X_new_b @ theta_best\n",
    "y_predict"
   ]
  },
  {
   "cell_type": "code",
   "execution_count": 5,
   "metadata": {},
   "outputs": [
    {
     "data": {
      "image/png": "[encoded data removed]",
      "text/plain": [
       "<Figure size 432x288 with 1 Axes>"
      ]
     },
     "metadata": {
      "needs_background": "light"
     },
     "output_type": "display_data"
    }
   ],
   "source": [
    "import matplotlib.pyplot as plt\n",
    "\n",
    "plt.rc('font', size=14)\n",
    "plt.rc('axes', labelsize=14, titlesize=14)\n",
    "plt.rc('legend', fontsize=14)\n",
    "plt.rc('xtick', labelsize=10)\n",
    "plt.rc('ytick', labelsize=10)\n",
    "\n",
    "plt.figure(figsize=(6, 4))\n",
    "plt.plot(X_new, y_predict, 'r-', label='Predictions')\n",
    "plt.plot(X, y, 'b.')\n",
    "\n",
    "plt.xlabel('$x_1$')\n",
    "plt.ylabel('$y$', rotation=0)\n",
    "plt.axis([0, 2, 0, 15])\n",
    "plt.grid()\n",
    "plt.legend(loc='upper left')\n",
    "\n",
    "plt.show()"
   ]
  },
  {
   "cell_type": "markdown",
   "metadata": {},
   "source": [
    "We can also use Scikit-Learn's `LinearRegression`:"
   ]
  },
  {
   "cell_type": "code",
   "execution_count": 6,
   "metadata": {},
   "outputs": [
    {
     "data": {
      "text/plain": [
       "(array([4.21509616]), array([[2.77011339]]))"
      ]
     },
     "execution_count": 6,
     "metadata": {},
     "output_type": "execute_result"
    }
   ],
   "source": [
    "from sklearn.linear_model import LinearRegression\n",
    "\n",
    "lin_reg = LinearRegression()\n",
    "lin_reg.fit(X, y)\n",
    "lin_reg.intercept_, lin_reg.coef_"
   ]
  },
  {
   "cell_type": "code",
   "execution_count": 7,
   "metadata": {},
   "outputs": [
    {
     "data": {
      "text/plain": [
       "array([[4.21509616],\n",
       "       [9.75532293]])"
      ]
     },
     "execution_count": 7,
     "metadata": {},
     "output_type": "execute_result"
    }
   ],
   "source": [
    "lin_reg.predict(X_new)"
   ]
  },
  {
   "cell_type": "markdown",
   "metadata": {},
   "source": [
    "The `LinearRegression` class is based on the `scipy.linalg.lstsq()` function (the name stands for \"least squares\"), which we could call directly:"
   ]
  },
  {
   "cell_type": "code",
   "execution_count": 8,
   "metadata": {},
   "outputs": [
    {
     "data": {
      "text/plain": [
       "array([[4.21509616],\n",
       "       [2.77011339]])"
      ]
     },
     "execution_count": 8,
     "metadata": {},
     "output_type": "execute_result"
    }
   ],
   "source": [
    "theta_best_svd, residuals, rank, s = np.linalg.lstsq(X_b, y, rcond=1e-6)\n",
    "theta_best_svd"
   ]
  },
  {
   "cell_type": "markdown",
   "metadata": {},
   "source": [
    "This function computes $\\mathbf{X}^+\\mathbf{y}$, where $\\mathbf{X}^{+}$ is the *pseudoinverse* of $\\mathbf{X}$ (specifically the Moore-Penrose inverse). We can use `np.linalg.pinv()` to compute the pseudoinverse directly:"
   ]
  },
  {
   "cell_type": "code",
   "execution_count": 9,
   "metadata": {},
   "outputs": [
    {
     "data": {
      "text/plain": [
       "array([[4.21509616],\n",
       "       [2.77011339]])"
      ]
     },
     "execution_count": 9,
     "metadata": {},
     "output_type": "execute_result"
    }
   ],
   "source": [
    "np.linalg.pinv(X_b) @ y"
   ]
  },
  {
   "cell_type": "markdown",
   "metadata": {
    "collapsed": false,
    "jupyter": {
     "outputs_hidden": false
    }
   },
   "source": [
    "The pseudoinverse is computed using a standard matrix factorization technique called *singular value decomposition* (SVD) that can decompose $\\mathbf{X}$ into $\\mathbf{U}\\mathbf{\\Sigma}\\mathbf{V}^\\top$ (see `np.linalg.svd()`) and pseudoinverse is computed as\n",
    "$\\mathbf{X}^+=\\mathbf{V}\\mathbf{\\Sigma}^+\\mathbf{U}^\\top$. To compute the matrix $\\mathbf{\\Sigma}^+$, the algorithm takes $\\mathbf{\\Sigma}$ and sets to zero all values smaller than a tiny threshold value, then it replaces all the nonzero values with their inverse, and finally it transposes the result. This approach is more efficient than the Normal equation, and handles edge cases nicely: Work if the matrix $\\mathbf{X}^{\\top}\\mathbf{X}$ is not invertible (i.e., singular), such as if $m<n$ or if some features are redundant."
   ]
  },
  {
   "cell_type": "markdown",
   "metadata": {},
   "source": [
    "### Computational Complexity\n",
    "- Normal Equation: Computing the inverse of $\\mathbf{X}^{\\top}\\mathbf{X}$ which is an $(n+1)\\times(n+1)$ matrix, takes $O(n^{2.4})$ to $O(n^3)$. depending on the implementation.\n",
    "- SVD: $O(n^2)$\n",
    "\n",
    "**Warning**: Both scale well with $m$ but poorly with $n$."
   ]
  },
  {
   "cell_type": "markdown",
   "metadata": {},
   "source": [
    "## Gradient Descent\n",
    "It's a generic optimization algorithm whose idea is to tweak parameters iteratively in order to minimize a cost function. It measures the local\n",
    "gradient of the error function with regard to the parameter vector $\\boldsymbol{\\theta}$, and it goes in the direction of descending gradient. Once the gradient is zero, we have reached a minimum.\n",
    "\n",
    "In practice, we start by filling $\\boldsymbol{\\theta}$ with random values (this is called *random initialization*). Then improve it gradually, taking one baby step at a time, each step attempting to decrease the cost function (e.g., the MSE), until the algorithm *converges* to a minimum. Size of the steps, determined by the *learning rate* hyperparameter.\n",
    "\n",
    "<center>\n",
    "  <img \n",
    "    src=\"../images/04/gradient_descent.png\" \n",
    "    onerror=\"\n",
    "      this.onerror = null;\n",
    "      const repo = 'https://github.com/alirezatheh/handson-ml3-notes/blob/main';\n",
    "      this.src = repo + this.src.split('..')[1];\n",
    "    \"\n",
    "  >\n",
    "</center>\n",
    "\n",
    "If the learning rate is too small, then the algorithm will have to go through many iterations to converge.\n",
    "\n",
    "<center>\n",
    "  <img \n",
    "    src=\"../images/04/learning_rate_too_small.png\" \n",
    "    onerror=\"\n",
    "      this.onerror = null;\n",
    "      const repo = 'https://github.com/alirezatheh/handson-ml3-notes/blob/main';\n",
    "      this.src = repo + this.src.split('..')[1];\n",
    "    \"\n",
    "  >\n",
    "</center>\n",
    "\n",
    "If the learning rate is too high, we might jump across the valley and end up on the other side, possibly even higher up than we were before. This might make the algorithm diverge.\n",
    "\n",
    "<center>\n",
    "  <img \n",
    "    src=\"../images/04/learning_rate_too_high.png\" \n",
    "    onerror=\"\n",
    "      this.onerror = null;\n",
    "      const repo = 'https://github.com/alirezatheh/handson-ml3-notes/blob/main';\n",
    "      this.src = repo + this.src.split('..')[1];\n",
    "    \"\n",
    "  >\n",
    "</center>\n",
    "\n",
    "The MSE is a *convex function*, which means that if we pick any two points on the curve, the line segment joining them is never below the curve. It is also a continuous function with a slope that never changes abruptly (Technically speaking, its derivative is *Lipschitz continuous*). Consequence? gradient descent is guaranteed to approach arbitrarily closely the global minimum (if we wait long enough and learning rate is not too high).\n",
    "\n",
    "But, not all cost functions look like nice, regular bowls. There may be holes, ridges, plateaus, and all sorts of irregular terrain, making convergence to the minimum difficult.\n",
    "\n",
    "<center>\n",
    "  <img \n",
    "    src=\"../images/04/gradient_descent_pitfalls.png\" \n",
    "    onerror=\"\n",
    "      this.onerror = null;\n",
    "      const repo = 'https://github.com/alirezatheh/handson-ml3-notes/blob/main';\n",
    "      this.src = repo + this.src.split('..')[1];\n",
    "    \"\n",
    "  >\n",
    "</center>\n",
    "\n",
    "**Warning**: When using gradient descent, we should ensure that all features have a similar scale, or else it will take much longer to converge."
   ]
  },
  {
   "cell_type": "markdown",
   "metadata": {},
   "source": [
    "### Batch Gradient Descent\n",
    "Let's do the derivatives:\n",
    "\n",
    "**Equation 4-5** Partial derivatives of the cost function\n",
    "$$\n",
    "\\frac{\\partial}{\\partial{\\theta_j}}\\text{MSE}(\\boldsymbol{\\theta})\n",
    "=\\frac{2}{m}\\sum_{i=1}^m\n",
    "\\left(\\boldsymbol{\\theta}^\\top\\mathbf{x}^{(i)}-y^{(i)}\\right)x_j^{(i)}\n",
    "$$\n",
    "\n",
    "**Equation 4-6** Gradient vector of the cost function\n",
    "$$\n",
    "\\nabla_{\\boldsymbol{\\theta}}\\text{MSE}(\\boldsymbol{\\theta})\n",
    "=\\begin{pmatrix}\n",
    "\\frac{\\partial}{\\partial{\\theta_0}}\\text{MSE}(\\boldsymbol{\\theta})\n",
    "\\\\\\vdots\n",
    "\\\\\\frac{\\partial}{\\partial{\\theta_n}}\\text{MSE}(\\boldsymbol{\\theta})\n",
    "\\end{pmatrix}\n",
    "=\\frac{2}{m}\\mathbf{X}^\\top(\\mathbf{X}\\boldsymbol{\\theta}-\\mathbf{y})\n",
    "$$\n",
    "\n",
    "**Warning**: This formula involves calculations over the full training set, at each gradient descent step! This is why the algorithm is called *batch gradient descent*. It scales poorly with $m$ but good with $n$, Unlike SVD.\n",
    "\n",
    "**Equation 4-7** Gradient descent step\n",
    "$$\n",
    "\\boldsymbol{\\theta}^{(\\text{next step})}\n",
    "=\\boldsymbol{\\theta}-\\eta\\nabla_{\\boldsymbol{\\theta}}\\text{MSE}(\\boldsymbol{\\theta})\n",
    "$$\n",
    "- $\\eta$: Learning rate\n",
    "\n",
    "Let's implement it:"
   ]
  },
  {
   "cell_type": "code",
   "execution_count": 10,
   "metadata": {},
   "outputs": [],
   "source": [
    "# Learning rate\n",
    "eta = 0.1\n",
    "n_epochs = 1000\n",
    "# Number of instances\n",
    "m = len(X_b)\n",
    "\n",
    "np.random.seed(42)\n",
    "# Randomly initialized model parameters\n",
    "theta = np.random.randn(2, 1)\n",
    "\n",
    "for epoch in range(n_epochs):\n",
    "    gradients = 2 / m * X_b.T @ (X_b @ theta - y)\n",
    "    theta = theta - eta * gradients"
   ]
  },
  {
   "cell_type": "markdown",
   "metadata": {},
   "source": [
    "The trained model parameters:"
   ]
  },
  {
   "cell_type": "code",
   "execution_count": 11,
   "metadata": {},
   "outputs": [
    {
     "data": {
      "text/plain": [
       "array([[4.21509616],\n",
       "       [2.77011339]])"
      ]
     },
     "execution_count": 11,
     "metadata": {},
     "output_type": "execute_result"
    }
   ],
   "source": [
    "theta"
   ]
  },
  {
   "cell_type": "markdown",
   "metadata": {},
   "source": [
    "Each iteration over the training set is called an *epoch*.\n",
    "\n",
    "We typically set a very large number of epochs but interrupt the algorithm when the gradient vector becomes tiny (that is, when its norm becomes smaller than a tiny number $\\epsilon$ called the *tolerance*), Because this happens when gradient descent has (almost) reached the minimum.\n",
    "\n",
    "<div style=\"border: 1px solid;\">\n",
    "\n",
    "#### Convergence Rate\n",
    "When the cost function is convex and its slope does not change abruptly (just like MSE), batch gradient descent with a fixed learning rate will eventually converge to the optimal solution, but we may have to wait a while: it can take $O(1/\\epsilon)$ iterations to reach the optimum within a range of $\\epsilon$, depending on the shape of the cost function.\n",
    "</div>"
   ]
  },
  {
   "cell_type": "markdown",
   "metadata": {
    "collapsed": false,
    "jupyter": {
     "outputs_hidden": false
    }
   },
   "source": [
    "### Stochastic Gradient Descent\n",
    "At the opposite extreme, *stochastic gradient descent* picks a random instance in the training set at every step and computes the gradients based only on that single instance, so it scales well with $m$. Due to its stochastic nature, this algorithm is much less regular than batch gradient descent: instead of gently decreasing until it reaches the minimum, the cost function will bounce up and down, decreasing only on average. Over time it will end up very close to the minimum, but once it gets there it will continue to bounce around:\n",
    "\n",
    "<center>\n",
    "  <img \n",
    "    src=\"../images/04/batch_vs_stochastic_gd_convergance.png\" \n",
    "    onerror=\"\n",
    "      this.onerror = null;\n",
    "      const repo = 'https://github.com/alirezatheh/handson-ml3-notes/blob/main';\n",
    "      this.src = repo + this.src.split('..')[1];\n",
    "    \"\n",
    "  >\n",
    "</center>\n",
    "\n",
    "Randomness is good to escape from local optima, but bad because it means that the algorithm can never settle at the minimum. One solution to this dilemma is to gradually reduce the learning rate. The steps start out large (which helps make quick progress and escape local minima), then get smaller and smaller, allowing the algorithm to settle at the global minimum. The function that determines the learning rate at each iteration is called the *learning schedule*. If the learning rate is reduced\n",
    "- Too quickly, we may get stuck in a local minimum, or even end up frozen halfway to the minimum.\n",
    "- Too slowly, we may jump around the minimum for a long time and end up with a suboptimal solution if we halt training too early.\n",
    "\n",
    "**Warning**: When using stochastic gradient descent, the training instances must be independent and identically distributed (IID) to ensure that the parameters get pulled toward the global optimum, on average. A simple way to ensure this is to shuffle the instances during training.\n",
    "\n",
    "Let's implements it:"
   ]
  },
  {
   "cell_type": "code",
   "execution_count": 12,
   "metadata": {
    "collapsed": false,
    "jupyter": {
     "outputs_hidden": false
    }
   },
   "outputs": [],
   "source": [
    "n_epochs = 50\n",
    "# Learning schedule hyperparameters\n",
    "t0, t1 = 5, 50\n",
    "\n",
    "\n",
    "def learning_schedule(t: int) -> float:\n",
    "    return t0 / (t + t1)\n",
    "\n",
    "\n",
    "np.random.seed(42)\n",
    "# Random initialization\n",
    "theta = np.random.randn(2, 1)\n",
    "\n",
    "for epoch in range(n_epochs):\n",
    "    for iteration in range(m):\n",
    "        random_index = np.random.randint(m)\n",
    "        xi = X_b[random_index : random_index + 1]\n",
    "        yi = y[random_index : random_index + 1]\n",
    "        # For SGD, do not divide by m\n",
    "        gradients = 2 * xi.T @ (xi @ theta - yi)\n",
    "        eta = learning_schedule(epoch * m + iteration)\n",
    "        theta = theta - eta * gradients"
   ]
  },
  {
   "cell_type": "code",
   "execution_count": 13,
   "metadata": {
    "scrolled": true
   },
   "outputs": [
    {
     "data": {
      "text/plain": [
       "array([[4.21076011],\n",
       "       [2.74856079]])"
      ]
     },
     "execution_count": 13,
     "metadata": {},
     "output_type": "execute_result"
    }
   ],
   "source": [
    "theta"
   ]
  },
  {
   "cell_type": "markdown",
   "metadata": {},
   "source": [
    "We can also use Scikit-Learn's `SGDRegressor`:"
   ]
  },
  {
   "cell_type": "code",
   "execution_count": 14,
   "metadata": {},
   "outputs": [
    {
     "data": {
      "text/plain": [
       "SGDRegressor(n_iter_no_change=100, penalty=None, random_state=42, tol=1e-05)"
      ]
     },
     "execution_count": 14,
     "metadata": {},
     "output_type": "execute_result"
    }
   ],
   "source": [
    "from sklearn.linear_model import SGDRegressor\n",
    "\n",
    "sgd_reg = SGDRegressor(\n",
    "    max_iter=1000,\n",
    "    tol=1e-5,\n",
    "    penalty=None,\n",
    "    eta0=0.01,\n",
    "    n_iter_no_change=100,\n",
    "    random_state=42,\n",
    ")\n",
    "# y.ravel() because fit() expects 1D targets\n",
    "sgd_reg.fit(X, y.ravel())"
   ]
  },
  {
   "cell_type": "code",
   "execution_count": 15,
   "metadata": {},
   "outputs": [
    {
     "data": {
      "text/plain": [
       "(array([4.21278812]), array([2.77270267]))"
      ]
     },
     "execution_count": 15,
     "metadata": {},
     "output_type": "execute_result"
    }
   ],
   "source": [
    "sgd_reg.intercept_, sgd_reg.coef_"
   ]
  },
  {
   "cell_type": "markdown",
   "metadata": {},
   "source": [
    "**Tip**: Some Scikit-Learn estimators have a `partial_fit()` method that we can call to run a single round of training on one or more instances (it ignores hyperparameters like `max_iter` or `tol`). Other models have a `warm_start`, calling the `fit()` method with `warm_start=True` will just continue training where it left off (and some have both)."
   ]
  },
  {
   "cell_type": "markdown",
   "metadata": {
    "collapsed": false,
    "jupyter": {
     "outputs_hidden": false
    }
   },
   "source": [
    "### Mini-Batch Gradient Descent\n",
    "At each step, computes the gradients on small random sets of instances called *mini-batches*. The main advantage of mini-batch GD over stochastic GD is that we can get a performance boost from hardware optimization of matrix operations, especially when using GPUs.\n",
    "\n",
    "Comparison:\n",
    "\n",
    "| Algorithm       | Large $m$ | Out-of-core support | Large $n$ | Hyperparams | Scaling required | Scikit-Learn       |\n",
    "|:----------------|:----------|:--------------------|-----------|-------------|------------------|--------------------|\n",
    "| Normal equation | Fast      | No                  | Slow      | 0           | No               | N/A                |\n",
    "| SVD             | Fast      | No                  | Slow      | 0           | No               | `LinearRegression` |\n",
    "| Batch GD        | Slow      | No                  | Fast      | 2           | Yes              | N/A                |\n",
    "| Stochastic GD   | Fast      | Yes                 | Fast      | $\\geq$ 2    | Yes              | `SGDRegresseor`    |\n",
    "| Mini-batch GD   | Fast      | Yes                 | Fast      | $\\geq$ 2    | Yes              | N/A                |"
   ]
  },
  {
   "cell_type": "markdown",
   "metadata": {},
   "source": [
    "## Polynomial Regression\n",
    "In this technique we add powers of each feature as new features, then train a linear model on this extended set of features.\n",
    "\n",
    "Let's implement it:"
   ]
  },
  {
   "cell_type": "code",
   "execution_count": 16,
   "metadata": {},
   "outputs": [],
   "source": [
    "np.random.seed(42)\n",
    "m = 100\n",
    "X = 6 * np.random.rand(m, 1) - 3\n",
    "y = 0.5 * X**2 + X + 2 + np.random.randn(m, 1)"
   ]
  },
  {
   "cell_type": "code",
   "execution_count": 17,
   "metadata": {},
   "outputs": [
    {
     "data": {
      "text/plain": [
       "array([-0.75275929])"
      ]
     },
     "execution_count": 17,
     "metadata": {},
     "output_type": "execute_result"
    }
   ],
   "source": [
    "from sklearn.preprocessing import PolynomialFeatures\n",
    "\n",
    "poly_features = PolynomialFeatures(degree=2, include_bias=False)\n",
    "X_poly = poly_features.fit_transform(X)\n",
    "X[0]"
   ]
  },
  {
   "cell_type": "code",
   "execution_count": 18,
   "metadata": {},
   "outputs": [
    {
     "data": {
      "text/plain": [
       "array([-0.75275929,  0.56664654])"
      ]
     },
     "execution_count": 18,
     "metadata": {},
     "output_type": "execute_result"
    }
   ],
   "source": [
    "X_poly[0]"
   ]
  },
  {
   "cell_type": "code",
   "execution_count": 19,
   "metadata": {},
   "outputs": [
    {
     "data": {
      "text/plain": [
       "(array([1.78134581]), array([[0.93366893, 0.56456263]]))"
      ]
     },
     "execution_count": 19,
     "metadata": {},
     "output_type": "execute_result"
    }
   ],
   "source": [
    "lin_reg = LinearRegression()\n",
    "lin_reg.fit(X_poly, y)\n",
    "lin_reg.intercept_, lin_reg.coef_"
   ]
  },
  {
   "cell_type": "code",
   "execution_count": 20,
   "metadata": {},
   "outputs": [
    {
     "data": {
      "image/png": "[encoded data removed]",
      "text/plain": [
       "<Figure size 432x288 with 1 Axes>"
      ]
     },
     "metadata": {
      "needs_background": "light"
     },
     "output_type": "display_data"
    }
   ],
   "source": [
    "X_new = np.linspace(-3, 3, 100).reshape(100, 1)\n",
    "X_new_poly = poly_features.transform(X_new)\n",
    "y_new = lin_reg.predict(X_new_poly)\n",
    "\n",
    "plt.figure(figsize=(6, 4))\n",
    "plt.plot(X, y, 'b.')\n",
    "plt.plot(X_new, y_new, 'r-', linewidth=2, label='Predictions')\n",
    "plt.xlabel('$x_1$')\n",
    "plt.ylabel('$y$', rotation=0)\n",
    "plt.legend(loc='upper left')\n",
    "plt.axis([-3, 3, 0, 10])\n",
    "plt.grid()\n",
    "plt.show()"
   ]
  },
  {
   "cell_type": "markdown",
   "metadata": {
    "collapsed": false,
    "jupyter": {
     "outputs_hidden": false
    }
   },
   "source": [
    "**Warning**: `PolynomialFeatures(degree=d)` transforms an array containing $n$ features into an array containing $(n+d)!/d!n!$ features."
   ]
  },
  {
   "cell_type": "markdown",
   "metadata": {},
   "source": [
    "## Learning Curves\n",
    "*Learning curves* are plots of the model’s training error and validation error as a function of the training iteration. Scikit-Learn's `learning_curve()` retrains the model on growing subsets of the training set, but if the model supports incremental learning (i.e has `partial_fit()` or `warm_start`), it will train the model incrementally by setting `exploit_incremental_learning=True`."
   ]
  },
  {
   "cell_type": "code",
   "execution_count": 21,
   "metadata": {},
   "outputs": [
    {
     "data": {
      "image/png": "[encoded data removed]",
      "text/plain": [
       "<Figure size 432x288 with 1 Axes>"
      ]
     },
     "metadata": {
      "needs_background": "light"
     },
     "output_type": "display_data"
    }
   ],
   "source": [
    "from sklearn.model_selection import learning_curve\n",
    "\n",
    "train_sizes, train_scores, valid_scores = learning_curve(\n",
    "    LinearRegression(),\n",
    "    X,\n",
    "    y,\n",
    "    train_sizes=np.linspace(0.01, 1.0, 40),\n",
    "    cv=5,\n",
    "    scoring='neg_root_mean_squared_error',\n",
    ")\n",
    "train_errors = -train_scores.mean(axis=1)\n",
    "valid_errors = -valid_scores.mean(axis=1)\n",
    "\n",
    "plt.figure(figsize=(6, 4))\n",
    "plt.plot(train_sizes, train_errors, 'r-+', linewidth=2, label='train')\n",
    "plt.plot(train_sizes, valid_errors, 'b-', linewidth=3, label='valid')\n",
    "\n",
    "plt.xlabel('Training set size')\n",
    "plt.ylabel('RMSE')\n",
    "plt.grid()\n",
    "plt.legend(loc='upper right')\n",
    "plt.axis([0, 80, 0, 2.5])\n",
    "\n",
    "plt.show()"
   ]
  },
  {
   "cell_type": "markdown",
   "metadata": {
    "collapsed": false,
    "jupyter": {
     "outputs_hidden": false
    }
   },
   "source": [
    "This model is underfitting, both curves reached a plateau; they are close and fairly high.\n",
    "\n",
    "**Tip**: If our model is underfitting, adding more training examples will not help. We need a better model or come up with better features.\n",
    "\n",
    "For a 10th-degree polynomial model:"
   ]
  },
  {
   "cell_type": "code",
   "execution_count": 22,
   "metadata": {},
   "outputs": [],
   "source": [
    "from sklearn.pipeline import make_pipeline\n",
    "\n",
    "polynomial_regression = make_pipeline(\n",
    "    PolynomialFeatures(degree=10, include_bias=False),\n",
    "    LinearRegression(),\n",
    ")\n",
    "\n",
    "train_sizes, train_scores, valid_scores = learning_curve(\n",
    "    polynomial_regression,\n",
    "    X,\n",
    "    y,\n",
    "    train_sizes=np.linspace(0.01, 1.0, 40),\n",
    "    cv=5,\n",
    "    scoring='neg_root_mean_squared_error',\n",
    ")"
   ]
  },
  {
   "cell_type": "code",
   "execution_count": 23,
   "metadata": {},
   "outputs": [
    {
     "data": {
      "image/png": "[encoded data removed]",
      "text/plain": [
       "<Figure size 432x288 with 1 Axes>"
      ]
     },
     "metadata": {
      "needs_background": "light"
     },
     "output_type": "display_data"
    }
   ],
   "source": [
    "train_errors = -train_scores.mean(axis=1)\n",
    "valid_errors = -valid_scores.mean(axis=1)\n",
    "\n",
    "plt.figure(figsize=(6, 4))\n",
    "plt.plot(train_sizes, train_errors, 'r-+', linewidth=2, label='train')\n",
    "plt.plot(train_sizes, valid_errors, 'b-', linewidth=3, label='valid')\n",
    "plt.legend(loc='upper right')\n",
    "plt.xlabel('Training set size')\n",
    "plt.ylabel('RMSE')\n",
    "plt.grid()\n",
    "plt.axis([0, 80, 0, 2.5])\n",
    "plt.show()"
   ]
  },
  {
   "cell_type": "markdown",
   "metadata": {
    "collapsed": false,
    "jupyter": {
     "outputs_hidden": false
    }
   },
   "source": [
    "These learning curves look a bit like the previous ones, but there are two very important differences:\n",
    "- The error on the training data is much lower than before.\n",
    "- There is a gap between the curves, it's overfitting.\n",
    "\n",
    "**Tip**: One way to improve an overfitting model is to feed it more training data until the validation error reaches the training error."
   ]
  },
  {
   "cell_type": "markdown",
   "metadata": {},
   "source": [
    "<style>ul {list-style-type: none;}</style>\n",
    "<div style=\"border: 1px solid;\">\n",
    "\n",
    "### The Bias/Variance Trade-Off\n",
    "An important theoretical result of statistics and machine learning is the fact\n",
    "that a model’s generalization error can be expressed as the sum of three very\n",
    "different errors:\n",
    "\n",
    "*Bias*\n",
    "- This part of the generalization error is due to wrong assumptions, such as assuming that the data is linear when it is actually quadratic. A high-bias model is most likely to underfit the training data.\n",
    "\n",
    "*Variance*\n",
    "- This part is due to the model’s excessive sensitivity to small variations in the training data. A model with many degrees of freedom (such as a high-degree polynomial model) is likely to have high variance and thus overfit the training data.\n",
    "\n",
    "*Irreducible error*\n",
    "- This part is due to the noisiness of the data itself. The only way to reduce this part of the error is to clean up the data (e.g., fix the data sources, such as broken sensors, or detect and remove outliers).\n",
    "\n",
    "Increasing a model’s complexity will typically increase its variance and reduce its bias. Conversely, reducing a model’s complexity increases its bias and reduces its variance. This is why it is called a trade-off.\n",
    "<div>"
   ]
  },
  {
   "cell_type": "markdown",
   "metadata": {},
   "source": [
    "## Regularized Linear Models\n",
    "For a linear model, regularization is typically achieved by constraining the weights of the model. There three different ways to constrain the weights:"
   ]
  },
  {
   "cell_type": "markdown",
   "metadata": {},
   "source": [
    "### Ridge Regression\n",
    "A regularized version of linear regression which forces the learning algorithm to not only fit the data but also keep the model weights as small as possible. Also called *Tikhonov regularization*.\n",
    "\n",
    "**Equation 4-8** Ridge regression cost function\n",
    "$$\n",
    "J(\\boldsymbol{\\theta})\n",
    "=\\text{MSE}(\\boldsymbol{\\theta})+\\frac{\\alpha}{m}\\sum_{i=1}^n{\\theta_i}^2\n",
    "$$\n",
    "- $\\frac{\\alpha}{m}\\sum_{i=1}^n{\\theta_i}^2$: The *regularization term*\n",
    "- $\\alpha$: Controls how much we want to regularize the model\n",
    "\n",
    "If we define $\\mathbf{w}$ as the vector of feature weights ($\\boldsymbol{\\theta}_1$ to $\\boldsymbol{\\theta}_n$), then the regularization term is equal to $\\alpha(\\|\\mathbf{w}\\|_2)^2/m$ and for batch gradient descent just add $2\\alpha\\mathbf{w}/m$ to the part of the MSE gradient vector that corresponds to the feature weights, without adding anything to the gradient of the bias term.\n",
    "\n",
    "**Warning**: It is important to scale the data for most regularized models.\n",
    "\n",
    "We can perform ridge regression also by computing a closed-form equation:\n",
    "\n",
    "**Equation 4-9** Ridge regression closed-form solution\n",
    "$$\n",
    "\\widehat{\\boldsymbol{\\theta}}\n",
    "=\\left(\\mathbf{X}^\\top\\mathbf{X}+\\alpha\\mathbf{A}\\right)^{-1}\n",
    "\\mathbf{X}^\\top\\mathbf{y}\n",
    "$$\n",
    "- $\\mathbf{A}$: The $(n+1)\\times(n+1)$ identity matrix, except with a 0 in the\n",
    "  top-left cell\n",
    "\n",
    "Let's generate a very small and noisy linear dataset:"
   ]
  },
  {
   "cell_type": "code",
   "execution_count": 24,
   "metadata": {
    "collapsed": false,
    "jupyter": {
     "outputs_hidden": false
    }
   },
   "outputs": [],
   "source": [
    "np.random.seed(42)\n",
    "m = 20\n",
    "X = 3 * np.random.rand(m, 1)\n",
    "y = 1 + 0.5 * X + np.random.randn(m, 1) / 1.5\n",
    "X_new = np.linspace(0, 3, 100).reshape(100, 1)"
   ]
  },
  {
   "cell_type": "markdown",
   "metadata": {
    "collapsed": false,
    "jupyter": {
     "outputs_hidden": false
    }
   },
   "source": [
    "A closed-form variant that uses a matrix factorization technique by André-Louis\n",
    "Cholesky:"
   ]
  },
  {
   "cell_type": "code",
   "execution_count": 25,
   "metadata": {},
   "outputs": [
    {
     "data": {
      "text/plain": [
       "array([[1.55325833]])"
      ]
     },
     "execution_count": 25,
     "metadata": {},
     "output_type": "execute_result"
    }
   ],
   "source": [
    "from sklearn.linear_model import Ridge\n",
    "\n",
    "ridge_reg = Ridge(alpha=0.1, solver='cholesky')\n",
    "ridge_reg.fit(X, y)\n",
    "ridge_reg.predict([[1.5]])"
   ]
  },
  {
   "cell_type": "markdown",
   "metadata": {},
   "source": [
    "And using stochastic gradient descent:"
   ]
  },
  {
   "cell_type": "code",
   "execution_count": 26,
   "metadata": {},
   "outputs": [
    {
     "data": {
      "text/plain": [
       "array([1.55302613])"
      ]
     },
     "execution_count": 26,
     "metadata": {},
     "output_type": "execute_result"
    }
   ],
   "source": [
    "sgd_reg = SGDRegressor(\n",
    "    penalty='l2',\n",
    "    alpha=0.1 / m,\n",
    "    tol=None,\n",
    "    max_iter=1000,\n",
    "    eta0=0.01,\n",
    "    random_state=42,\n",
    ")\n",
    "# y.ravel() because fit() expects 1D targets\n",
    "sgd_reg.fit(X, y.ravel())\n",
    "sgd_reg.predict([[1.5]])"
   ]
  },
  {
   "cell_type": "markdown",
   "metadata": {
    "collapsed": false,
    "jupyter": {
     "outputs_hidden": false
    }
   },
   "source": [
    "Alternatively, we can use the `Ridge` class with the `'sag'` solver. Stochastic average GD is a variant of stochastic GD. For more details, see the\n",
    "presentation [“Minimizing Finite Sums with the Stochastic Average Gradient Algorithm”](https://homl.info/12) by Mark Schmidt et al. from the University of British Columbia.\n",
    "\n",
    "**Tip**: The `RidgeCV` class automatically tunes hyperparameters using cross-validation. It’s like `GridSearchCV`, but optimized for ridge regression\n",
    "and runs *much* faster. There is also *LassoCV* and *ElasticNetCV*."
   ]
  },
  {
   "cell_type": "markdown",
   "metadata": {
    "collapsed": false,
    "jupyter": {
     "outputs_hidden": false
    }
   },
   "source": [
    "### Lasso Regression\n",
    "*Least absolute shrinkage and selection operator regression* (usually simply called *lasso regression*).\n",
    "\n",
    "**Equation 4-10** Lasso regression cost function\n",
    "$$\n",
    "J(\\boldsymbol{\\theta})\n",
    "=\\mathrm{MSE}(\\boldsymbol{\\theta})+2\\alpha\\sum_{i=1}^n|\\theta_i|\n",
    "$$\n",
    "\n",
    "**Note**: The $\\ell_1$ norm is multiplied by $2\\alpha$, whereas the $\\ell_2$ norm was multiplied by $\\alpha/m$ in ridge regression. These factors were chosen to ensure that the optimal $\\alpha$ value is independent from the training set size: different norms lead to different factors (see [Scikit-Learn issue #15657](https://github.com/scikit-learn/scikit-learn/issues/15657) for more details).\n",
    "\n",
    "An important characteristic of lasso regression is that it tends to eliminate the weights of the least important features. In other words, lasso regression automatically performs feature selection and outputs a *sparse* model with few nonzero feature weights.\n",
    "\n",
    "**Tip**: To keep gradient descent from bouncing around the optimum at the end when using lasso regression, we need to gradually reduce the learning rate during training. It will still bounce around, but the steps will get smaller and smaller, so it will converge.\n",
    "\n",
    "The lasso cost function is not differentiable at $\\theta_i=0$, but gradient descent still works if we use a *subgradient vector* $\\mathbf{g}$ instead when any $\\theta_i=0$. A subgradient vector at a nondifferentiable point is as an intermediate vector between the gradient vectors around that point.\n",
    "\n",
    "**Equation 4-11** Lasso regression subgradient vector\n",
    "$$\n",
    "g(\\boldsymbol{\\theta}, J)\n",
    "=\\nabla_{\\boldsymbol{\\theta}}\\mathrm{MSE}(\\boldsymbol{\\theta})\n",
    "=2\\alpha\\begin{pmatrix}\n",
    "\\text{sign}(\\theta_1)\\\\\n",
    "\\vdots\n",
    "\\\\\\text{sign}(\\theta_n)\n",
    "\\end{pmatrix}\n",
    "\\;\\;\\text{where}\\;\\;\\text{sign}(\\theta_i)\n",
    "=\\begin{cases}\n",
    "-1&\\text{if}\\;\\theta_i<0\n",
    "\\\\0&\\text{if}\\;\\theta_i=0\n",
    "\\\\+1&\\text{if}\\;\\theta_i>0\n",
    "\\end{cases}\n",
    "$$\n",
    "\n",
    "Here is a small Scikit-Learn example:"
   ]
  },
  {
   "cell_type": "code",
   "execution_count": 27,
   "metadata": {},
   "outputs": [
    {
     "data": {
      "text/plain": [
       "array([1.53788174])"
      ]
     },
     "execution_count": 27,
     "metadata": {},
     "output_type": "execute_result"
    }
   ],
   "source": [
    "from sklearn.linear_model import Lasso\n",
    "\n",
    "lasso_reg = Lasso(alpha=0.1)\n",
    "lasso_reg.fit(X, y)\n",
    "lasso_reg.predict([[1.5]])"
   ]
  },
  {
   "cell_type": "markdown",
   "metadata": {},
   "source": [
    "We could instead use `SGDRegressor(penalty='l1', alpha=0.1)`."
   ]
  },
  {
   "cell_type": "markdown",
   "metadata": {},
   "source": [
    "### Elastic Net Regression\n",
    "*Elastic net regression* is a middle ground between ridge regression and lasso regression.\n",
    "\n",
    "**Equation 4-12** Elastic net cost function\n",
    "$$\n",
    "J(\\boldsymbol{\\theta})\n",
    "=\\mathrm{MSE}(\\boldsymbol{\\theta})+r\\left(2\\alpha\\sum_{i=1}^n|\\theta_i|\\right)\n",
    "+(1-r)\\left(\\frac{\\alpha}{m}\\sum_{i=1}^n\\theta_i^2\\right)\n",
    "$$\n",
    "\n",
    "When to use which? Ridge is a good default, but if we suspect that only a few features are useful, we should prefer lasso or elastic net. Elastic net is preferred over lasso because lasso may behave erratically when $n>m$ or when several features are strongly correlated.\n",
    "\n",
    "Here is a small Scikit-Learn example:"
   ]
  },
  {
   "cell_type": "code",
   "execution_count": 28,
   "metadata": {},
   "outputs": [
    {
     "data": {
      "text/plain": [
       "array([1.54333232])"
      ]
     },
     "execution_count": 28,
     "metadata": {},
     "output_type": "execute_result"
    }
   ],
   "source": [
    "from sklearn.linear_model import ElasticNet\n",
    "\n",
    "elastic_net = ElasticNet(alpha=0.1, l1_ratio=0.5)\n",
    "elastic_net.fit(X, y)\n",
    "elastic_net.predict([[1.5]])"
   ]
  },
  {
   "cell_type": "markdown",
   "metadata": {},
   "source": [
    "### Early Stopping\n",
    "A very different way to regularize iterative learning algorithms such as gradient descent is to stop training as soon as the validation error reaches a minimum. This is called *early stopping*. It is such a simple and efficient regularization technique that Geoffrey Hinton called it a “beautiful free lunch”.\n",
    "\n",
    "Let's go back to the quadratic dataset we used earlier:"
   ]
  },
  {
   "cell_type": "code",
   "execution_count": 29,
   "metadata": {
    "collapsed": false,
    "jupyter": {
     "outputs_hidden": false
    }
   },
   "outputs": [
    {
     "data": {
      "image/png": "[encoded data removed]",
      "text/plain": [
       "<Figure size 432x288 with 1 Axes>"
      ]
     },
     "metadata": {
      "needs_background": "light"
     },
     "output_type": "display_data"
    }
   ],
   "source": [
    "from copy import deepcopy\n",
    "\n",
    "from sklearn.metrics import mean_squared_error\n",
    "from sklearn.preprocessing import StandardScaler\n",
    "\n",
    "# Creates the same quadratic dataset as earlier and splits it\n",
    "np.random.seed(42)\n",
    "m = 100\n",
    "X = 6 * np.random.rand(m, 1) - 3\n",
    "y = 0.5 * X**2 + X + 2 + np.random.randn(m, 1)\n",
    "X_train, y_train = X[: m // 2], y[: m // 2, 0]\n",
    "X_valid, y_valid = X[m // 2 :], y[m // 2 :, 0]\n",
    "\n",
    "preprocessing = make_pipeline(\n",
    "    PolynomialFeatures(degree=90, include_bias=False), StandardScaler()\n",
    ")\n",
    "X_train_prep = preprocessing.fit_transform(X_train)\n",
    "X_valid_prep = preprocessing.transform(X_valid)\n",
    "sgd_reg = SGDRegressor(penalty=None, eta0=0.002, random_state=42)\n",
    "n_epochs = 500\n",
    "best_valid_rmse = float('inf')\n",
    "# It's for the figure below\n",
    "train_errors, val_errors = [], []\n",
    "\n",
    "for epoch in range(n_epochs):\n",
    "    sgd_reg.partial_fit(X_train_prep, y_train)\n",
    "    y_valid_predict = sgd_reg.predict(X_valid_prep)\n",
    "    val_error = mean_squared_error(y_valid, y_valid_predict, squared=False)\n",
    "    if val_error < best_valid_rmse:\n",
    "        best_valid_rmse = val_error\n",
    "        best_model = deepcopy(sgd_reg)\n",
    "\n",
    "    # We evaluate the train error and save it for the figure\n",
    "    y_train_predict = sgd_reg.predict(X_train_prep)\n",
    "    train_error = mean_squared_error(y_train, y_train_predict, squared=False)\n",
    "    val_errors.append(val_error)\n",
    "    train_errors.append(train_error)\n",
    "\n",
    "# This section generates the figure\n",
    "best_epoch = np.argmin(val_errors)\n",
    "plt.figure(figsize=(6, 4))\n",
    "plt.annotate(\n",
    "    'Best model',\n",
    "    xy=(best_epoch, best_valid_rmse),\n",
    "    xytext=(best_epoch, best_valid_rmse + 0.5),\n",
    "    ha='center',\n",
    "    arrowprops=dict(facecolor='black', shrink=0.05),\n",
    ")\n",
    "plt.plot([0, n_epochs], [best_valid_rmse, best_valid_rmse], 'k:', linewidth=2)\n",
    "plt.plot(val_errors, 'b-', linewidth=3, label='Validation set')\n",
    "plt.plot(best_epoch, best_valid_rmse, 'bo')\n",
    "plt.plot(train_errors, 'r--', linewidth=2, label='Training set')\n",
    "plt.legend(loc='upper right')\n",
    "plt.xlabel('Epoch')\n",
    "plt.ylabel('RMSE')\n",
    "plt.axis([0, n_epochs, 0, 3.5])\n",
    "plt.grid()\n",
    "plt.show()"
   ]
  },
  {
   "cell_type": "markdown",
   "metadata": {
    "collapsed": false,
    "jupyter": {
     "outputs_hidden": false
    }
   },
   "source": [
    "**Note**: Using `copy.deepcopy()` copies both the model’s hyperparameters *and* the learned parameters, while `sklearn.base.clone()` only copies the model’s hyperparameters.\n",
    "\n",
    "**Tip**: In SGD and Mini-batch GD the curves are not so smooth, so we should stop only after validation error has been above the minimum for some time then roll back the model parameters to the point where the validation error was at a minimum."
   ]
  },
  {
   "cell_type": "markdown",
   "metadata": {},
   "source": [
    "## Logistic Regression\n",
    "Some regression algorithms can be used for classification (and vice versa). *Logistic regression* (also called *logit regression*) is commonly used to estimate the probability that an instance belongs to a particular class."
   ]
  },
  {
   "cell_type": "markdown",
   "metadata": {},
   "source": [
    "### Estimating Probabilities\n",
    "Instead of outputting the result directly logistic regression outputs the *logistic* of this result:\n",
    "\n",
    "**Equation 4-13** Logistic regression model estimated probability (vectorized form)\n",
    "$$\n",
    "\\widehat{p}\n",
    "=h_{\\boldsymbol{\\theta}}(\\mathbf{x})=\\sigma(\\boldsymbol{\\theta}^\\top\\mathbf{x})\n",
    "$$\n",
    "\n",
    "The logistic, noted $\\sigma(\\cdot)$, is a sigmoid function (i.e., S-shaped) that outputs a number between 0 and 1.\n",
    "\n",
    "**Equation 4-14** Equation 4-14. Logistic function\n",
    "$$\n",
    "\\sigma(t)=\\frac{1}{1+\\exp(−t)}\n",
    "$$\n",
    "\n",
    "<center>\n",
    "  <img \n",
    "    src=\"../images/04/logistic_function.png\" \n",
    "    onerror=\"\n",
    "      this.onerror = null;\n",
    "      const repo = 'https://github.com/alirezatheh/handson-ml3-notes/blob/main';\n",
    "      this.src = repo + this.src.split('..')[1];\n",
    "    \"\n",
    "  >\n",
    "</center>\n",
    "\n",
    "Once the logistic regression model has estimated the probability it can make its prediction easily:\n",
    "\n",
    "**Equation 4-15** Logistic regression model prediction using a 50% threshold probability\n",
    "$$\n",
    "\\widehat{y}=\\begin{cases}\n",
    "0&\\text{if}\\;\\widehat{p}<0.5\n",
    "\\\\1&\\text{if}\\;\\widehat{p}\\geq0.5\n",
    "\\end{cases}\n",
    "$$\n",
    "\n",
    "**Note**: The score $t$ is often called the *logit*. The name comes from the fact that the logit function, defined as $\\text{logit}(p)=\\log(p/(1-p))$, is the inverse of the logistic function. The logit is also called the *log-odds*, since it is the log of the ratio between the estimated probability for the *positive class* and the estimated probability for the *negative class*."
   ]
  },
  {
   "cell_type": "markdown",
   "metadata": {},
   "source": [
    "### Training and Cost Function\n",
    "The objective of training is to set the parameter vector $\\boldsymbol{\\theta}$ so that the model estimates high probabilities for positive instances and low probabilities for negative instances. This idea is captured by this cost function:\n",
    "\n",
    "**Equation 4-16** Cost function of a single training instance\n",
    "$$\n",
    "c(\\boldsymbol{\\theta})=\\begin{cases}\n",
    "-\\log(\\widehat{p})&\\text{if}\\;y=1\n",
    "\\\\-\\log(1-\\widehat{p})&\\text{if}\\;y=0\n",
    "\\end{cases}\n",
    "$$\n",
    "\n",
    "This cost function makes sense because $-\\log(\\widehat{t})$ is large when $t$ approaches 0 and close to 0 when it is close to 1. So for a positive instance cost is large when $\\widehat{p}$ is close to 0 and it is be close to 0 when $\\widehat{p}$ is close 1. And for a negative instance cost is large when $\\widehat{p}$ is close to 1 and it is close to 0 when $\\widehat{p}$ is close 0.\n",
    "\n",
    "The cost function over the whole training set is the average cost over all training instances. It can be written in a single expression called the *log loss*:\n",
    "\n",
    "**Equation 4-17** Logistic regression cost function (*log loss*)\n",
    "$$\n",
    "J(\\boldsymbol{\\theta})\n",
    "=-\\frac{1}{m}\\sum_{i=1}^m\\left[\n",
    "y^{(i)}\\log(\\widehat{p}^{(i)})\n",
    "+(1-y^{(i)})\\log(1-\\widehat{p}^{(i)})\n",
    "\\right]\n",
    "$$\n",
    "\n",
    "**Warning**: The log loss was not just pulled out of a hat. It can be shown mathematically (using Bayesian inference) that minimizing this loss will result in the model with the *maximum likelihood* of being optimal, assuming that the instances follow a Gaussian distribution around the mean of their class. When we use the log loss, this is the implicit assumption we are making. The more wrong this assumption is, the more biased the model will be.\n",
    "\n",
    "This cost function is convex, so gradient descent (or any other optimization algorithm) is guaranteed to find the global minimum. Here are the partial derivatives of the cost function with regard to the $j^\\text{th}$ model parameter $\\theta_j$:\n",
    "\n",
    "**Equation 4-18** Logistic cost function partial derivatives\n",
    "$$\n",
    "\\frac{\\partial}{\\partial{\\theta_j}}\\mathbf{J}(\\boldsymbol{\\theta})\n",
    "=\\frac{1}{m}\\sum_{i=1}^m\n",
    "\\left(\\sigma(\\boldsymbol{\\theta}^\\top\\mathbf{x}^{(i)})-y^{(i)}\\right)x_j^{(i)}\n",
    "$$"
   ]
  },
  {
   "cell_type": "markdown",
   "metadata": {},
   "source": [
    "### Decision Boundaries\n",
    "We the use iris dataset which contains the sepal and petal length and width of 150 iris flowers of three different species: *Iris setosa*, *Iris versicolor*, and *Iris virginica*."
   ]
  },
  {
   "cell_type": "code",
   "execution_count": 30,
   "metadata": {},
   "outputs": [
    {
     "data": {
      "text/plain": [
       "['data',\n",
       " 'target',\n",
       " 'frame',\n",
       " 'target_names',\n",
       " 'DESCR',\n",
       " 'feature_names',\n",
       " 'filename',\n",
       " 'data_module']"
      ]
     },
     "execution_count": 30,
     "metadata": {},
     "output_type": "execute_result"
    }
   ],
   "source": [
    "from sklearn.datasets import load_iris\n",
    "\n",
    "iris = load_iris(as_frame=True)\n",
    "list(iris)"
   ]
  },
  {
   "cell_type": "code",
   "execution_count": 31,
   "metadata": {},
   "outputs": [
    {
     "name": "stdout",
     "output_type": "stream",
     "text": [
      ".. _iris_dataset:\n",
      "\n",
      "Iris plants dataset\n",
      "--------------------\n",
      "\n",
      "**Data Set Characteristics:**\n",
      "\n",
      "    :Number of Instances: 150 (50 in each of three classes)\n",
      "    :Number of Attributes: 4 numeric, predictive attributes and the class\n",
      "    :Attribute Information:\n",
      "        - sepal length in cm\n",
      "        - sepal width in cm\n",
      "        - petal length in cm\n",
      "        - petal width in cm\n",
      "        - class:\n",
      "                - Iris-Setosa\n",
      "                - Iris-Versicolour\n",
      "                - Iris-Virginica\n",
      "                \n",
      "    :Summary Statistics:\n",
      "\n",
      "    ============== ==== ==== ======= ===== ====================\n",
      "                    Min  Max   Mean    SD   Class Correlation\n",
      "    ============== ==== ==== ======= ===== ====================\n",
      "    sepal length:   4.3  7.9   5.84   0.83    0.7826\n",
      "    sepal width:    2.0  4.4   3.05   0.43   -0.4194\n",
      "    petal length:   1.0  6.9   3.76   1.76    0.9490  (high!)\n",
      "    petal width:    0.1  2.5   1.20   0.76    0.9565  (high!)\n",
      "    ============== ==== ==== ======= ===== ====================\n",
      "\n",
      "    :Missing Attribute Values: None\n",
      "    :Class Distribution: 33.3% for each of 3 classes.\n",
      "    :Creator: R.A. Fisher\n",
      "    :Donor: Michael Marshall (MARSHALL%PLU@io.arc.nasa.gov)\n",
      "    :Date: July, 1988\n",
      "\n",
      "The famous Iris database, first used by Sir R.A. Fisher. The dataset is taken\n",
      "from Fisher's paper. Note that it's the same as in R, but not as in the UCI\n",
      "Machine Learning Repository, which has two wrong data points.\n",
      "\n",
      "This is perhaps the best known database to be found in the\n",
      "pattern recognition literature.  Fisher's paper is a classic in the field and\n",
      "is referenced frequently to this day.  (See Duda & Hart, for example.)  The\n",
      "data set contains 3 classes of 50 instances each, where each class refers to a\n",
      "type of iris plant.  One class is linearly separable from the other 2; the\n",
      "latter are NOT linearly separable from each other.\n",
      "\n",
      ".. topic:: References\n",
      "\n",
      "   - Fisher, R.A. \"The use of multiple measurements in taxonomic problems\"\n",
      "     Annual Eugenics, 7, Part II, 179-188 (1936); also in \"Contributions to\n",
      "     Mathematical Statistics\" (John Wiley, NY, 1950).\n",
      "   - Duda, R.O., & Hart, P.E. (1973) Pattern Classification and Scene Analysis.\n",
      "     (Q327.D83) John Wiley & Sons.  ISBN 0-471-22361-1.  See page 218.\n",
      "   - Dasarathy, B.V. (1980) \"Nosing Around the Neighborhood: A New System\n",
      "     Structure and Classification Rule for Recognition in Partially Exposed\n",
      "     Environments\".  IEEE Transactions on Pattern Analysis and Machine\n",
      "     Intelligence, Vol. PAMI-2, No. 1, 67-71.\n",
      "   - Gates, G.W. (1972) \"The Reduced Nearest Neighbor Rule\".  IEEE Transactions\n",
      "     on Information Theory, May 1972, 431-433.\n",
      "   - See also: 1988 MLC Proceedings, 54-64.  Cheeseman et al\"s AUTOCLASS II\n",
      "     conceptual clustering system finds 3 classes in the data.\n",
      "   - Many, many more ...\n"
     ]
    }
   ],
   "source": [
    "print(iris.DESCR)"
   ]
  },
  {
   "cell_type": "code",
   "execution_count": 32,
   "metadata": {},
   "outputs": [
    {
     "data": {
      "text/html": [
       "<div>\n",
       "<style scoped>\n",
       "    .dataframe tbody tr th:only-of-type {\n",
       "        vertical-align: middle;\n",
       "    }\n",
       "\n",
       "    .dataframe tbody tr th {\n",
       "        vertical-align: top;\n",
       "    }\n",
       "\n",
       "    .dataframe thead th {\n",
       "        text-align: right;\n",
       "    }\n",
       "</style>\n",
       "<table border=\"1\" class=\"dataframe\">\n",
       "  <thead>\n",
       "    <tr style=\"text-align: right;\">\n",
       "      <th></th>\n",
       "      <th>sepal length (cm)</th>\n",
       "      <th>sepal width (cm)</th>\n",
       "      <th>petal length (cm)</th>\n",
       "      <th>petal width (cm)</th>\n",
       "    </tr>\n",
       "  </thead>\n",
       "  <tbody>\n",
       "    <tr>\n",
       "      <th>0</th>\n",
       "      <td>5.1</td>\n",
       "      <td>3.5</td>\n",
       "      <td>1.4</td>\n",
       "      <td>0.2</td>\n",
       "    </tr>\n",
       "    <tr>\n",
       "      <th>1</th>\n",
       "      <td>4.9</td>\n",
       "      <td>3.0</td>\n",
       "      <td>1.4</td>\n",
       "      <td>0.2</td>\n",
       "    </tr>\n",
       "    <tr>\n",
       "      <th>2</th>\n",
       "      <td>4.7</td>\n",
       "      <td>3.2</td>\n",
       "      <td>1.3</td>\n",
       "      <td>0.2</td>\n",
       "    </tr>\n",
       "  </tbody>\n",
       "</table>\n",
       "</div>"
      ],
      "text/plain": [
       "   sepal length (cm)  sepal width (cm)  petal length (cm)  petal width (cm)\n",
       "0                5.1               3.5                1.4               0.2\n",
       "1                4.9               3.0                1.4               0.2\n",
       "2                4.7               3.2                1.3               0.2"
      ]
     },
     "execution_count": 32,
     "metadata": {},
     "output_type": "execute_result"
    }
   ],
   "source": [
    "iris.data.head(3)"
   ]
  },
  {
   "cell_type": "code",
   "execution_count": 33,
   "metadata": {},
   "outputs": [
    {
     "data": {
      "text/plain": [
       "0    0\n",
       "1    0\n",
       "2    0\n",
       "Name: target, dtype: int64"
      ]
     },
     "execution_count": 33,
     "metadata": {},
     "output_type": "execute_result"
    }
   ],
   "source": [
    "# Note that the instances are not shuffled\n",
    "iris.target.head(3)"
   ]
  },
  {
   "cell_type": "code",
   "execution_count": 34,
   "metadata": {},
   "outputs": [
    {
     "data": {
      "text/plain": [
       "array(['setosa', 'versicolor', 'virginica'], dtype='<U10')"
      ]
     },
     "execution_count": 34,
     "metadata": {},
     "output_type": "execute_result"
    }
   ],
   "source": [
    "iris.target_names"
   ]
  },
  {
   "cell_type": "markdown",
   "metadata": {},
   "source": [
    "Let’s build a classifier to detect the *Iris virginica* type based only on the petal width feature:"
   ]
  },
  {
   "cell_type": "code",
   "execution_count": 35,
   "metadata": {},
   "outputs": [
    {
     "data": {
      "text/plain": [
       "LogisticRegression(random_state=42)"
      ]
     },
     "execution_count": 35,
     "metadata": {},
     "output_type": "execute_result"
    }
   ],
   "source": [
    "from sklearn.linear_model import LogisticRegression\n",
    "from sklearn.model_selection import train_test_split\n",
    "\n",
    "X = iris.data[['petal width (cm)']].values\n",
    "y = iris.target_names[iris.target] == 'virginica'\n",
    "X_train, X_test, y_train, y_test = train_test_split(X, y, random_state=42)\n",
    "\n",
    "log_reg = LogisticRegression(random_state=42)\n",
    "log_reg.fit(X_train, y_train)"
   ]
  },
  {
   "cell_type": "code",
   "execution_count": 36,
   "metadata": {},
   "outputs": [
    {
     "data": {
      "image/png": "[encoded data removed]",
      "text/plain": [
       "<Figure size 576x216 with 1 Axes>"
      ]
     },
     "metadata": {
      "needs_background": "light"
     },
     "output_type": "display_data"
    }
   ],
   "source": [
    "# Reshape to get a column vector\n",
    "X_new = np.linspace(0, 3, 1000).reshape(-1, 1)\n",
    "y_proba = log_reg.predict_proba(X_new)\n",
    "decision_boundary = X_new[y_proba[:, 1] >= 0.5][0, 0]\n",
    "\n",
    "plt.figure(figsize=(8, 3))\n",
    "plt.plot(\n",
    "    X_new, y_proba[:, 0], 'b--', linewidth=2, label='Not Iris virginica proba'\n",
    ")\n",
    "plt.plot(X_new, y_proba[:, 1], 'g-', linewidth=2, label='Iris virginica proba')\n",
    "plt.plot(\n",
    "    [decision_boundary, decision_boundary],\n",
    "    [0, 1],\n",
    "    'k:',\n",
    "    linewidth=2,\n",
    "    label='Decision boundary',\n",
    ")\n",
    "\n",
    "# This section beautifies the figure\n",
    "plt.arrow(\n",
    "    x=decision_boundary,\n",
    "    y=0.08,\n",
    "    dx=-0.3,\n",
    "    dy=0,\n",
    "    head_width=0.05,\n",
    "    head_length=0.1,\n",
    "    fc='b',\n",
    "    ec='b',\n",
    ")\n",
    "plt.arrow(\n",
    "    x=decision_boundary,\n",
    "    y=0.92,\n",
    "    dx=0.3,\n",
    "    dy=0,\n",
    "    head_width=0.05,\n",
    "    head_length=0.1,\n",
    "    fc='g',\n",
    "    ec='g',\n",
    ")\n",
    "plt.plot(X_train[y_train == 0], y_train[y_train == 0], 'bs')\n",
    "plt.plot(X_train[y_train == 1], y_train[y_train == 1], 'g^')\n",
    "plt.xlabel('Petal width (cm)')\n",
    "plt.ylabel('Probability')\n",
    "plt.legend(loc='center left')\n",
    "plt.axis([0, 3, -0.02, 1.02])\n",
    "plt.grid()\n",
    "\n",
    "plt.show()"
   ]
  },
  {
   "cell_type": "code",
   "execution_count": 37,
   "metadata": {},
   "outputs": [
    {
     "data": {
      "text/plain": [
       "1.6516516516516517"
      ]
     },
     "execution_count": 37,
     "metadata": {},
     "output_type": "execute_result"
    }
   ],
   "source": [
    "decision_boundary"
   ]
  },
  {
   "cell_type": "code",
   "execution_count": 38,
   "metadata": {},
   "outputs": [
    {
     "data": {
      "text/plain": [
       "array([ True, False])"
      ]
     },
     "execution_count": 38,
     "metadata": {},
     "output_type": "execute_result"
    }
   ],
   "source": [
    "log_reg.predict([[1.7], [1.5]])"
   ]
  },
  {
   "cell_type": "markdown",
   "metadata": {
    "collapsed": false,
    "jupyter": {
     "outputs_hidden": false
    }
   },
   "source": [
    "**Note**: The hyperparameter controlling the regularization strength of a Scikit-Learn `LogisticRegression` model is not `alpha` (as in other linear\n",
    "models), but its inverse: `C`. The higher the value of `C`, the less the model is regularized. Scikit-Learn actually adds an $\\ell_2$ penalty by default.\n",
    "\n",
    "Let's try with two features:"
   ]
  },
  {
   "cell_type": "code",
   "execution_count": 39,
   "metadata": {
    "collapsed": false,
    "jupyter": {
     "outputs_hidden": false
    }
   },
   "outputs": [
    {
     "data": {
      "image/png": "[encoded data removed]",
      "text/plain": [
       "<Figure size 720x288 with 1 Axes>"
      ]
     },
     "metadata": {
      "needs_background": "light"
     },
     "output_type": "display_data"
    }
   ],
   "source": [
    "X = iris.data[['petal length (cm)', 'petal width (cm)']].values\n",
    "y = iris.target_names[iris.target] == 'virginica'\n",
    "X_train, X_test, y_train, y_test = train_test_split(X, y, random_state=42)\n",
    "\n",
    "log_reg = LogisticRegression(C=2, random_state=42)\n",
    "log_reg.fit(X_train, y_train)\n",
    "\n",
    "# For the contour plot\n",
    "# x0.shape = (200, 500)\n",
    "# x1.shape = (200, 500)\n",
    "x0, x1 = np.meshgrid(\n",
    "    np.linspace(2.9, 7, 500).reshape(-1, 1),\n",
    "    np.linspace(0.8, 2.7, 200).reshape(-1, 1),\n",
    ")\n",
    "# One instance per point on the figure\n",
    "# X_new.shape = (200×500, 2)\n",
    "X_new = np.c_[x0.ravel(), x1.ravel()]\n",
    "y_proba = log_reg.predict_proba(X_new)\n",
    "# zz.shape = (200, 500)\n",
    "zz = y_proba[:, 1].reshape(x0.shape)\n",
    "\n",
    "# For the decision boundary\n",
    "left_right = np.array([2.9, 7])\n",
    "# We have x0 value and want x1 value, we compute it using h=0\n",
    "boundary = -(\n",
    "    (log_reg.coef_[0, 0] * left_right + log_reg.intercept_[0])\n",
    "    / log_reg.coef_[0, 1]\n",
    ")\n",
    "\n",
    "plt.figure(figsize=(10, 4))\n",
    "plt.plot(X_train[y_train == 0, 0], X_train[y_train == 0, 1], 'bs')\n",
    "plt.plot(X_train[y_train == 1, 0], X_train[y_train == 1, 1], 'g^')\n",
    "contour = plt.contour(x0, x1, zz, cmap=plt.cm.brg)\n",
    "plt.clabel(contour, inline=1)\n",
    "plt.plot(left_right, boundary, 'k--', linewidth=3)\n",
    "plt.text(3.5, 1.27, 'Not Iris virginica', color='b', ha='center')\n",
    "plt.text(6.5, 2.3, 'Iris virginica', color='g', ha='center')\n",
    "plt.xlabel('Petal length')\n",
    "plt.ylabel('Petal width')\n",
    "plt.axis([2.9, 7, 0.8, 2.7])\n",
    "plt.grid()\n",
    "plt.show()"
   ]
  },
  {
   "cell_type": "markdown",
   "metadata": {},
   "source": [
    "The dashed line represents the points where the model estimates a 50% probability: this is the model’s decision boundary. Note that it is a linear boundary. Each parallel line represents the points where the model outputs a specific probability, from 15% (bottom left) to 90% (top right)."
   ]
  },
  {
   "cell_type": "markdown",
   "metadata": {},
   "source": [
    "### Softmax Regression\n",
    "To support multiple classes directly, without having to train and combine multiple binary classifiers, we use *softmax regression*, or *multinomial logistic regression*.\n",
    "\n",
    "The idea is simple: when given an instance $\\mathbf{x}$, the softmax regression model first computes a score $s_k(\\mathbf{x})$ for each class $k$, then estimates the probability of each class by applying the *softmax function* (also called the *normalized exponential*) to the scores.\n",
    "\n",
    "**Equation 4-19** Softmax score for class $k$\n",
    "$$\n",
    "s_k(\\mathbf{x})=(\\boldsymbol{\\theta}^{(k)})^\\top\\mathbf{x}\n",
    "$$\n",
    "\n",
    "All $\\boldsymbol{\\theta}^{(k)}$ vectors are typically stored as rows in a *parameter matrix* $\\mathbf{\\Theta}$.\n",
    "\n",
    "**Equation 4-20** Softmax function\n",
    "$$\n",
    "\\widehat{p}_k=\\sigma(\\mathbf{s}(\\mathbf{x}))_k\n",
    "=\\frac{\\exp(s_k(\\mathbf{x}))}{\\sum_{j=1}^K\\exp(s_j(\\mathbf{x}))}\n",
    "$$\n",
    "- $K$: The number of classes\n",
    "- $\\mathbf{s}(\\mathbf{x})$: Vector containing the scores of each class for the instance $\\mathbf{x}$\n",
    "- $\\sigma(\\mathbf{s}(\\mathbf{x}))_k$: The estimated probability that the instance $\\mathbf{x}$ belongs to class $k$, given the scores of each class for that instance\n",
    "\n",
    "By default the softmax regression classifier predicts the class with the highest estimated probability:\n",
    "\n",
    "**Equation 4-21** Softmax regression classifier prediction\n",
    "$$\n",
    "\\widehat{y}\n",
    "=\\underset{k}{\\text{argmax}}\\;\\sigma(\\mathbf{s}(\\mathbf{x}))_k\n",
    "=\\underset{k}{\\text{argmax}}\\;s_k(\\mathbf{x})\n",
    "=\\underset{k}{\\text{argmax}}\\;((\\boldsymbol{\\theta}^{(k)})^\\top\\mathbf{x})\n",
    "$$\n",
    "- $\\underset{k}{\\text{argmax}}$: Returns the value of a variable $k$ that maximizes a function\n",
    "\n",
    "The objective for training is to have a model that estimates a high probability for the target class (and consequently a low probability for the other classes). Minimizing the cost below, called the *cross entropy*, works because it penalizes the model when it estimates a low probability for a target class.\n",
    "\n",
    "**Equation 4-22** Cross entropy cost function\n",
    "$$\n",
    "J(\\mathbf{\\Theta})\n",
    "=-\\frac{1}{m}\\sum_{i=1}^m\\sum_{k=1}^Ky_k^{(i)}\\log(\\widehat{p}_k^{(i)})\n",
    "$$\n",
    "- $y_k^{(i)}$: The target probability that the $i^{\\text{th}}$ instance belongs to class $k$\n",
    "\n",
    "<div style=\"border: 1px solid;\">\n",
    "\n",
    "#### Cross Entropy\n",
    "Cross entropy originated from Claude Shannon’s *information theory*. If we want to efficiently transmit information about the weather every day and have eight options (sunny, rainy, etc.), we could encode each option using 3 bits. Or if we think it will be sunny almost every day, it would be much more efficient to code “sunny” on just one bit (0) and the other seven options on four bits (starting with a 1). Cross entropy measures the average number of bits we actually send per option. If our assumption about the weather is perfect, cross entropy will be equal to the entropy of the weather itself (i.e., its intrinsic unpredictability). But if our assumption is wrong (e.g., if it rains often), cross entropy will be greater by an amount called the *Kullback–Leibler (KL) divergence*. \n",
    "\n",
    "The cross entropy between two probability distributions $p$ and $q$ is defined as $H(p,q)=-\\sum_xp(x)\\;\\log\\;q(x)$. For more info check out [Aurélien Géron's video on the subject](https://homl.info/xentropy).\n",
    "</div>\n",
    "\n",
    "The gradient vector of this cost function with regard to $\\boldsymbol{\\theta}^{(k)}$:\n",
    "\n",
    "**Equation 4-23** Cross entropy gradient vector for class $k$\n",
    "$$\n",
    "\\nabla_{\\boldsymbol{\\theta}}^{(k)}J(\\mathbf{\\Theta})\n",
    "=\\frac{1}{m}\\sum_{i=1}^m\n",
    "\\left(\\widehat{p}_k^{(i)}−y_k^{(i)}\\right)\\mathbf{x}^{(i)}\n",
    "$$\n",
    "\n",
    "Let’s use softmax regression to classify the iris plants into all three classes:"
   ]
  },
  {
   "cell_type": "code",
   "execution_count": 40,
   "metadata": {},
   "outputs": [
    {
     "data": {
      "text/plain": [
       "LogisticRegression(C=30, random_state=42)"
      ]
     },
     "execution_count": 40,
     "metadata": {},
     "output_type": "execute_result"
    }
   ],
   "source": [
    "X = iris.data[['petal length (cm)', 'petal width (cm)']].values\n",
    "y = iris['target']\n",
    "X_train, X_test, y_train, y_test = train_test_split(X, y, random_state=42)\n",
    "\n",
    "softmax_reg = LogisticRegression(C=30, random_state=42)\n",
    "softmax_reg.fit(X_train, y_train)"
   ]
  },
  {
   "cell_type": "markdown",
   "metadata": {
    "collapsed": false,
    "jupyter": {
     "outputs_hidden": false
    }
   },
   "source": [
    "`solver='lbfgs'` is the default."
   ]
  },
  {
   "cell_type": "code",
   "execution_count": 41,
   "metadata": {
    "tags": []
   },
   "outputs": [
    {
     "data": {
      "text/plain": [
       "array([2])"
      ]
     },
     "execution_count": 41,
     "metadata": {},
     "output_type": "execute_result"
    }
   ],
   "source": [
    "softmax_reg.predict([[5, 2]])"
   ]
  },
  {
   "cell_type": "code",
   "execution_count": 42,
   "metadata": {
    "tags": []
   },
   "outputs": [
    {
     "data": {
      "text/plain": [
       "array([[0.  , 0.04, 0.96]])"
      ]
     },
     "execution_count": 42,
     "metadata": {},
     "output_type": "execute_result"
    }
   ],
   "source": [
    "softmax_reg.predict_proba([[5, 2]]).round(2)"
   ]
  },
  {
   "cell_type": "markdown",
   "metadata": {
    "collapsed": false,
    "jupyter": {
     "outputs_hidden": false
    }
   },
   "source": [
    "Let's plot the decision boundary:"
   ]
  },
  {
   "cell_type": "code",
   "execution_count": 43,
   "metadata": {
    "collapsed": false,
    "jupyter": {
     "outputs_hidden": false
    }
   },
   "outputs": [
    {
     "data": {
      "image/png": "[encoded data removed]",
      "text/plain": [
       "<Figure size 720x288 with 1 Axes>"
      ]
     },
     "metadata": {
      "needs_background": "light"
     },
     "output_type": "display_data"
    }
   ],
   "source": [
    "from matplotlib.colors import ListedColormap\n",
    "\n",
    "custom_cmap = ListedColormap(['#fafab0', '#9898ff', '#a0faa0'])\n",
    "\n",
    "x0, x1 = np.meshgrid(\n",
    "    np.linspace(0, 8, 500).reshape(-1, 1),\n",
    "    np.linspace(0, 3.5, 200).reshape(-1, 1),\n",
    ")\n",
    "X_new = np.c_[x0.ravel(), x1.ravel()]\n",
    "\n",
    "y_proba = softmax_reg.predict_proba(X_new)\n",
    "y_predict = softmax_reg.predict(X_new)\n",
    "\n",
    "zz1 = y_proba[:, 1].reshape(x0.shape)\n",
    "zz = y_predict.reshape(x0.shape)\n",
    "\n",
    "plt.figure(figsize=(10, 4))\n",
    "plt.plot(X[y == 2, 0], X[y == 2, 1], 'g^', label='Iris virginica')\n",
    "plt.plot(X[y == 1, 0], X[y == 1, 1], 'bs', label='Iris versicolor')\n",
    "plt.plot(X[y == 0, 0], X[y == 0, 1], 'yo', label='Iris setosa')\n",
    "\n",
    "plt.contourf(x0, x1, zz, cmap=custom_cmap)\n",
    "contour = plt.contour(x0, x1, zz1, cmap='hot')\n",
    "plt.clabel(contour, inline=1)\n",
    "plt.xlabel('Petal length')\n",
    "plt.ylabel('Petal width')\n",
    "plt.legend(loc='center left')\n",
    "plt.axis([0.5, 7, 0, 3.5])\n",
    "plt.grid()\n",
    "plt.show()"
   ]
  },
  {
   "cell_type": "markdown",
   "metadata": {},
   "source": [
    "## Exercises\n",
    "1. Which linear regression training algorithm can we use if we have a training set with millions of features?\n",
    "> We can use Stochastic Gradient Descent or Mini-batch Gradient Descent, and perhaps Batch Gradient Descent if the training set fits in memory. But we cannot use the Normal Equation or the SVD approach because the computational complexity grows quickly (more than quadratically) with the number of features.\n",
    "2. Suppose the features in our training set have very different scales. Which algorithms might suffer from this, and how? What can we do about it?\n",
    "> In this case the cost function will have the shape of an elongated bowl, so the Gradient Descent algorithms will take a long time to converge. To solve this we should scale the data before training the model. Note that the Normal Equation or SVD approach will work just fine without scaling. Moreover, regularized models may converge to a suboptimal solution if the features are not scaled: since regularization penalizes large weights, features with smaller values will tend to be ignored compared to features with larger values.\n",
    "3. Can gradient descent get stuck in a local minimum when training a logistic regression model?\n",
    "> No, because the cost function is convex. *Convex* means that if we draw a straight line between any two points on the curve, the line never crosses the curve.\n",
    "4. Do all gradient descent algorithms lead to the same model, provided us let them run long enough?\n",
    "> If the optimization problem is convex (such as Linear Regression or Logistic Regression), and assuming the learning rate is not too high, then all Gradient Descent algorithms will approach the global optimum and end up producing fairly similar models. However, unless we gradually reduce the learning rate, Stochastic GD and Mini-batch GD will never truly converge; instead, they will keep jumping back and forth around the global optimum. This means that even if we let them run for a very long time, these Gradient Descent algorithms will produce slightly different models.\n",
    "5. Suppose we use batch gradient descent and we plot the validation error at every epoch. If we notice that the validation error consistently goes up, what is likely going on? How can we fix this?\n",
    "> One possibility is that the learning rate is too high and the algorithm is diverging. If the training error also goes up, then this is clearly the problem and we should reduce the learning rate. However, if the training error is not going up, then our model is overfitting the training set and we should stop training.\n",
    "6. Is it a good idea to stop mini-batch gradient descent immediately when the validation error goes up?\n",
    "> Due to their random nature, neither Stochastic Gradient Descent nor Mini-batch Gradient Descent is guaranteed to make progress at every single training iteration. So if we immediately stop training when the validation error goes up, we may stop much too early, before the optimum is reached. A better option is to save the model at regular intervals; then, when it has not improved for a long time (meaning it will probably never beat the record), we can revert to the best saved model.\n",
    "7. Which gradient descent algorithm (among those we discussed) will reach the vicinity of the optimal solution the fastest? Which will actually converge? How can we make the others converge as well?\n",
    "> Stochastic Gradient Descent has the fastest training iteration since it considers only one training instance at a time (or Mini-batch GD with a very small mini-batch size). However, only Batch Gradient Descent will actually converge, given enough training time. As mentioned, Stochastic GD and Mini-batch GD will bounce around the optimum, unless we gradually reduce the learning rate.\n",
    "8. Suppose we are using polynomial regression. We plot the learning curves and we notice that there is a large gap between the training error and the validation error. What is happening? What are three ways to solve this?\n",
    "> This is likely because our model is overfitting the training set. One way to try to fix this is to reduce the polynomial degree: a model with fewer degrees of freedom is less likely to overfit. Another thing we can try is to regularize the model e.g. by adding an $\\ell_2$ penalty (Ridge) or an $\\ell_1$ penalty (Lasso) to the cost function. This will also reduce the degrees of freedom of the model. Lastly, we can try to increase the size of the training set.\n",
    "9. Suppose we are using ridge regression and we notice that the training error and the validation error are almost equal and fairly high. Would we say that the model suffers from high bias or high variance? Should we increase the regularization hyperparameter $\\alpha$ or reduce it?\n",
    "> The model is likely underfitting the training set, which means it has a high bias. We should try reducing the regularization hyperparameter $\\alpha$.\n",
    "10. Why would we want to use:\n",
    "    - **a.** Ridge regression instead of plain linear regression (i.e., without any regularization)?\n",
    "    > A model with some regularization typically performs better than a model without any regularization, so we should generally prefer Ridge Regression over plain Linear Regression.\n",
    "    - **b.** Lasso instead of ridge regression?\n",
    "    > Lasso Regression uses an $\\ell_1$ penalty, which tends to push the weights down to exactly zero. This leads to sparse models, where all weights are zero except for the most important weights. This is a way to perform feature selection automatically, which is good if we suspect that only a few features actually matter. When we are not sure, we should prefer Ridge Regression.\n",
    "    - **c.** Elastic net instead of lasso regression?\n",
    "    > Elastic Net is generally preferred over Lasso since Lasso may behave erratically in some cases (when several features are strongly correlated or when $n>m$). However, it does add an extra hyperparameter to tune. If we want Lasso without the erratic behavior, we can just use Elastic Net with an `l1_ratio` close to 1.\n",
    "11. Suppose we want to classify pictures as outdoor/indoor and daytime/nighttime. Should we implement two logistic regression classifiers or one softmax regression classifier?\n",
    "> Since these are not exclusive classes (i.e., all four combinations are possible) we should train two Logistic Regression classifiers.\n",
    "12. Implement batch gradient descent with early stopping for softmax regression without using Scikit-Learn, only NumPy. Use it on a classification task such as the iris dataset.\n",
    "> Let's start by loading the data. We will just reuse the Iris dataset we loaded earlier."
   ]
  },
  {
   "cell_type": "code",
   "execution_count": 44,
   "metadata": {},
   "outputs": [],
   "source": [
    "X = iris.data[['petal length (cm)', 'petal width (cm)']].values\n",
    "y = iris['target'].values"
   ]
  },
  {
   "cell_type": "markdown",
   "metadata": {},
   "source": [
    "> We need to add the bias term for every instance ($x_0 = 1$). The easiest option to do this would be to use Scikit-Learn's `add_dummy_feature()` function, but the point of this exercise is to get a better understanding of the algorithms by implementing them manually. So here is one possible implementation:"
   ]
  },
  {
   "cell_type": "code",
   "execution_count": 45,
   "metadata": {},
   "outputs": [],
   "source": [
    "X_with_bias = np.c_[np.ones(len(X)), X]"
   ]
  },
  {
   "cell_type": "markdown",
   "metadata": {},
   "source": [
    "> The easiest option to split the dataset into a training set, a validation set and a test set would be to use Scikit-Learn's `train_test_split()` function, but again, we want to do it manually:"
   ]
  },
  {
   "cell_type": "code",
   "execution_count": 46,
   "metadata": {},
   "outputs": [],
   "source": [
    "test_ratio = 0.2\n",
    "validation_ratio = 0.2\n",
    "total_size = len(X_with_bias)\n",
    "\n",
    "test_size = int(total_size * test_ratio)\n",
    "validation_size = int(total_size * validation_ratio)\n",
    "train_size = total_size - test_size - validation_size\n",
    "\n",
    "np.random.seed(42)\n",
    "rnd_indices = np.random.permutation(total_size)\n",
    "\n",
    "X_train = X_with_bias[rnd_indices[:train_size]]\n",
    "y_train = y[rnd_indices[:train_size]]\n",
    "X_valid = X_with_bias[rnd_indices[train_size:-test_size]]\n",
    "y_valid = y[rnd_indices[train_size:-test_size]]\n",
    "X_test = X_with_bias[rnd_indices[-test_size:]]\n",
    "y_test = y[rnd_indices[-test_size:]]"
   ]
  },
  {
   "cell_type": "markdown",
   "metadata": {},
   "source": [
    "> The targets are currently class indices (0, 1 or 2), but we need target class probabilities to train the Softmax Regression model. Each instance will have target class probabilities equal to 0.0 for all classes except for the target class which will have a probability of 1.0 (in other words, the vector of class probabilities for any given instance is a one-hot vector). Let's write a small function to convert the vector of class indices into a matrix containing a one-hot vector for each instance. To understand this code, we need to know that `np.diag(np.ones(n))` creates an $n\\times n$ matrix full of 0s except for 1s on the main diagonal. Moreover, if `a` is a NumPy array, then `a[[1, 3, 2]]` returns an array with 3 rows equal to `a[1]`, `a[3]` and `a[2]` (this is [advanced NumPy indexing](https://numpy.org/doc/stable/user/basics.indexing.html#advanced-indexing))."
   ]
  },
  {
   "cell_type": "code",
   "execution_count": 47,
   "metadata": {},
   "outputs": [],
   "source": [
    "from numpy.typing import ArrayLike\n",
    "\n",
    "\n",
    "def to_one_hot(y: ArrayLike) -> ArrayLike:\n",
    "    return np.diag(np.ones(y.max() + 1))[y]"
   ]
  },
  {
   "cell_type": "markdown",
   "metadata": {},
   "source": [
    "> Let's test this function on the first 10 instances:"
   ]
  },
  {
   "cell_type": "code",
   "execution_count": 48,
   "metadata": {},
   "outputs": [
    {
     "data": {
      "text/plain": [
       "array([1, 0, 2, 1, 1, 0, 1, 2, 1, 1])"
      ]
     },
     "execution_count": 48,
     "metadata": {},
     "output_type": "execute_result"
    }
   ],
   "source": [
    "y_train[:10]"
   ]
  },
  {
   "cell_type": "code",
   "execution_count": 49,
   "metadata": {},
   "outputs": [
    {
     "data": {
      "text/plain": [
       "array([[0., 1., 0.],\n",
       "       [1., 0., 0.],\n",
       "       [0., 0., 1.],\n",
       "       [0., 1., 0.],\n",
       "       [0., 1., 0.],\n",
       "       [1., 0., 0.],\n",
       "       [0., 1., 0.],\n",
       "       [0., 0., 1.],\n",
       "       [0., 1., 0.],\n",
       "       [0., 1., 0.]])"
      ]
     },
     "execution_count": 49,
     "metadata": {},
     "output_type": "execute_result"
    }
   ],
   "source": [
    "to_one_hot(y_train[:10])"
   ]
  },
  {
   "cell_type": "markdown",
   "metadata": {},
   "source": [
    "> Looks good, so let's create the target class probabilities matrix for the training set and the test set:"
   ]
  },
  {
   "cell_type": "code",
   "execution_count": 50,
   "metadata": {},
   "outputs": [],
   "source": [
    "Y_train_one_hot = to_one_hot(y_train)\n",
    "Y_valid_one_hot = to_one_hot(y_valid)\n",
    "Y_test_one_hot = to_one_hot(y_test)"
   ]
  },
  {
   "cell_type": "markdown",
   "metadata": {},
   "source": [
    "> Now let's scale the inputs. We compute the mean and standard deviation of each feature on the training set (except for the bias feature), then we center and scale each feature in the training set, the validation set, and the test set:"
   ]
  },
  {
   "cell_type": "code",
   "execution_count": 51,
   "metadata": {},
   "outputs": [],
   "source": [
    "mean = X_train[:, 1:].mean(axis=0)\n",
    "std = X_train[:, 1:].std(axis=0)\n",
    "X_train[:, 1:] = (X_train[:, 1:] - mean) / std\n",
    "X_valid[:, 1:] = (X_valid[:, 1:] - mean) / std\n",
    "X_test[:, 1:] = (X_test[:, 1:] - mean) / std"
   ]
  },
  {
   "cell_type": "markdown",
   "metadata": {},
   "source": [
    "> Now let's implement the Softmax function. Recall that it is defined by the following equation:\n",
    "$$\n",
    "\\sigma\\left(\\mathbf{s}(\\mathbf{x})\\right)_k\n",
    "=\\frac{\\exp(s_k(\\mathbf{x}))}{\\sum_{j=1}^{K}{\\exp(s_j(\\mathbf{x}))}}\n",
    "$$"
   ]
  },
  {
   "cell_type": "code",
   "execution_count": 52,
   "metadata": {},
   "outputs": [],
   "source": [
    "def softmax(logits: ArrayLike) -> ArrayLike:\n",
    "    exps = np.exp(logits)\n",
    "    exp_sums = exps.sum(axis=1, keepdims=True)\n",
    "    return exps / exp_sums"
   ]
  },
  {
   "cell_type": "markdown",
   "metadata": {},
   "source": [
    "> We are almost ready to start training. Let's define the number of inputs and outputs:"
   ]
  },
  {
   "cell_type": "code",
   "execution_count": 53,
   "metadata": {},
   "outputs": [],
   "source": [
    "# == 3 (2 features plus the bias term)\n",
    "n_inputs = X_train.shape[1]\n",
    "# == 3 (there are 3 iris classes)\n",
    "n_outputs = len(np.unique(y_train))"
   ]
  },
  {
   "cell_type": "markdown",
   "metadata": {},
   "source": [
    "> Now here comes the hardest part: training! Theoretically, it's simple: it's just a matter of translating the math equations into Python code. But in practice, it can be quite tricky: in particular, it's easy to mix up the order of the terms, or the indices. We can even end up with code that looks like it's working but is actually not computing exactly the right thing. When unsure, we should write down the shape of each term in the equation and make sure the corresponding terms in our code match closely. It can also help to evaluate each term independently and print them out. The good news it that we won't have to do this everyday, since all this is well implemented by Scikit-Learn, but it will help us understand what's going on under the hood.\n",
    "\n",
    "> So the equations we will need are the cost function:\n",
    "$$\n",
    "J(\\mathbf{\\Theta}) =\n",
    "-\\frac{1}{m}\\sum_{i=1}^{m}\\sum_{k=1}^{K}{y_k^{(i)}\\log(\\widehat{p}_k^{(i)})}\n",
    "$$\n",
    "\n",
    "> And the equation for the gradients:\n",
    "$$\n",
    "\\nabla_{\\boldsymbol{\\theta}^{(k)}}J(\\mathbf{\\Theta})\n",
    "=\\frac{1}{m}\\sum_{i=1}^{m}\n",
    "\\left(\\widehat{p}^{(i)}_k-y_k^{(i)}\\right)\\mathbf{x}^{(i)}\n",
    "$$\n",
    "\n",
    "> Note that $\\log(\\widehat{p}_k^{(i)})$ may not be computable if $\\widehat{p}_k^{(i)}=0$. So we will add a tiny value $\\epsilon$ to $\\log(\\widehat{p}_k^{(i)})$ to avoid getting `nan` values."
   ]
  },
  {
   "cell_type": "code",
   "execution_count": 54,
   "metadata": {},
   "outputs": [
    {
     "name": "stdout",
     "output_type": "stream",
     "text": [
      "0 3.7085808486476917\n",
      "1000 0.14519367480830644\n",
      "2000 0.1301309575504088\n",
      "3000 0.12009639326384539\n",
      "4000 0.11372961364786884\n",
      "5000 0.11002459532472425\n"
     ]
    }
   ],
   "source": [
    "eta = 0.5\n",
    "n_epochs = 5001\n",
    "m = len(X_train)\n",
    "epsilon = 1e-5\n",
    "\n",
    "np.random.seed(42)\n",
    "Theta = np.random.randn(n_inputs, n_outputs)\n",
    "\n",
    "for epoch in range(n_epochs):\n",
    "    logits = X_train @ Theta\n",
    "    Y_proba = softmax(logits)\n",
    "    if epoch % 1000 == 0:\n",
    "        Y_proba_valid = softmax(X_valid @ Theta)\n",
    "        xentropy_losses = -(Y_valid_one_hot * np.log(Y_proba_valid + epsilon))\n",
    "        print(epoch, xentropy_losses.sum(axis=1).mean())\n",
    "    error = Y_proba - Y_train_one_hot\n",
    "    gradients = 1 / m * X_train.T @ error\n",
    "    Theta = Theta - eta * gradients"
   ]
  },
  {
   "cell_type": "markdown",
   "metadata": {},
   "source": [
    "> And that's it! The Softmax model is trained. Let's look at the model parameters:"
   ]
  },
  {
   "cell_type": "code",
   "execution_count": 55,
   "metadata": {},
   "outputs": [
    {
     "data": {
      "text/plain": [
       "array([[ 0.41931626,  6.11112089, -5.52429876],\n",
       "       [-6.53054533, -0.74608616,  8.33137102],\n",
       "       [-5.28115784,  0.25152675,  6.90680425]])"
      ]
     },
     "execution_count": 55,
     "metadata": {},
     "output_type": "execute_result"
    }
   ],
   "source": [
    "Theta"
   ]
  },
  {
   "cell_type": "markdown",
   "metadata": {},
   "source": [
    "> Let's make predictions for the validation set and check the accuracy score:"
   ]
  },
  {
   "cell_type": "code",
   "execution_count": 56,
   "metadata": {},
   "outputs": [
    {
     "data": {
      "text/plain": [
       "0.9333333333333333"
      ]
     },
     "execution_count": 56,
     "metadata": {},
     "output_type": "execute_result"
    }
   ],
   "source": [
    "logits = X_valid @ Theta\n",
    "Y_proba = softmax(logits)\n",
    "y_predict = Y_proba.argmax(axis=1)\n",
    "\n",
    "accuracy_score = (y_predict == y_valid).mean()\n",
    "accuracy_score"
   ]
  },
  {
   "cell_type": "markdown",
   "metadata": {},
   "source": [
    "> Well, this model looks pretty ok. For the sake of the exercise, let's add a bit of $\\ell_2$ regularization. The following training code is similar to the one above, but the loss now has an additional $\\ell_2$ penalty, and the gradients have the proper additional term (note that we don't regularize the first element of `Theta` since this corresponds to the bias term). Also, let's try increasing the learning rate `eta`."
   ]
  },
  {
   "cell_type": "code",
   "execution_count": 57,
   "metadata": {},
   "outputs": [
    {
     "name": "stdout",
     "output_type": "stream",
     "text": [
      "0 3.7372\n",
      "1000 0.3259\n",
      "2000 0.3259\n",
      "3000 0.3259\n",
      "4000 0.3259\n",
      "5000 0.3259\n"
     ]
    }
   ],
   "source": [
    "eta = 0.5\n",
    "n_epochs = 5001\n",
    "m = len(X_train)\n",
    "epsilon = 1e-5\n",
    "# Regularization hyperparameter\n",
    "alpha = 0.01\n",
    "\n",
    "np.random.seed(42)\n",
    "Theta = np.random.randn(n_inputs, n_outputs)\n",
    "\n",
    "for epoch in range(n_epochs):\n",
    "    logits = X_train @ Theta\n",
    "    Y_proba = softmax(logits)\n",
    "    if epoch % 1000 == 0:\n",
    "        Y_proba_valid = softmax(X_valid @ Theta)\n",
    "        xentropy_losses = -(Y_valid_one_hot * np.log(Y_proba_valid + epsilon))\n",
    "        l2_loss = 1 / 2 * (Theta[1:] ** 2).sum()\n",
    "        total_loss = xentropy_losses.sum(axis=1).mean() + alpha * l2_loss\n",
    "        print(epoch, total_loss.round(4))\n",
    "    error = Y_proba - Y_train_one_hot\n",
    "    gradients = 1 / m * X_train.T @ error\n",
    "    gradients += np.r_[np.zeros([1, n_outputs]), alpha * Theta[1:]]\n",
    "    Theta = Theta - eta * gradients"
   ]
  },
  {
   "cell_type": "markdown",
   "metadata": {},
   "source": [
    "> Because of the additional $\\ell_2$ penalty, the loss seems greater than earlier, but perhaps this model will perform better? Let's find out:"
   ]
  },
  {
   "cell_type": "code",
   "execution_count": 58,
   "metadata": {},
   "outputs": [
    {
     "data": {
      "text/plain": [
       "0.9333333333333333"
      ]
     },
     "execution_count": 58,
     "metadata": {},
     "output_type": "execute_result"
    }
   ],
   "source": [
    "logits = X_valid @ Theta\n",
    "Y_proba = softmax(logits)\n",
    "y_predict = Y_proba.argmax(axis=1)\n",
    "\n",
    "accuracy_score = (y_predict == y_valid).mean()\n",
    "accuracy_score"
   ]
  },
  {
   "cell_type": "markdown",
   "metadata": {},
   "source": [
    "> In this case, the $\\ell_2$ penalty did not change the test accuracy. Perhaps try fine-tuning `alpha`?\n",
    "\n",
    "> Now let's add early stopping. For this we just need to measure the loss on the validation set at every iteration and stop when the error starts growing."
   ]
  },
  {
   "cell_type": "code",
   "execution_count": 59,
   "metadata": {},
   "outputs": [
    {
     "name": "stdout",
     "output_type": "stream",
     "text": [
      "0 3.7372\n",
      "281 0.3256\n",
      "282 0.3256 early stopping!\n"
     ]
    }
   ],
   "source": [
    "eta = 0.5\n",
    "n_epochs = 50_001\n",
    "m = len(X_train)\n",
    "epsilon = 1e-5\n",
    "# Regularization hyperparameter\n",
    "C = 100\n",
    "best_loss = np.infty\n",
    "\n",
    "np.random.seed(42)\n",
    "Theta = np.random.randn(n_inputs, n_outputs)\n",
    "\n",
    "for epoch in range(n_epochs):\n",
    "    logits = X_train @ Theta\n",
    "    Y_proba = softmax(logits)\n",
    "    Y_proba_valid = softmax(X_valid @ Theta)\n",
    "    xentropy_losses = -(Y_valid_one_hot * np.log(Y_proba_valid + epsilon))\n",
    "    l2_loss = 1 / 2 * (Theta[1:] ** 2).sum()\n",
    "    total_loss = xentropy_losses.sum(axis=1).mean() + 1 / C * l2_loss\n",
    "    if epoch % 1000 == 0:\n",
    "        print(epoch, total_loss.round(4))\n",
    "    if total_loss < best_loss:\n",
    "        best_loss = total_loss\n",
    "    else:\n",
    "        print(epoch - 1, best_loss.round(4))\n",
    "        print(epoch, total_loss.round(4), 'early stopping!')\n",
    "        break\n",
    "    error = Y_proba - Y_train_one_hot\n",
    "    gradients = 1 / m * X_train.T @ error\n",
    "    gradients += np.r_[np.zeros([1, n_outputs]), 1 / C * Theta[1:]]\n",
    "    Theta = Theta - eta * gradients"
   ]
  },
  {
   "cell_type": "code",
   "execution_count": 60,
   "metadata": {},
   "outputs": [
    {
     "data": {
      "text/plain": [
       "0.9333333333333333"
      ]
     },
     "execution_count": 60,
     "metadata": {},
     "output_type": "execute_result"
    }
   ],
   "source": [
    "logits = X_valid @ Theta\n",
    "Y_proba = softmax(logits)\n",
    "y_predict = Y_proba.argmax(axis=1)\n",
    "\n",
    "accuracy_score = (y_predict == y_valid).mean()\n",
    "accuracy_score"
   ]
  },
  {
   "cell_type": "markdown",
   "metadata": {},
   "source": [
    "> Oh well, still no change in validation accuracy, but at least early stopping shortened training a bit.\n",
    "\n",
    "> Now let's plot the model's predictions on the whole dataset (remember to scale all features fed to the model):"
   ]
  },
  {
   "cell_type": "code",
   "execution_count": 61,
   "metadata": {},
   "outputs": [
    {
     "data": {
      "image/png": "[encoded data removed]",
      "text/plain": [
       "<Figure size 720x288 with 1 Axes>"
      ]
     },
     "metadata": {
      "needs_background": "light"
     },
     "output_type": "display_data"
    }
   ],
   "source": [
    "import matplotlib as mpl\n",
    "\n",
    "custom_cmap = mpl.colors.ListedColormap(['#fafab0', '#9898ff', '#a0faa0'])\n",
    "\n",
    "x0, x1 = np.meshgrid(\n",
    "    np.linspace(0, 8, 500).reshape(-1, 1),\n",
    "    np.linspace(0, 3.5, 200).reshape(-1, 1),\n",
    ")\n",
    "X_new = np.c_[x0.ravel(), x1.ravel()]\n",
    "X_new = (X_new - mean) / std\n",
    "X_new_with_bias = np.c_[np.ones(len(X_new)), X_new]\n",
    "\n",
    "logits = X_new_with_bias @ Theta\n",
    "Y_proba = softmax(logits)\n",
    "y_predict = Y_proba.argmax(axis=1)\n",
    "\n",
    "zz1 = Y_proba[:, 1].reshape(x0.shape)\n",
    "zz = y_predict.reshape(x0.shape)\n",
    "\n",
    "plt.figure(figsize=(10, 4))\n",
    "plt.plot(X[y == 2, 0], X[y == 2, 1], 'g^', label='Iris virginica')\n",
    "plt.plot(X[y == 1, 0], X[y == 1, 1], 'bs', label='Iris versicolor')\n",
    "plt.plot(X[y == 0, 0], X[y == 0, 1], 'yo', label='Iris setosa')\n",
    "\n",
    "plt.contourf(x0, x1, zz, cmap=custom_cmap)\n",
    "contour = plt.contour(x0, x1, zz1, cmap='hot')\n",
    "plt.clabel(contour, inline=1)\n",
    "plt.xlabel('Petal length')\n",
    "plt.ylabel('Petal width')\n",
    "plt.legend(loc='upper left')\n",
    "plt.axis([0, 7, 0, 3.5])\n",
    "plt.grid()\n",
    "plt.show()"
   ]
  },
  {
   "cell_type": "markdown",
   "metadata": {},
   "source": [
    "> And now let's measure the final model's accuracy on the test set:"
   ]
  },
  {
   "cell_type": "code",
   "execution_count": 62,
   "metadata": {},
   "outputs": [
    {
     "data": {
      "text/plain": [
       "0.9666666666666667"
      ]
     },
     "execution_count": 62,
     "metadata": {},
     "output_type": "execute_result"
    }
   ],
   "source": [
    "logits = X_test @ Theta\n",
    "Y_proba = softmax(logits)\n",
    "y_predict = Y_proba.argmax(axis=1)\n",
    "\n",
    "accuracy_score = (y_predict == y_test).mean()\n",
    "accuracy_score"
   ]
  },
  {
   "cell_type": "markdown",
   "metadata": {},
   "source": [
    "> Well we get even better performance on the test set. This variability is likely due to the very small size of the dataset: depending on how we sample the training set, validation set and the test set, we can get quite different results. Try changing the random seed and running the code again a few times, we will see that the results will vary."
   ]
  }
 ],
 "metadata": {
  "kernelspec": {
   "display_name": "Python 3 (ipykernel)",
   "language": "python",
   "name": "python3"
  },
  "language_info": {
   "codemirror_mode": {
    "name": "ipython",
    "version": 3
   },
   "file_extension": ".py",
   "mimetype": "text/x-python",
   "name": "python",
   "nbconvert_exporter": "python",
   "pygments_lexer": "ipython3",
   "version": "3.10.4"
  },
  "nav_menu": {},
  "toc": {
   "navigate_menu": true,
   "number_sections": true,
   "sideBar": true,
   "threshold": 6,
   "toc_cell": false,
   "toc_section_display": "block",
   "toc_window_display": false
  }
 },
 "nbformat": 4,
 "nbformat_minor": 4
}
