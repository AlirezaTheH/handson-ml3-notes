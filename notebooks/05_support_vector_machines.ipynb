{
 "cells": [
  {
   "cell_type": "markdown",
   "metadata": {},
   "source": [
    "# Support Vector Machines\n",
    "[![Open in Colab](https://colab.research.google.com/assets/colab-badge.svg)](https://colab.research.google.com/github/alirezatheh/handson-ml3-notes/blob/main/notebooks/05_support_vector_machines.ipynb)\n",
    "[![Open in Kaggle](https://kaggle.com/static/images/open-in-kaggle.svg)](https://kaggle.com/kernels/welcome?src=https://github.com/alirezatheh/handson-ml3-notes/blob/main/notebooks/05_support_vector_machines.ipynb)"
   ]
  },
  {
   "cell_type": "markdown",
   "metadata": {},
   "source": [
    "## Linear SVM Classification\n",
    "The idea behind SVMs is best explained with some visuals:\n",
    "\n",
    "<center>\n",
    "  <img \n",
    "    src=\"../images/05/large_margin_classification.png\"\n",
    "    onerror=\"\n",
    "      this.onerror = null;\n",
    "      const repo = 'https://github.com/alirezatheh/handson-ml3-notes/blob/main';\n",
    "      this.src = repo + this.src.split('..')[1];\n",
    "    \"\n",
    "  >\n",
    "</center>\n",
    "\n",
    "Above, the solid line in the plot on the right represents the decision boundary of an SVM classifier; this line not only separates the two classes but also stays as far away from the closest training instances as possible. We can think of an SVM classifier as fitting the widest possible street (parallel dashed lines) between the classes. This is called *large margin classification*. Notice that adding more training instances “off the street” will not affect the decision boundary at all: it is fully determined (or “supported”) by the instances located on the edge of the street. These instances are called the *support vectors*.\n",
    "\n",
    "**Warning**: SVMs are sensitive to the feature scales.\n",
    "\n",
    "<center>\n",
    "  <img \n",
    "    src=\"../images/05/sensitivity_to_feature_scales.png\"\n",
    "    onerror=\"\n",
    "      this.onerror = null;\n",
    "      const repo = 'https://github.com/alirezatheh/handson-ml3-notes/blob/main';\n",
    "      this.src = repo + this.src.split('..')[1];\n",
    "    \"\n",
    "  >\n",
    "</center>"
   ]
  },
  {
   "cell_type": "markdown",
   "metadata": {},
   "source": [
    "### Soft Margin Classification\n",
    "If we strictly impose that all instances must be off the street and on the correct side, this is called *hard margin classification*. This has two main issues:\n",
    "- It only works if the data is *linearly separable*.\n",
    "- It is sensitive to outliers.\n",
    "\n",
    "<center>\n",
    "  <img \n",
    "    src=\"../images/05/hard_margin_issues.png\"\n",
    "    onerror=\"\n",
    "      this.onerror = null;\n",
    "      const repo = 'https://github.com/alirezatheh/handson-ml3-notes/blob/main';\n",
    "      this.src = repo + this.src.split('..')[1];\n",
    "    \"\n",
    "  >\n",
    "</center>\n",
    "\n",
    "To avoid these issues, we need to use a more flexible model. The objective is to find a good balance between keeping the street as large as possible and limiting the *margin violations*. This is called *soft margin classification*.\n",
    "\n",
    "In Scikit-Learn we use `C` hyperparameter:\n",
    "- low `C`: Large street\n",
    "- high `C`: Small street\n",
    "\n",
    "**Tip**: If an SVM model is overfitting, we can try regularizing it by reducing `C`.\n",
    "\n",
    "Let’s loads the iris dataset and train a linear SVM classifier to detect *Iris virginica* flowers:"
   ]
  },
  {
   "cell_type": "code",
   "execution_count": 1,
   "metadata": {},
   "outputs": [
    {
     "data": {
      "text/plain": [
       "Pipeline(steps=[('standardscaler', StandardScaler()),\n",
       "                ('linearsvc', LinearSVC(C=1, random_state=42))])"
      ]
     },
     "execution_count": 1,
     "metadata": {},
     "output_type": "execute_result"
    }
   ],
   "source": [
    "import numpy as np\n",
    "from sklearn.datasets import load_iris\n",
    "from sklearn.pipeline import make_pipeline\n",
    "from sklearn.preprocessing import StandardScaler\n",
    "from sklearn.svm import LinearSVC\n",
    "\n",
    "iris = load_iris(as_frame=True)\n",
    "X = iris.data[['petal length (cm)', 'petal width (cm)']].values\n",
    "# Iris virginica\n",
    "y = iris.target == 2\n",
    "\n",
    "svm_clf = make_pipeline(StandardScaler(), LinearSVC(C=1, random_state=42))\n",
    "svm_clf.fit(X, y)"
   ]
  },
  {
   "cell_type": "code",
   "execution_count": 2,
   "metadata": {},
   "outputs": [
    {
     "data": {
      "text/plain": [
       "array([ True, False])"
      ]
     },
     "execution_count": 2,
     "metadata": {},
     "output_type": "execute_result"
    }
   ],
   "source": [
    "X_new = [[5.5, 1.7], [5.0, 1.5]]\n",
    "svm_clf.predict(X_new)"
   ]
  },
  {
   "cell_type": "markdown",
   "metadata": {
    "collapsed": false,
    "jupyter": {
     "outputs_hidden": false
    }
   },
   "source": [
    "`LinearSVC` doesn’t have a `predict_proba()` method:"
   ]
  },
  {
   "cell_type": "code",
   "execution_count": 3,
   "metadata": {},
   "outputs": [
    {
     "data": {
      "text/plain": [
       "array([ 0.66163411, -0.22036063])"
      ]
     },
     "execution_count": 3,
     "metadata": {},
     "output_type": "execute_result"
    }
   ],
   "source": [
    "svm_clf.decision_function(X_new)"
   ]
  },
  {
   "cell_type": "markdown",
   "metadata": {},
   "source": [
    "If we use the `SVC` class, and if we set `probability=True`, the model will fit an extra model at the end of training to map the SVM decision function scores to estimated probabilities. This will slow down training considerably."
   ]
  },
  {
   "cell_type": "markdown",
   "metadata": {
    "collapsed": false,
    "jupyter": {
     "outputs_hidden": false
    }
   },
   "source": [
    "## Nonlinear SVM Classification\n",
    "We can add polynomial features as before. Here adding $x_2=(x_1)^2$ made the dataset linearly seperable:\n",
    "\n",
    "<center>\n",
    "  <img \n",
    "    src=\"../images/05/polynomial_features.png\"\n",
    "    onerror=\"\n",
    "      this.onerror = null;\n",
    "      const repo = 'https://github.com/alirezatheh/handson-ml3-notes/blob/main';\n",
    "      this.src = repo + this.src.split('..')[1];\n",
    "    \"\n",
    "  >\n",
    "</center>\n",
    "\n",
    "Let’s test this on the moons dataset:"
   ]
  },
  {
   "cell_type": "code",
   "execution_count": 4,
   "metadata": {},
   "outputs": [
    {
     "data": {
      "text/plain": [
       "Pipeline(steps=[('polynomialfeatures', PolynomialFeatures(degree=3)),\n",
       "                ('standardscaler', StandardScaler()),\n",
       "                ('linearsvc',\n",
       "                 LinearSVC(C=10, max_iter=10000, random_state=42))])"
      ]
     },
     "execution_count": 4,
     "metadata": {},
     "output_type": "execute_result"
    }
   ],
   "source": [
    "from sklearn.datasets import make_moons\n",
    "from sklearn.preprocessing import PolynomialFeatures\n",
    "\n",
    "X, y = make_moons(n_samples=100, noise=0.15, random_state=42)\n",
    "\n",
    "polynomial_svm_clf = make_pipeline(\n",
    "    PolynomialFeatures(degree=3),\n",
    "    StandardScaler(),\n",
    "    LinearSVC(C=10, max_iter=10_000, random_state=42),\n",
    ")\n",
    "polynomial_svm_clf.fit(X, y)"
   ]
  },
  {
   "cell_type": "code",
   "execution_count": 5,
   "metadata": {},
   "outputs": [
    {
     "data": {
      "image/png": "[encoded data removed]",
      "text/plain": [
       "<Figure size 432x288 with 1 Axes>"
      ]
     },
     "metadata": {
      "needs_background": "light"
     },
     "output_type": "display_data"
    }
   ],
   "source": [
    "import matplotlib.pyplot as plt\n",
    "from numpy.typing import ArrayLike\n",
    "from sklearn.pipeline import Pipeline\n",
    "\n",
    "plt.rc('font', size=14)\n",
    "plt.rc('axes', labelsize=14, titlesize=14)\n",
    "plt.rc('legend', fontsize=14)\n",
    "plt.rc('xtick', labelsize=10)\n",
    "plt.rc('ytick', labelsize=10)\n",
    "\n",
    "\n",
    "def plot_dataset(X: ArrayLike, y: ArrayLike, axes: list[float]) -> None:\n",
    "    plt.plot(X[:, 0][y == 0], X[:, 1][y == 0], 'bs')\n",
    "    plt.plot(X[:, 0][y == 1], X[:, 1][y == 1], 'g^')\n",
    "    plt.axis(axes)\n",
    "    plt.grid(True)\n",
    "    plt.xlabel('$x_1$')\n",
    "    plt.ylabel('$x_2$', rotation=0)\n",
    "\n",
    "\n",
    "def plot_predictions(clf: Pipeline, axes: list[float]) -> None:\n",
    "    x0s = np.linspace(axes[0], axes[1], 100)\n",
    "    x1s = np.linspace(axes[2], axes[3], 100)\n",
    "    x0, x1 = np.meshgrid(x0s, x1s)\n",
    "    X = np.c_[x0.ravel(), x1.ravel()]\n",
    "    y_pred = clf.predict(X).reshape(x0.shape)\n",
    "    y_decision = clf.decision_function(X).reshape(x0.shape)\n",
    "    plt.contourf(x0, x1, y_pred, cmap=plt.cm.brg, alpha=0.2)\n",
    "    plt.contourf(x0, x1, y_decision, cmap=plt.cm.brg, alpha=0.1)\n",
    "\n",
    "\n",
    "plot_predictions(polynomial_svm_clf, [-1.5, 2.5, -1, 1.5])\n",
    "plot_dataset(X, y, [-1.5, 2.5, -1, 1.5])\n",
    "\n",
    "plt.show()"
   ]
  },
  {
   "cell_type": "markdown",
   "metadata": {},
   "source": [
    "### Polynomial Kernel\n",
    "When using SVMs we can apply an almost miraculous mathematical technique called the *kernel trick*. It gets the same result as if we had added many polynomial features, even with a very high degree, without actually having to add them. This trick is implemented by the `SVC` class:"
   ]
  },
  {
   "cell_type": "code",
   "execution_count": 6,
   "metadata": {},
   "outputs": [
    {
     "data": {
      "text/plain": [
       "Pipeline(steps=[('standardscaler', StandardScaler()),\n",
       "                ('svc', SVC(C=5, coef0=1, kernel='poly'))])"
      ]
     },
     "execution_count": 6,
     "metadata": {},
     "output_type": "execute_result"
    }
   ],
   "source": [
    "from sklearn.svm import SVC\n",
    "\n",
    "poly_kernel_svm_clf = make_pipeline(\n",
    "    StandardScaler(), SVC(kernel='poly', degree=3, coef0=1, C=5)\n",
    ")\n",
    "poly_kernel_svm_clf.fit(X, y)"
   ]
  },
  {
   "cell_type": "markdown",
   "metadata": {},
   "source": [
    "Let’s try a different `coef0` and then compare them:"
   ]
  },
  {
   "cell_type": "code",
   "execution_count": 7,
   "metadata": {},
   "outputs": [
    {
     "data": {
      "image/png": "[encoded data removed]",
      "text/plain": [
       "<Figure size 756x288 with 2 Axes>"
      ]
     },
     "metadata": {
      "needs_background": "light"
     },
     "output_type": "display_data"
    }
   ],
   "source": [
    "poly100_kernel_svm_clf = make_pipeline(\n",
    "    StandardScaler(), SVC(kernel='poly', degree=10, coef0=100, C=5)\n",
    ")\n",
    "poly100_kernel_svm_clf.fit(X, y)\n",
    "\n",
    "fig, axes = plt.subplots(ncols=2, figsize=(10.5, 4), sharey=True)\n",
    "\n",
    "plt.sca(axes[0])\n",
    "plot_predictions(poly_kernel_svm_clf, [-1.5, 2.45, -1, 1.5])\n",
    "plot_dataset(X, y, [-1.5, 2.4, -1, 1.5])\n",
    "plt.title('degree=3, coef0=1, C=5')\n",
    "\n",
    "plt.sca(axes[1])\n",
    "plot_predictions(poly100_kernel_svm_clf, [-1.5, 2.45, -1, 1.5])\n",
    "plot_dataset(X, y, [-1.5, 2.4, -1, 1.5])\n",
    "plt.title('degree=10, coef0=100, C=5')\n",
    "plt.ylabel('')\n",
    "\n",
    "plt.show()"
   ]
  },
  {
   "cell_type": "markdown",
   "metadata": {},
   "source": [
    "The hyperparameter `coef0` controls how much the model is influenced by high-degree terms versus low-degree terms."
   ]
  },
  {
   "cell_type": "markdown",
   "metadata": {},
   "source": [
    "### Similarity Features\n",
    "Another technique is to add features computed using a similarity function, which measures how much each instance resembles a particular *landmark*. Here similarity features $x_2$ and $x_3$ using the Gaussian RBF made the dataset linearly separable:\n",
    "\n",
    "<center>\n",
    "  <img \n",
    "    src=\"../images/05/similarity_features.png\"\n",
    "    onerror=\"\n",
    "      this.onerror = null;\n",
    "      const repo = 'https://github.com/alirezatheh/handson-ml3-notes/blob/main';\n",
    "      this.src = repo + this.src.split('..')[1];\n",
    "    \"\n",
    "  >\n",
    "</center>\n",
    "\n",
    "How to select the landmarks? The simplest approach is to create a landmark at the location of each and every instance in the dataset. The downside is that after that we’ll have $m$ features (droping originals)."
   ]
  },
  {
   "cell_type": "markdown",
   "metadata": {
    "collapsed": false,
    "jupyter": {
     "outputs_hidden": false
    }
   },
   "source": [
    "### Gaussian RBF Kernel\n",
    "Once again the kernel trick does its SVM magic, and gives similar result as if we had added many similarity features:"
   ]
  },
  {
   "cell_type": "code",
   "execution_count": 8,
   "metadata": {},
   "outputs": [
    {
     "data": {
      "text/plain": [
       "Pipeline(steps=[('standardscaler', StandardScaler()),\n",
       "                ('svc', SVC(C=0.001, gamma=5))])"
      ]
     },
     "execution_count": 8,
     "metadata": {},
     "output_type": "execute_result"
    }
   ],
   "source": [
    "rbf_kernel_svm_clf = make_pipeline(\n",
    "    StandardScaler(), SVC(kernel='rbf', gamma=5, C=0.001)\n",
    ")\n",
    "rbf_kernel_svm_clf.fit(X, y)"
   ]
  },
  {
   "cell_type": "markdown",
   "metadata": {},
   "source": [
    "Let’s try various `gamma` and `C` and then compare them:"
   ]
  },
  {
   "cell_type": "code",
   "execution_count": 9,
   "metadata": {},
   "outputs": [
    {
     "data": {
      "image/png": "[encoded data removed]",
      "text/plain": [
       "<Figure size 756x504 with 4 Axes>"
      ]
     },
     "metadata": {
      "needs_background": "light"
     },
     "output_type": "display_data"
    }
   ],
   "source": [
    "gamma1, gamma2 = 0.1, 5\n",
    "C1, C2 = 0.001, 1000\n",
    "hyperparams = (gamma1, C1), (gamma1, C2), (gamma2, C1), (gamma2, C2)\n",
    "\n",
    "svm_clfs = []\n",
    "for gamma, C in hyperparams:\n",
    "    rbf_kernel_svm_clf = make_pipeline(\n",
    "        StandardScaler(), SVC(kernel='rbf', gamma=gamma, C=C)\n",
    "    )\n",
    "    rbf_kernel_svm_clf.fit(X, y)\n",
    "    svm_clfs.append(rbf_kernel_svm_clf)\n",
    "\n",
    "fig, axes = plt.subplots(\n",
    "    nrows=2, ncols=2, figsize=(10.5, 7), sharex=True, sharey=True\n",
    ")\n",
    "\n",
    "for i, svm_clf in enumerate(svm_clfs):\n",
    "    plt.sca(axes[i // 2, i % 2])\n",
    "    plot_predictions(svm_clf, [-1.5, 2.45, -1, 1.5])\n",
    "    plot_dataset(X, y, [-1.5, 2.45, -1, 1.5])\n",
    "    gamma, C = hyperparams[i]\n",
    "    plt.title(f'gamma={gamma}, C={C}')\n",
    "    if i in (0, 1):\n",
    "        plt.xlabel('')\n",
    "    if i in (1, 3):\n",
    "        plt.ylabel('')\n",
    "\n",
    "plt.show()"
   ]
  },
  {
   "cell_type": "markdown",
   "metadata": {},
   "source": [
    "Other kernels exist but are used much more rarely. Some kernels are specialized for specific data structures. *String kernels* are sometimes used when classifying text documents or DNA sequences (e.g., using the string subsequence kernel or kernels based on the Levenshtein distance).\n",
    "\n",
    "**Tip**: Which kernel to use? Start with `LinearSVC` and then RBF."
   ]
  },
  {
   "cell_type": "markdown",
   "metadata": {
    "collapsed": false,
    "jupyter": {
     "outputs_hidden": false
    }
   },
   "source": [
    "### SVM Classes and Computational Complexity\n",
    "| Class           | Time complexicty                     | Out-of-core support | Scaling required | Kernel trick |\n",
    "|:----------------|:-------------------------------------|:--------------------|:-----------------|:-------------|\n",
    "| `LinearSVC`     | $O(m\\times n)$                       | No                  | Yes              | No           |\n",
    "| `SVC`           | $O(m^2\\times n)$ to $O(m^3\\times n)$ | No                  | Yes              | Yes          |\n",
    "| `SGDClassifier` | $O(m\\times n)$                       | Yes                 | Yes              | No           |\n",
    "\n",
    "The `LinearSVC` class is based on the `liblinear` library, which implements an optimized algorithm for linear SVMs by Chih-Jen Lin et al. in a 2008 paper [“A Dual Coordinate Descent Method for Large-Scale Linear SVM”](https://homl.info/13). The algorithm takes longer if we require very high precision. This is controlled by the tolerace hyperparameter $\\epsilon$ (called `tol` in Scikit-Learn).\n",
    "\n",
    "The `SVC` class is based on the `libsvm` library, which implements an algorithm that supports the kernel trick by John Platt, in a 1998 paper [“Sequential Minimal Optimization: A Fast Algorithm for Training Support Vector Machines”](https://homl.info/14).\n",
    "\n",
    "The `SGDClassifier` class also performs large margin classification by default."
   ]
  },
  {
   "cell_type": "markdown",
   "metadata": {},
   "source": [
    "## SVM Regression\n",
    "To use SVMs for regression, the trick is to tweak the objective: instead of trying to fit the largest possible street between two classes while limiting margin violations, tries to fit as many instances as possible on the street while limiting margin violations (i.e., instances *off* the street). The width of the street is controlled by a hyperparameter, $\\epsilon$. Reducing $\\epsilon$ increases the number of support vectors, which regularizes the model. If we add more training instances within the margin, it will not affect the model’s predictions; thus, the model is said to be $\\epsilon$*-insensitive*."
   ]
  },
  {
   "cell_type": "code",
   "execution_count": 10,
   "metadata": {},
   "outputs": [
    {
     "data": {
      "text/plain": [
       "Pipeline(steps=[('standardscaler', StandardScaler()),\n",
       "                ('linearsvr', LinearSVR(epsilon=0.5, random_state=42))])"
      ]
     },
     "execution_count": 10,
     "metadata": {},
     "output_type": "execute_result"
    }
   ],
   "source": [
    "from sklearn.svm import LinearSVR\n",
    "\n",
    "np.random.seed(42)\n",
    "X = 2 * np.random.rand(50, 1)\n",
    "y = 4 + 3 * X[:, 0] + np.random.randn(50)\n",
    "\n",
    "svm_reg = make_pipeline(\n",
    "    StandardScaler(), LinearSVR(epsilon=0.5, random_state=42)\n",
    ")\n",
    "svm_reg.fit(X, y)"
   ]
  },
  {
   "cell_type": "markdown",
   "metadata": {},
   "source": [
    "Let’s try an different `epsilon` and then compare them:"
   ]
  },
  {
   "cell_type": "code",
   "execution_count": 11,
   "metadata": {},
   "outputs": [
    {
     "data": {
      "image/png": "[encoded data removed]",
      "text/plain": [
       "<Figure size 648x288 with 2 Axes>"
      ]
     },
     "metadata": {
      "needs_background": "light"
     },
     "output_type": "display_data"
    }
   ],
   "source": [
    "def find_support_vectors(\n",
    "    svm_reg: Pipeline, X: ArrayLike, y: ArrayLike\n",
    ") -> ArrayLike:\n",
    "    y_pred = svm_reg.predict(X)\n",
    "    epsilon = svm_reg[-1].epsilon\n",
    "    off_margin = np.abs(y - y_pred) >= epsilon\n",
    "    return np.argwhere(off_margin)\n",
    "\n",
    "\n",
    "def plot_svm_regression(\n",
    "    svm_reg: Pipeline, X: ArrayLike, y: ArrayLike, axes: list[float]\n",
    ") -> None:\n",
    "    x1s = np.linspace(axes[0], axes[1], 100).reshape(100, 1)\n",
    "    y_pred = svm_reg.predict(x1s)\n",
    "    epsilon = svm_reg[-1].epsilon\n",
    "    plt.plot(x1s, y_pred, 'k-', linewidth=2, label=r'$\\hat{y}$', zorder=-2)\n",
    "    plt.plot(x1s, y_pred + epsilon, 'k--', zorder=-2)\n",
    "    plt.plot(x1s, y_pred - epsilon, 'k--', zorder=-2)\n",
    "    plt.scatter(\n",
    "        X[svm_reg._support],\n",
    "        y[svm_reg._support],\n",
    "        s=180,\n",
    "        facecolors='#AAA',\n",
    "        zorder=-1,\n",
    "    )\n",
    "    plt.plot(X, y, 'bo')\n",
    "    plt.xlabel('$x_1$')\n",
    "    plt.legend(loc='upper left')\n",
    "    plt.axis(axes)\n",
    "\n",
    "\n",
    "svm_reg2 = make_pipeline(\n",
    "    StandardScaler(), LinearSVR(epsilon=1.2, random_state=42)\n",
    ")\n",
    "svm_reg2.fit(X, y)\n",
    "\n",
    "svm_reg._support = find_support_vectors(svm_reg, X, y)\n",
    "svm_reg2._support = find_support_vectors(svm_reg2, X, y)\n",
    "\n",
    "eps_x1 = 1\n",
    "eps_y_pred = svm_reg2.predict([[eps_x1]])\n",
    "\n",
    "fig, axes = plt.subplots(ncols=2, figsize=(9, 4), sharey=True)\n",
    "plt.sca(axes[0])\n",
    "plot_svm_regression(svm_reg, X, y, [0, 2, 3, 11])\n",
    "plt.title(f'epsilon={svm_reg[-1].epsilon}')\n",
    "plt.ylabel('$y$', rotation=0)\n",
    "plt.grid()\n",
    "plt.sca(axes[1])\n",
    "plot_svm_regression(svm_reg2, X, y, [0, 2, 3, 11])\n",
    "plt.title(f'epsilon={svm_reg2[-1].epsilon}')\n",
    "plt.annotate(\n",
    "    '',\n",
    "    xy=(eps_x1, eps_y_pred),\n",
    "    xycoords='data',\n",
    "    xytext=(eps_x1, eps_y_pred - svm_reg2[-1].epsilon),\n",
    "    textcoords='data',\n",
    "    arrowprops={'arrowstyle': '<->', 'linewidth': 1.5},\n",
    ")\n",
    "plt.text(0.90, 5.4, r'$\\epsilon$', fontsize=16)\n",
    "plt.grid()\n",
    "plt.show()"
   ]
  },
  {
   "cell_type": "code",
   "execution_count": 12,
   "metadata": {},
   "outputs": [
    {
     "data": {
      "text/plain": [
       "Pipeline(steps=[('standardscaler', StandardScaler()),\n",
       "                ('svr', SVR(C=0.01, degree=2, kernel='poly'))])"
      ]
     },
     "execution_count": 12,
     "metadata": {},
     "output_type": "execute_result"
    }
   ],
   "source": [
    "from sklearn.svm import SVR\n",
    "\n",
    "np.random.seed(42)\n",
    "X = 2 * np.random.rand(50, 1) - 1\n",
    "y = 0.2 + 0.1 * X[:, 0] + 0.5 * X[:, 0] ** 2 + np.random.randn(50) / 10\n",
    "\n",
    "svm_poly_reg = make_pipeline(\n",
    "    StandardScaler(), SVR(kernel='poly', degree=2, C=0.01, epsilon=0.1)\n",
    ")\n",
    "svm_poly_reg.fit(X, y)"
   ]
  },
  {
   "cell_type": "markdown",
   "metadata": {},
   "source": [
    "Let’s try a different `C` and then compare them:"
   ]
  },
  {
   "cell_type": "code",
   "execution_count": 13,
   "metadata": {},
   "outputs": [
    {
     "data": {
      "image/png": "[encoded data removed]",
      "text/plain": [
       "<Figure size 648x288 with 2 Axes>"
      ]
     },
     "metadata": {
      "needs_background": "light"
     },
     "output_type": "display_data"
    }
   ],
   "source": [
    "svm_poly_reg2 = make_pipeline(\n",
    "    StandardScaler(), SVR(kernel='poly', degree=2, C=100)\n",
    ")\n",
    "svm_poly_reg2.fit(X, y)\n",
    "\n",
    "svm_poly_reg._support = find_support_vectors(svm_poly_reg, X, y)\n",
    "svm_poly_reg2._support = find_support_vectors(svm_poly_reg2, X, y)\n",
    "\n",
    "fig, axes = plt.subplots(ncols=2, figsize=(9, 4), sharey=True)\n",
    "plt.sca(axes[0])\n",
    "plot_svm_regression(svm_poly_reg, X, y, [-1, 1, 0, 1])\n",
    "plt.title(\n",
    "    f'degree={svm_poly_reg[-1].degree}, '\n",
    "    f'C={svm_poly_reg[-1].C}, '\n",
    "    f'epsilon={svm_poly_reg[-1].epsilon}'\n",
    ")\n",
    "plt.ylabel('$y$', rotation=0)\n",
    "plt.grid()\n",
    "\n",
    "plt.sca(axes[1])\n",
    "plot_svm_regression(svm_poly_reg2, X, y, [-1, 1, 0, 1])\n",
    "plt.title(\n",
    "    f'degree={svm_poly_reg2[-1].degree}, '\n",
    "    f'C={svm_poly_reg2[-1].C}, '\n",
    "    f'epsilon={svm_poly_reg2[-1].epsilon}'\n",
    ")\n",
    "plt.grid()\n",
    "plt.show()"
   ]
  },
  {
   "cell_type": "markdown",
   "metadata": {},
   "source": [
    "**Note**: SVMs can also be used for novelty detection."
   ]
  },
  {
   "cell_type": "markdown",
   "metadata": {},
   "source": [
    "## Under the Hood of Linear SVM Classifiers\n",
    "**Note**: From now we will use $\\mathbf{w}$ and $b$ instead of $\\boldsymbol{\\theta}$.\n",
    "\n",
    "For predictions if $\\mathbf{w}^\\top\\mathbf{x}+b$ is positive $\\widehat{y}=1$ else $\\widehat{y}=0$. For training let’s start with the width of the street: to make it larger, we need to make $\\mathbf{w}$ smaller. Let’s define the borders of the street as the points where the decision function is equal to –1 or +1.\n",
    "\n",
    "<center>\n",
    "  <img \n",
    "    src=\"../images/05/small_w_large_margin.png\"\n",
    "    onerror=\"\n",
    "      this.onerror = null;\n",
    "      const repo = 'https://github.com/alirezatheh/handson-ml3-notes/blob/main';\n",
    "      this.src = repo + this.src.split('..')[1];\n",
    "    \"\n",
    "  >\n",
    "</center>\n",
    "\n",
    "So, we need to keep $\\mathbf{w}$ as small as possible. The bias term $b$ has no influence on the size of the margin: tweaking it just shifts the margin around, without affecting its size. We also want to avoid margin violations, so we need the decision function to be greater than 1 for all positive training instances and lower than –1 for negative training instances.\n",
    "\n",
    "**Equation 5-1** Hard margin linear SVM classifier objective\n",
    "$$\n",
    "\\begin{split}\n",
    "&\\underset{\\mathbf{w},b}{\\text{minimize}}\\;\\frac{1}{2}\\mathbf{w}^\\top\\mathbf{w}\n",
    "\\\\&\\text{subject to}\\;t^{(i)}(\\mathbf{w}^\\top\\mathbf{x}^{(i)}+b)\\ge1\n",
    "\\;\\;\\text{for}\\;i=1,2,\\cdots,m\n",
    "\\\\&\\text{where}\\;t^{(i)}=\\begin{cases}\n",
    "1&\\text{for positive instances ($y^{(i)}=1$)}\n",
    "\\\\0&\\text{for negative instances ($y^{(i)}=0$)}\n",
    "\\end{cases}\n",
    "\\end{split}\n",
    "$$\n",
    "\n",
    "**Note**: We are minimizing $\\tfrac{1}{2}\\|\\mathbf{w}\\|^2$ instead of $\\|\\mathbf{w}\\|$ because it is not differentiable at $\\mathbf{w}=0$. Optimization algorithms often work much better on differentiable functions.\n",
    "\n",
    "For soft margin objective, we introduce a slack variable $\\zeta^{(i)}\\ge0$ for each instance: $\\zeta^{(i)}$ measures how much the $i^\\text{th}$ instance is allowed to violate the margin. We need the slack variables to be as small as possible to reduce the margin violations, and $\\tfrac{1}{2}\\mathbf{w}^\\top\\mathbf{w}$ to be as small as possible to increase the margin. The `C` hyperparameter controls this trade-off.\n",
    "\n",
    "**Equation 5-2** Soft margin linear SVM classifier objective\n",
    "$$\n",
    "\\begin{split}\n",
    "&\\underset{\\mathbf{w},b,\\zeta}{\\text{minimize}}\n",
    "\\;\\frac{1}{2}\\mathbf{w}^\\top\\mathbf{w}+C\\sum_{i=1}^m\\zeta^{(i)}\n",
    "\\\\&\\text{subject to}\\;t^{(i)}(\\mathbf{w}^\\top\\mathbf{x}+b)\\ge1-\\zeta^{(i)}\n",
    "\\;\\text{and}\\;\\zeta^{(i)}\\ge0\\;\\;\\text{for}\\;i=1,2,\\cdots,m\n",
    "\\end{split}\n",
    "$$\n",
    "\n",
    "The hard margin and soft margin problems are both convex quadratic optimization problems with linear constraints. Such problems are known as *quadratic programming* (QP) problems.\n",
    "\n",
    "Using a QP solver is one way to train an SVM. Another is to use gradient descent to minimize the *hinge loss* or the *squared hinge loss*.\n",
    "\n",
    "<center>\n",
    "  <img \n",
    "    src=\"../images/05/hinge_loss.png\"\n",
    "    onerror=\"\n",
    "      this.onerror = null;\n",
    "      const repo = 'https://github.com/alirezatheh/handson-ml3-notes/blob/main';\n",
    "      this.src = repo + this.src.split('..')[1];\n",
    "    \"\n",
    "  >\n",
    "</center>"
   ]
  },
  {
   "cell_type": "markdown",
   "metadata": {},
   "source": [
    "### Extra Material - Linear SVM classifier implementation using Batch Gradient Descent"
   ]
  },
  {
   "cell_type": "code",
   "execution_count": 14,
   "metadata": {},
   "outputs": [],
   "source": [
    "X = iris.data[['petal length (cm)', 'petal width (cm)']].values\n",
    "y = iris.target == 2"
   ]
  },
  {
   "cell_type": "code",
   "execution_count": 15,
   "metadata": {},
   "outputs": [],
   "source": [
    "from typing import Optional\n",
    "\n",
    "from sklearn.base import BaseEstimator\n",
    "from typing_extensions import Self\n",
    "\n",
    "\n",
    "class MyLinearSVC(BaseEstimator):\n",
    "    def __init__(\n",
    "        self,\n",
    "        C: float = 1,\n",
    "        eta0: int = 1,\n",
    "        eta_d: int = 10000,\n",
    "        n_epochs: int = 1000,\n",
    "        random_state: Optional[int] = None,\n",
    "    ) -> None:\n",
    "        self.C = C\n",
    "        self.eta0 = eta0\n",
    "        self.n_epochs = n_epochs\n",
    "        self.random_state = random_state\n",
    "        self.eta_d = eta_d\n",
    "\n",
    "    def eta(self, epoch: int) -> float:\n",
    "        return self.eta0 / (epoch + self.eta_d)\n",
    "\n",
    "    def fit(self, X: ArrayLike, y: ArrayLike) -> Self:\n",
    "        # Random initialization\n",
    "        if self.random_state:\n",
    "            np.random.seed(self.random_state)\n",
    "        # n feature weights\n",
    "        w = np.random.randn(X.shape[1], 1)\n",
    "        b = 0\n",
    "\n",
    "        t = np.array(y, dtype=np.float64).reshape(-1, 1) * 2 - 1\n",
    "        X_t = X * t\n",
    "        self.Js = []\n",
    "\n",
    "        # Training\n",
    "        for epoch in range(self.n_epochs):\n",
    "            support_vectors_idx = (X_t.dot(w) + t * b < 1).ravel()\n",
    "            X_t_sv = X_t[support_vectors_idx]\n",
    "            t_sv = t[support_vectors_idx]\n",
    "\n",
    "            J = 1 / 2 * (w * w).sum() + self.C * (\n",
    "                (1 - X_t_sv.dot(w)).sum() - b * t_sv.sum()\n",
    "            )\n",
    "            self.Js.append(J)\n",
    "\n",
    "            w_gradient_vector = w - self.C * X_t_sv.sum(axis=0).reshape(-1, 1)\n",
    "            b_derivative = -self.C * t_sv.sum()\n",
    "\n",
    "            w = w - self.eta(epoch) * w_gradient_vector\n",
    "            b = b - self.eta(epoch) * b_derivative\n",
    "\n",
    "        self.intercept_ = np.array([b])\n",
    "        self.coef_ = np.array([w])\n",
    "        support_vectors_idx = (X_t.dot(w) + t * b < 1).ravel()\n",
    "        self.support_vectors_ = X[support_vectors_idx]\n",
    "        return self\n",
    "\n",
    "    def decision_function(self, X: ArrayLike) -> ArrayLike:\n",
    "        return X.dot(self.coef_[0]) + self.intercept_[0]\n",
    "\n",
    "    def predict(self, X: ArrayLike) -> ArrayLike:\n",
    "        return self.decision_function(X) >= 0"
   ]
  },
  {
   "cell_type": "code",
   "execution_count": 16,
   "metadata": {},
   "outputs": [
    {
     "data": {
      "text/plain": [
       "array([[ True],\n",
       "       [False]])"
      ]
     },
     "execution_count": 16,
     "metadata": {},
     "output_type": "execute_result"
    }
   ],
   "source": [
    "C = 2\n",
    "svm_clf = MyLinearSVC(C=C, eta0=10, eta_d=1000, n_epochs=60000, random_state=2)\n",
    "svm_clf.fit(X, y)\n",
    "svm_clf.predict(np.array([[5, 2], [4, 1]]))"
   ]
  },
  {
   "cell_type": "code",
   "execution_count": 17,
   "metadata": {},
   "outputs": [
    {
     "data": {
      "image/png": "[encoded data removed]",
      "text/plain": [
       "<Figure size 432x288 with 1 Axes>"
      ]
     },
     "metadata": {
      "needs_background": "light"
     },
     "output_type": "display_data"
    }
   ],
   "source": [
    "plt.plot(range(svm_clf.n_epochs), svm_clf.Js)\n",
    "plt.axis([0, svm_clf.n_epochs, 0, 100])\n",
    "plt.xlabel('Epochs')\n",
    "plt.ylabel('Loss')\n",
    "plt.grid()\n",
    "plt.show()"
   ]
  },
  {
   "cell_type": "code",
   "execution_count": 18,
   "metadata": {},
   "outputs": [
    {
     "name": "stdout",
     "output_type": "stream",
     "text": [
      "[-15.56761653] [[[2.28120287]\n",
      "  [2.71621742]]]\n"
     ]
    }
   ],
   "source": [
    "print(svm_clf.intercept_, svm_clf.coef_)"
   ]
  },
  {
   "cell_type": "code",
   "execution_count": 19,
   "metadata": {},
   "outputs": [
    {
     "name": "stdout",
     "output_type": "stream",
     "text": [
      "[-15.51721253] [[2.27128546 2.71287145]]\n"
     ]
    }
   ],
   "source": [
    "svm_clf2 = SVC(kernel='linear', C=C)\n",
    "svm_clf2.fit(X, y.ravel())\n",
    "print(svm_clf2.intercept_, svm_clf2.coef_)"
   ]
  },
  {
   "cell_type": "code",
   "execution_count": 20,
   "metadata": {},
   "outputs": [
    {
     "data": {
      "image/png": "[encoded data removed]",
      "text/plain": [
       "<Figure size 792x230.4 with 2 Axes>"
      ]
     },
     "metadata": {
      "needs_background": "light"
     },
     "output_type": "display_data"
    }
   ],
   "source": [
    "def plot_svc_decision_boundary(\n",
    "    svm_clf: Pipeline,\n",
    "    xmin: float,\n",
    "    xmax: float,\n",
    ") -> None:\n",
    "    w = svm_clf.coef_[0]\n",
    "    b = svm_clf.intercept_[0]\n",
    "\n",
    "    # At the decision boundary, w0*x0 + w1*x1 + b = 0\n",
    "    # => x1 = -w0/w1 * x0 - b/w1\n",
    "    x0 = np.linspace(xmin, xmax, 200)\n",
    "    decision_boundary = -w[0] / w[1] * x0 - b / w[1]\n",
    "\n",
    "    margin = 1 / w[1]\n",
    "    gutter_up = decision_boundary + margin\n",
    "    gutter_down = decision_boundary - margin\n",
    "    svs = svm_clf.support_vectors_\n",
    "\n",
    "    plt.plot(x0, decision_boundary, \"k-\", linewidth=2, zorder=-2)\n",
    "    plt.plot(x0, gutter_up, \"k--\", linewidth=2, zorder=-2)\n",
    "    plt.plot(x0, gutter_down, \"k--\", linewidth=2, zorder=-2)\n",
    "    plt.scatter(svs[:, 0], svs[:, 1], s=180, facecolors='#AAA', zorder=-1)\n",
    "\n",
    "\n",
    "yr = y.ravel()\n",
    "fig, axes = plt.subplots(ncols=2, figsize=(11, 3.2), sharey=True)\n",
    "plt.sca(axes[0])\n",
    "plt.plot(X[:, 0][yr == 1], X[:, 1][yr == 1], 'g^', label='Iris virginica')\n",
    "plt.plot(X[:, 0][yr == 0], X[:, 1][yr == 0], 'bs', label='Not Iris virginica')\n",
    "plot_svc_decision_boundary(svm_clf, 4, 6)\n",
    "plt.xlabel('Petal length')\n",
    "plt.ylabel('Petal width')\n",
    "plt.title('MyLinearSVC')\n",
    "plt.axis([4, 6, 0.8, 2.8])\n",
    "plt.legend(loc='upper left')\n",
    "plt.grid()\n",
    "\n",
    "plt.sca(axes[1])\n",
    "plt.plot(X[:, 0][yr == 1], X[:, 1][yr == 1], 'g^')\n",
    "plt.plot(X[:, 0][yr == 0], X[:, 1][yr == 0], 'bs')\n",
    "plot_svc_decision_boundary(svm_clf2, 4, 6)\n",
    "plt.xlabel('Petal length')\n",
    "plt.title('SVC')\n",
    "plt.axis([4, 6, 0.8, 2.8])\n",
    "plt.grid()\n",
    "\n",
    "plt.show()"
   ]
  },
  {
   "cell_type": "code",
   "execution_count": 21,
   "metadata": {
    "scrolled": true
   },
   "outputs": [
    {
     "name": "stdout",
     "output_type": "stream",
     "text": [
      "[-12.52988101   1.94162342   1.84544824]\n"
     ]
    },
    {
     "data": {
      "image/png": "[encoded data removed]",
      "text/plain": [
       "<Figure size 396x230.4 with 1 Axes>"
      ]
     },
     "metadata": {
      "needs_background": "light"
     },
     "output_type": "display_data"
    }
   ],
   "source": [
    "from sklearn.linear_model import SGDClassifier\n",
    "\n",
    "sgd_clf = SGDClassifier(\n",
    "    loss='hinge', alpha=0.017, max_iter=1000, tol=1e-3, random_state=42\n",
    ")\n",
    "sgd_clf.fit(X, y)\n",
    "\n",
    "m = len(X)\n",
    "# -1 if y == 0, or +1 if y == 1\n",
    "t = np.array(y).reshape(-1, 1) * 2 - 1\n",
    "# Add bias input x0=1\n",
    "X_b = np.c_[np.ones((m, 1)), X]\n",
    "X_b_t = X_b * t\n",
    "sgd_theta = np.r_[sgd_clf.intercept_[0], sgd_clf.coef_[0]]\n",
    "print(sgd_theta)\n",
    "support_vectors_idx = (X_b_t.dot(sgd_theta) < 1).ravel()\n",
    "sgd_clf.support_vectors_ = X[support_vectors_idx]\n",
    "sgd_clf.C = C\n",
    "\n",
    "plt.figure(figsize=(5.5, 3.2))\n",
    "plt.plot(X[:, 0][yr == 1], X[:, 1][yr == 1], 'g^')\n",
    "plt.plot(X[:, 0][yr == 0], X[:, 1][yr == 0], 'bs')\n",
    "plot_svc_decision_boundary(sgd_clf, 4, 6)\n",
    "plt.xlabel('Petal length')\n",
    "plt.ylabel('Petal width')\n",
    "plt.title('SGDClassifier')\n",
    "plt.axis([4, 6, 0.8, 2.8])\n",
    "plt.grid()\n",
    "\n",
    "plt.show()"
   ]
  },
  {
   "cell_type": "markdown",
   "metadata": {},
   "source": [
    "## The Dual Problem\n",
    "Given a constrained optimization problem, known as the *primal problem*, it is possible to express a different but closely related problem, called its *dual problem*. The solution to the dual problem typically gives a lower bound to the solution of the primal problem. But when the objective function is convex, and the inequality constraints are continuously differentiable and convex functions, the dual can have the same solution as the primal problem.\n",
    "\n",
    "**Equation 5-3** Dual form of the linear SVM objective\n",
    "$$\n",
    "\\begin{split}\n",
    "&\\underset{\\mathbf{α}}{\\text{minimize}}\n",
    "\\;\\frac{1}{2}\\sum_{i=1}^m\\sum_{j=1}^m\\alpha^{(i)}\\alpha^{(j)}t^{(i)}t^{(j)}\n",
    "{\\mathbf{x}^{(i)}}^\\top\\mathbf{x}^{(j)}\n",
    "-\\sum_{i=1}^m\\alpha^{(i)}\n",
    "\\\\&\\text{subject to}\\;\\alpha^{(i)}\\ge0\\;\\text{for all}\\;i=1,2,\\cdots,m\n",
    "\\;\\;\\text{and}\\;\\;\\sum_{i=1}^m\\alpha^{(i)}t^{(i)}=0\n",
    "\\end{split}\n",
    "$$\n",
    "\n",
    "Once we find the vector $\\widehat{\\boldsymbol{\\alpha}}$ that minimizes this equation (using a QP solver), use the following equation to compute the $\\widehat{\\mathbf{w}}$ and $\\widehat{b}$ that minimize the primal problem.\n",
    "\n",
    "<a id=\"equation-5-4\"></a>\n",
    "\n",
    "**Equation 5-4** From the dual solution to the primal solution\n",
    "$$\n",
    "\\begin{split}\n",
    "&\\widehat{\\mathbf{w}}=\\sum_{i=1}^m\\alpha^{(i)}t^{(i)}\\mathbf{x}^{(i)}\n",
    "\\\\&\\widehat{b}\n",
    "=\\frac{1}{n_s}\n",
    "\\sum_{\\begin{gathered}i=1\\\\\\widehat{\\alpha}^{(i)}>0\\end{gathered}}^m\n",
    "(t^{(i)}-\\widehat{\\mathbf{w}}^\\top\\mathbf{x}^{(i)})\n",
    "\\end{split}\n",
    "$$\n",
    "- $n_s$: The number of support vectors\n",
    "\n",
    "When $m < n$ solving dual is faster than the primal and the dual problem makes the kernel trick possible."
   ]
  },
  {
   "cell_type": "markdown",
   "metadata": {
    "collapsed": false,
    "jupyter": {
     "outputs_hidden": false
    }
   },
   "source": [
    "### Kernelized SVMs\n",
    "Suppose we want to apply a second-degree polynomial transformation to a two-dimensional training set.\n",
    "\n",
    "**Equation 5-5** Second-degree polynomial mapping\n",
    "$$\n",
    "\\varphi(\\mathbf{x})\n",
    "=\\varphi(\\begin{pmatrix}x_1\\\\x_2\\end{pmatrix})\n",
    "=\\begin{pmatrix}x_1^2\\\\\\sqrt2x_1x_2\\\\x_2^2\\end{pmatrix}\n",
    "$$\n",
    "\n",
    "Now let’s look at what happens to a couple of 2D vectors, $\\mathbf{a}$ and $\\mathbf{b}$, if we apply this mapping and then compute the dot product of the transformed vectors:\n",
    "\n",
    "**Equation 5-6** Kernel trick for a second-degree polynomial mapping\n",
    "$$\n",
    "\\begin{split}\n",
    "\\varphi(\\mathbf{a})^\\top\\varphi(\\mathbf{b})&=\n",
    "\\begin{pmatrix}a_1^2\\\\\\sqrt2a_1a_2\\\\a_2^2\\end{pmatrix}\n",
    "\\begin{pmatrix}b_1^2\\\\\\sqrt2b_1b_2\\\\b_2^2\\end{pmatrix}\n",
    "=a_1^2b_1^2+2a_1b_1a_2b_2+a_2^2b_2^2=(a_1b_1+a_2b_2)^2\n",
    "\\\\&=\\left(\\begin{pmatrix}a_1\\\\a_2\\end{pmatrix}^\\top\n",
    "\\begin{pmatrix}a_1\\\\ a_2\\end{pmatrix}\\right)^2\n",
    "=(\\mathbf{a}^\\top\\mathbf{b})^2\n",
    "\\end{split}\n",
    "$$\n",
    "\n",
    "If we apply the transformation $\\phi$ to all training instances, then the dual problem will contains dot product of transformed instances. Then instead of transforming dataset we can just replace $\\phi(\\mathbf{x}^{(i)})^\\top\\phi(\\mathbf{x}^{(j)})$ with ${(\\mathbf{x}^{(i)}}^\\top\\mathbf{x}^{(j)})^2$.\n",
    "\n",
    "The function $K(\\mathbf{a},\\mathbf{b})=(\\mathbf{a}^\\top\\mathbf{b})^2$ is a second-degree polynomial kernel. In machine learning, a *kernel* is a function capable of computing the dot product $\\phi(\\mathbf{a})^\\top\\phi(\\mathbf{b})$, based only on the original vectors $\\mathbf{a}$ and $\\mathbf{b}$, without having to compute (or even to know about) the transformation $\\phi$. Here is some of the most commonly used kernels:\n",
    "\n",
    "**Equation 5-7** Common kernels\n",
    "$$\n",
    "\\begin{split}\n",
    "\\text{Linear:}&\\;\\;K(\\mathbf{a},\\mathbf{b})=\\mathbf{a}^\\top\\mathbf{b}\n",
    "\\\\\\text{Polynomial:}&\\;\\;K(\\mathbf{a},\\mathbf{b})\n",
    "=(\\gamma\\mathbf{a}^\\top\\mathbf{b}+r)^d\n",
    "\\\\\\text{Gaussian RBF:}&\\;\\;K(\\mathbf{a},\\mathbf{b}\n",
    ")=\\exp(-\\gamma\\|\\mathbf{a}-\\mathbf{b}\\|^2)\n",
    "\\\\\\text{Sigmoid:}&\\;\\;K(\\mathbf{a},\\mathbf{b})\n",
    "=\\tanh(\\gamma\\mathbf{a}^\\top\\mathbf{b}+r)\n",
    "\\end{split}\n",
    "$$\n",
    "\n",
    "<div style=\"border: 1px solid;\">\n",
    "\n",
    "#### Mercer’s Theorem\n",
    "According to *Mercer’s theorem*, if a function $K(\\mathbf{a},\\mathbf{b})$ respects a few mathematical conditions called *Mercer’s conditions* (e.g., $K$ must be continuous and symmetric in its arguments so that $K(\\mathbf{a},\\mathbf{b})=K(\\mathbf{b},\\mathbf{a})$, etc.), then there exists a function $\\phi$ that maps $\\mathbf{a}$ and $\\mathbf{b}$ into another space (possibly with much higher dimensions) such that $K(\\mathbf{a},\\mathbf{b})=\\phi(\\mathbf{a})^\\top\\phi(\\mathbf{b})$. We can use $K$ as a kernel because we know $\\phi$ exists, even if we don’t know what $\\phi$ is. In the case of the Gaussian RBF kernel, it can be shown that $\\phi$ maps each training instance to an infinite-dimensional space, so it’s a good thing we don’t need to actually perform the mapping!\n",
    "</div>\n",
    "\n",
    "If we use the kernel trick [Eqaution 5-4](#equation-5-4) will contatin $\\phi(\\mathbf{x}^{(i)})$ and we can’t compute that. But we can plug the formula for $\\widehat{\\mathbf{w}}$ from [Eqaution 5-4](#equation-5-4) into the decision function, and we get an equation with only dot products between input vectors:\n",
    "\n",
    "**Equation 5-8** Making predictions with a kernelized SVM\n",
    "$$\n",
    "\\begin{split}\n",
    "h_{\\widehat{\\mathbf{w}},\\widehat{b}}(\\varphi(\\mathbf{x}^{(n)}))\n",
    "&=\\widehat{\\mathbf{w}}^\\top\\varphi(\\mathbf{x}^{(n)})+\\widehat{b}\n",
    "=\\left(\\sum_{i=1}^m\\alpha^{(i)}t^{(i)}\\varphi(\\mathbf{x}^{(i)})\\right)^\\top\n",
    "\\varphi(\\mathbf{x}^{(n)})+\\widehat{b}\n",
    "\\\\&=\\sum_{i=1}^m\\alpha^{(i)}t^{(i)}\\left(\\varphi(\\mathbf{x}^{(i)})^\\top\n",
    "\\varphi(\\mathbf{x}^{(n)})\\right)+\\widehat{b}\n",
    "\\\\&=\\sum_{\\begin{gathered}i=1\\\\\\widehat{\\alpha}^{(i)}>0\\end{gathered}}^m\n",
    "\\alpha^{(i)}t^{(i)}K(\\mathbf{x}^{(i)},\\mathbf{x}^{(n)})+\\widehat{b}\n",
    "\\end{split}\n",
    "$$\n",
    "- $\\mathbf{x}^{(n)}$: A new instance\n",
    "\n",
    "**Note**: $\\alpha^{(i)}\\neq0$ only for support vectors.\n",
    "\n",
    "**Equation 5-9** Using the kernel trick to compute the bias term\n",
    "$$\n",
    "\\begin{split}\n",
    "\\widehat{b}&\n",
    "=\\frac{1}{n_s}\n",
    "\\sum_{\\begin{gathered}i=1\\\\\\widehat{\\alpha}^{(i)}>0\\end{gathered}}^m\n",
    "\\left(t^{(i)}-\\widehat{\\mathbf{w}}^\\top\\varphi(\\mathbf{x}^{(i)})\\right)\n",
    "\\\\&=\\frac{1}{n_s}\n",
    "\\sum_{\\begin{gathered}i=1\\\\\\widehat{\\alpha}^{(i)}>0\\end{gathered}}^m\n",
    "\\left(t^{(i)}-\\left(\\sum_{j=1}^m\\alpha^{(j)}\n",
    "t^{(j)}\\varphi(\\mathbf{x}^{(j)})\\right)^\\top\n",
    "\\varphi(\\mathbf{x}^{(i)})\\right)\n",
    "\\\\&=\\frac{1}{n_s}\n",
    "\\sum_{\\begin{gathered}i=1\\\\\\widehat{\\alpha}^{(i)}>0\\end{gathered}}^m\n",
    "\\left(t^{(i)}\n",
    "-\\sum_{\\begin{gathered}i=1\\\\\\widehat{\\alpha}^{(i)}>0\\end{gathered}}^m\n",
    "\\alpha^{(j)}t^{(j)}K(\\mathbf{x}^{(i)},\\mathbf{x}^{(j)})\\right)\n",
    "\\end{split}\n",
    "$$\n",
    "\n",
    "**Note**: It is also possible to implement online kernelized SVMs, capable of incremental learning, as described in the papers [“Incremental and Decremental Support Vector Machine Learning”](https://homl.info/17) by Gert Cauwenberghs and Tomaso Poggio in 2000 and [“Fast Kernel Classifiers with Online and Active Learning”](https://homl.info/18) by Antoine Bordes et al. in 2005."
   ]
  },
  {
   "cell_type": "markdown",
   "metadata": {},
   "source": [
    "## Exercises"
   ]
  },
  {
   "cell_type": "markdown",
   "metadata": {},
   "source": [
    "### 1. to 9.\n",
    "1. What is the fundamental idea behind support vector machines?\n",
    "> The fundamental idea is to fit the widest possible \"street\" between the classes. In other words, the goal is to have the largest possible margin between the decision boundary that separates the two classes and the training instances. When performing soft margin classification, the SVM searches for a compromise between perfectly separating the two classes and having the widest possible street (i.e., a few instances may end up on the street). Another key idea is to use kernels when training on nonlinear datasets. SVMs can also be tweaked to perform linear and nonlinear regression, as well as novelty detection.\n",
    "2. What is a support vector?\n",
    "> After training an SVM, a *support vector* is any instance located on the \"street\" (see the previous answer), including its border. The decision boundary is entirely determined by the support vectors. Any instance that is *not* a support vector (i.e., is off the street) has no influence whatsoever; we could remove them, add more instances, or move them around, and as long as they stay off the street they won’t affect the decision boundary. Computing the predictions with a kernelized SVM only involves the support vectors, not the whole training set.\n",
    "3. Why is it important to scale the inputs when using SVMs?\n",
    "> SVMs try to fit the largest possible \"street\" between the classes (see the first answer), so if the training set is not scaled, the SVM will tend to neglect small features.\n",
    "4. Can an SVM classifier output a confidence score when it classifies an instance? What about a probability?\n",
    "> We can use the `decision_function()` method to get confidence scores. These scores represent the distance between the instance and the decision boundary. However, they cannot be directly converted into an estimation of the class probability. If we set `probability=True` when creating an `SVC`, then at the end of training it will use 5-fold cross-validation to generate out-of-sample scores for the training samples, and it will train a `LogisticRegression` model to map these scores to estimated probabilities. The `predict_proba()` and `predict_log_proba()` methods will then be available.\n",
    "5. How can we choose between `LinearSVC`, `SVC`, and `SGDClassifier`?\n",
    "> All three classes can be used for large-margin linear classification. The `SVC` class also supports the kernel trick, which makes it capable of handling nonlinear tasks. However, this comes at a cost: the `SVC` class does not scale well to datasets with many instances. It does scale well to a large number of features, though. The `LinearSVC` class implements an optimized algorithm for linear SVMs, while `SGDClassifier` uses Stochastic Gradient Descent. Depending on the dataset `LinearSVC` may be a bit faster than `SGDClassifier`, but not always, and `SGDClassifier` is more flexible, plus it supports incremental learning.\n",
    "6. Say we’ve trained an SVM classifier with an RBF kernel, but it seems to underfit the training set. Should we increase or decrease $\\gamma$ (`gamma`)? What about `C`?\n",
    "> If an SVM classifier trained with an RBF kernel underfits the training set, there might be too much regularization. To decrease it, we need to increase `gamma` or `C` (or both).\n",
    "7. What does it mean for a model to be $\\epsilon$*-insensitive*?\n",
    "> A Regression SVM model tries to fit as many instances within a small margin around its predictions. If we add instances within this margin, the model will not be affected at all: it is said to be $\\epsilon$*-insensitive*.\n",
    "8. What is the point of using the kernel trick?\n",
    "> The kernel trick is mathematical technique that makes it possible to train a nonlinear SVM model. The resulting model is equivalent to mapping the inputs to another space using a nonlinear transformation, then training a linear SVM on the resulting high-dimensional inputs. The kernel trick gives the same result without having to transform the inputs at all.\n",
    "9. Train a `LinearSVC` on a linearly separable dataset. Then train an `SVC` and a `SGDClassifier` on the same dataset. See if we can get them to produce roughly the same model.\n",
    ">  Let’s use the Iris dataset: the Iris Setosa and Iris Versicolor classes are linearly separable."
   ]
  },
  {
   "cell_type": "code",
   "execution_count": 22,
   "metadata": {},
   "outputs": [],
   "source": [
    "from sklearn import datasets\n",
    "\n",
    "iris = datasets.load_iris(as_frame=True)\n",
    "X = iris.data[['petal length (cm)', 'petal width (cm)']].values\n",
    "y = iris.target\n",
    "\n",
    "setosa_or_versicolor = (y == 0) | (y == 1)\n",
    "X = X[setosa_or_versicolor]\n",
    "y = y[setosa_or_versicolor]"
   ]
  },
  {
   "cell_type": "markdown",
   "metadata": {},
   "source": [
    "> Now let’s build and train 3 models:\n",
    "> - Remember that `LinearSVC` uses `loss='squared_hinge'` by default, so if we want all 3 models to produce similar results, we need to set `loss='hinge'`.\n",
    "> - Also, the `SVC` class uses an RBF kernel by default, so we need to set `kernel='linear'` to get similar results as the other two models.\n",
    "> - Lastly, the `SGDClassifier` class does not have a `C` hyperparameter, but it has another regularization hyperparameter called `alpha`, so we can tweak it to get similar results as the other two models."
   ]
  },
  {
   "cell_type": "code",
   "execution_count": 23,
   "metadata": {},
   "outputs": [],
   "source": [
    "from sklearn.linear_model import SGDClassifier\n",
    "from sklearn.preprocessing import StandardScaler\n",
    "from sklearn.svm import SVC, LinearSVC\n",
    "\n",
    "C = 5\n",
    "alpha = 0.05\n",
    "\n",
    "scaler = StandardScaler()\n",
    "X_scaled = scaler.fit_transform(X)\n",
    "\n",
    "lin_clf = LinearSVC(loss='hinge', C=C, random_state=42).fit(X_scaled, y)\n",
    "svc_clf = SVC(kernel='linear', C=C).fit(X_scaled, y)\n",
    "sgd_clf = SGDClassifier(alpha=alpha, random_state=42).fit(X_scaled, y)"
   ]
  },
  {
   "cell_type": "markdown",
   "metadata": {},
   "source": [
    "> Let’s plot the decision boundaries of these three models:"
   ]
  },
  {
   "cell_type": "code",
   "execution_count": 24,
   "metadata": {},
   "outputs": [
    {
     "data": {
      "image/png": "[encoded data removed]",
      "text/plain": [
       "<Figure size 792x288 with 1 Axes>"
      ]
     },
     "metadata": {
      "needs_background": "light"
     },
     "output_type": "display_data"
    }
   ],
   "source": [
    "def compute_decision_boundary(model: Pipeline) -> ArrayLike:\n",
    "    w = -model.coef_[0, 0] / model.coef_[0, 1]\n",
    "    b = -model.intercept_[0] / model.coef_[0, 1]\n",
    "    return scaler.inverse_transform([[-10, -10 * w + b], [10, 10 * w + b]])\n",
    "\n",
    "\n",
    "lin_line = compute_decision_boundary(lin_clf)\n",
    "svc_line = compute_decision_boundary(svc_clf)\n",
    "sgd_line = compute_decision_boundary(sgd_clf)\n",
    "\n",
    "# Plot all three decision boundaries\n",
    "plt.figure(figsize=(11, 4))\n",
    "plt.plot(lin_line[:, 0], lin_line[:, 1], 'k:', label='LinearSVC')\n",
    "plt.plot(svc_line[:, 0], svc_line[:, 1], 'b--', linewidth=2, label='SVC')\n",
    "plt.plot(sgd_line[:, 0], sgd_line[:, 1], 'r-', label='SGDClassifier')\n",
    "# label='Iris versicolor'\n",
    "plt.plot(X[:, 0][y == 1], X[:, 1][y == 1], 'bs')\n",
    "# label='Iris setosa'\n",
    "plt.plot(X[:, 0][y == 0], X[:, 1][y == 0], 'yo')\n",
    "plt.xlabel('Petal length')\n",
    "plt.ylabel('Petal width')\n",
    "plt.legend(loc='upper center')\n",
    "plt.axis([0, 5.5, 0, 2])\n",
    "plt.grid()\n",
    "\n",
    "plt.show()"
   ]
  },
  {
   "cell_type": "markdown",
   "metadata": {},
   "source": [
    "> Close enough!"
   ]
  },
  {
   "cell_type": "markdown",
   "metadata": {},
   "source": [
    "### 10. \n",
    "Train an SVM classifier on the wine dataset, which we can load using `sklearn.datasets.load_wine()`. This dataset contains the chemical analysis of 178 wine samples produced by 3 different cultivators: the goal is to train a classification model capable of predicting the cultivator based on the wine’s chemical analysis. Since SVM classifiers are binary classifiers, we will need to use one-versus-all to classify all 3 classes. What accuracy can we reach?\n",
    "> First, let’s fetch the dataset, look at its description, then split it into a training set and a test set:"
   ]
  },
  {
   "cell_type": "code",
   "execution_count": 25,
   "metadata": {},
   "outputs": [],
   "source": [
    "from sklearn.datasets import load_wine\n",
    "\n",
    "wine = load_wine(as_frame=True)"
   ]
  },
  {
   "cell_type": "code",
   "execution_count": 26,
   "metadata": {},
   "outputs": [
    {
     "name": "stdout",
     "output_type": "stream",
     "text": [
      ".. _wine_dataset:\n",
      "\n",
      "Wine recognition dataset\n",
      "------------------------\n",
      "\n",
      "**Data Set Characteristics:**\n",
      "\n",
      "    :Number of Instances: 178 (50 in each of three classes)\n",
      "    :Number of Attributes: 13 numeric, predictive attributes and the class\n",
      "    :Attribute Information:\n",
      " \t\t- Alcohol\n",
      " \t\t- Malic acid\n",
      " \t\t- Ash\n",
      "\t\t- Alcalinity of ash  \n",
      " \t\t- Magnesium\n",
      "\t\t- Total phenols\n",
      " \t\t- Flavanoids\n",
      " \t\t- Nonflavanoid phenols\n",
      " \t\t- Proanthocyanins\n",
      "\t\t- Color intensity\n",
      " \t\t- Hue\n",
      " \t\t- OD280/OD315 of diluted wines\n",
      " \t\t- Proline\n",
      "\n",
      "    - class:\n",
      "            - class_0\n",
      "            - class_1\n",
      "            - class_2\n",
      "\t\t\n",
      "    :Summary Statistics:\n",
      "    \n",
      "    ============================= ==== ===== ======= =====\n",
      "                                   Min   Max   Mean     SD\n",
      "    ============================= ==== ===== ======= =====\n",
      "    Alcohol:                      11.0  14.8    13.0   0.8\n",
      "<<26 more lines>>\n",
      "wine.\n",
      "\n",
      "Original Owners: \n",
      "\n",
      "Forina, M. et al, PARVUS - \n",
      "An Extendible Package for Data Exploration, Classification and Correlation. \n",
      "Institute of Pharmaceutical and Food Analysis and Technologies,\n",
      "Via Brigata Salerno, 16147 Genoa, Italy.\n",
      "\n",
      "Citation:\n",
      "\n",
      "Lichman, M. (2013). UCI Machine Learning Repository\n",
      "[https://archive.ics.uci.edu/ml]. Irvine, CA: University of California,\n",
      "School of Information and Computer Science. \n",
      "\n",
      ".. topic:: References\n",
      "\n",
      "  (1) S. Aeberhard, D. Coomans and O. de Vel, \n",
      "  Comparison of Classifiers in High Dimensional Settings, \n",
      "  Tech. Rep. no. 92-02, (1992), Dept. of Computer Science and Dept. of  \n",
      "  Mathematics and Statistics, James Cook University of North Queensland. \n",
      "  (Also submitted to Technometrics). \n",
      "\n",
      "  The data was used with many others for comparing various \n",
      "  classifiers. The classes are separable, though only RDA \n",
      "  has achieved 100% correct classification. \n",
      "  (RDA : 100%, QDA 99.4%, LDA 98.9%, 1NN 96.1% (z-transformed data)) \n",
      "  (All results using the leave-one-out technique) \n",
      "\n",
      "  (2) S. Aeberhard, D. Coomans and O. de Vel, \n",
      "  \"THE CLASSIFICATION PERFORMANCE OF RDA\" \n",
      "  Tech. Rep. no. 92-01, (1992), Dept. of Computer Science and Dept. of \n",
      "  Mathematics and Statistics, James Cook University of North Queensland. \n",
      "  (Also submitted to Journal of Chemometrics).\n",
      "\n"
     ]
    }
   ],
   "source": [
    "print(wine.DESCR)"
   ]
  },
  {
   "cell_type": "code",
   "execution_count": 27,
   "metadata": {},
   "outputs": [],
   "source": [
    "from sklearn.model_selection import train_test_split\n",
    "\n",
    "X_train, X_test, y_train, y_test = train_test_split(\n",
    "    wine.data, wine.target, random_state=42\n",
    ")"
   ]
  },
  {
   "cell_type": "code",
   "execution_count": 28,
   "metadata": {},
   "outputs": [
    {
     "data": {
      "text/html": [
       "<div>\n",
       "<style scoped>\n",
       "    .dataframe tbody tr th:only-of-type {\n",
       "        vertical-align: middle;\n",
       "    }\n",
       "\n",
       "    .dataframe tbody tr th {\n",
       "        vertical-align: top;\n",
       "    }\n",
       "\n",
       "    .dataframe thead th {\n",
       "        text-align: right;\n",
       "    }\n",
       "</style>\n",
       "<table border=\"1\" class=\"dataframe\">\n",
       "  <thead>\n",
       "    <tr style=\"text-align: right;\">\n",
       "      <th></th>\n",
       "      <th>alcohol</th>\n",
       "      <th>malic_acid</th>\n",
       "      <th>ash</th>\n",
       "      <th>alcalinity_of_ash</th>\n",
       "      <th>magnesium</th>\n",
       "      <th>total_phenols</th>\n",
       "      <th>flavanoids</th>\n",
       "      <th>nonflavanoid_phenols</th>\n",
       "      <th>proanthocyanins</th>\n",
       "      <th>color_intensity</th>\n",
       "      <th>hue</th>\n",
       "      <th>od280/od315_of_diluted_wines</th>\n",
       "      <th>proline</th>\n",
       "    </tr>\n",
       "  </thead>\n",
       "  <tbody>\n",
       "    <tr>\n",
       "      <th>2</th>\n",
       "      <td>13.16</td>\n",
       "      <td>2.36</td>\n",
       "      <td>2.67</td>\n",
       "      <td>18.6</td>\n",
       "      <td>101.0</td>\n",
       "      <td>2.80</td>\n",
       "      <td>3.24</td>\n",
       "      <td>0.30</td>\n",
       "      <td>2.81</td>\n",
       "      <td>5.68</td>\n",
       "      <td>1.03</td>\n",
       "      <td>3.17</td>\n",
       "      <td>1185.0</td>\n",
       "    </tr>\n",
       "    <tr>\n",
       "      <th>100</th>\n",
       "      <td>12.08</td>\n",
       "      <td>2.08</td>\n",
       "      <td>1.70</td>\n",
       "      <td>17.5</td>\n",
       "      <td>97.0</td>\n",
       "      <td>2.23</td>\n",
       "      <td>2.17</td>\n",
       "      <td>0.26</td>\n",
       "      <td>1.40</td>\n",
       "      <td>3.30</td>\n",
       "      <td>1.27</td>\n",
       "      <td>2.96</td>\n",
       "      <td>710.0</td>\n",
       "    </tr>\n",
       "    <tr>\n",
       "      <th>122</th>\n",
       "      <td>12.42</td>\n",
       "      <td>4.43</td>\n",
       "      <td>2.73</td>\n",
       "      <td>26.5</td>\n",
       "      <td>102.0</td>\n",
       "      <td>2.20</td>\n",
       "      <td>2.13</td>\n",
       "      <td>0.43</td>\n",
       "      <td>1.71</td>\n",
       "      <td>2.08</td>\n",
       "      <td>0.92</td>\n",
       "      <td>3.12</td>\n",
       "      <td>365.0</td>\n",
       "    </tr>\n",
       "    <tr>\n",
       "      <th>154</th>\n",
       "      <td>12.58</td>\n",
       "      <td>1.29</td>\n",
       "      <td>2.10</td>\n",
       "      <td>20.0</td>\n",
       "      <td>103.0</td>\n",
       "      <td>1.48</td>\n",
       "      <td>0.58</td>\n",
       "      <td>0.53</td>\n",
       "      <td>1.40</td>\n",
       "      <td>7.60</td>\n",
       "      <td>0.58</td>\n",
       "      <td>1.55</td>\n",
       "      <td>640.0</td>\n",
       "    </tr>\n",
       "    <tr>\n",
       "      <th>51</th>\n",
       "      <td>13.83</td>\n",
       "      <td>1.65</td>\n",
       "      <td>2.60</td>\n",
       "      <td>17.2</td>\n",
       "      <td>94.0</td>\n",
       "      <td>2.45</td>\n",
       "      <td>2.99</td>\n",
       "      <td>0.22</td>\n",
       "      <td>2.29</td>\n",
       "      <td>5.60</td>\n",
       "      <td>1.24</td>\n",
       "      <td>3.37</td>\n",
       "      <td>1265.0</td>\n",
       "    </tr>\n",
       "  </tbody>\n",
       "</table>\n",
       "</div>"
      ],
      "text/plain": [
       "     alcohol  malic_acid   ash  alcalinity_of_ash  magnesium  total_phenols  \\\n",
       "2      13.16        2.36  2.67               18.6      101.0           2.80   \n",
       "100    12.08        2.08  1.70               17.5       97.0           2.23   \n",
       "122    12.42        4.43  2.73               26.5      102.0           2.20   \n",
       "154    12.58        1.29  2.10               20.0      103.0           1.48   \n",
       "51     13.83        1.65  2.60               17.2       94.0           2.45   \n",
       "\n",
       "     flavanoids  nonflavanoid_phenols  proanthocyanins  color_intensity   hue  \\\n",
       "2          3.24                  0.30             2.81             5.68  1.03   \n",
       "100        2.17                  0.26             1.40             3.30  1.27   \n",
       "122        2.13                  0.43             1.71             2.08  0.92   \n",
       "154        0.58                  0.53             1.40             7.60  0.58   \n",
       "51         2.99                  0.22             2.29             5.60  1.24   \n",
       "\n",
       "     od280/od315_of_diluted_wines  proline  \n",
       "2                            3.17   1185.0  \n",
       "100                          2.96    710.0  \n",
       "122                          3.12    365.0  \n",
       "154                          1.55    640.0  \n",
       "51                           3.37   1265.0  "
      ]
     },
     "execution_count": 28,
     "metadata": {},
     "output_type": "execute_result"
    }
   ],
   "source": [
    "X_train.head()"
   ]
  },
  {
   "cell_type": "code",
   "execution_count": 29,
   "metadata": {},
   "outputs": [
    {
     "data": {
      "text/plain": [
       "2      0\n",
       "100    1\n",
       "122    1\n",
       "154    2\n",
       "51     0\n",
       "Name: target, dtype: int64"
      ]
     },
     "execution_count": 29,
     "metadata": {},
     "output_type": "execute_result"
    }
   ],
   "source": [
    "y_train.head()"
   ]
  },
  {
   "cell_type": "markdown",
   "metadata": {},
   "source": [
    "> Let’s start simple, with a linear SVM classifier. It will automatically use the One-vs-All (also called One-vs-the-Rest, OvR) strategy, so there’s  nothing special we need to do to handle multiple classes. Easy, right?"
   ]
  },
  {
   "cell_type": "code",
   "execution_count": 30,
   "metadata": {},
   "outputs": [
    {
     "name": "stderr",
     "output_type": "stream",
     "text": [
      "/Users/ageron/miniconda3/envs/homl3/lib/python3.8/site-packages/sklearn/svm/_base.py:1206: ConvergenceWarning: Liblinear failed to converge, increase the number of iterations.\n",
      "  warnings.warn(\n"
     ]
    },
    {
     "data": {
      "text/plain": [
       "LinearSVC(random_state=42)"
      ]
     },
     "execution_count": 30,
     "metadata": {},
     "output_type": "execute_result"
    }
   ],
   "source": [
    "lin_clf = LinearSVC(random_state=42)\n",
    "lin_clf.fit(X_train, y_train)"
   ]
  },
  {
   "cell_type": "markdown",
   "metadata": {},
   "source": [
    "> Oh no! It failed to converge. Can we guess why? Do we must just increase the number of training iterations? Let’s see:"
   ]
  },
  {
   "cell_type": "code",
   "execution_count": 31,
   "metadata": {},
   "outputs": [
    {
     "name": "stderr",
     "output_type": "stream",
     "text": [
      "/Users/ageron/miniconda3/envs/homl3/lib/python3.8/site-packages/sklearn/svm/_base.py:1206: ConvergenceWarning: Liblinear failed to converge, increase the number of iterations.\n",
      "  warnings.warn(\n"
     ]
    },
    {
     "data": {
      "text/plain": [
       "LinearSVC(max_iter=1000000, random_state=42)"
      ]
     },
     "execution_count": 31,
     "metadata": {},
     "output_type": "execute_result"
    }
   ],
   "source": [
    "lin_clf = LinearSVC(max_iter=1_000_000, random_state=42)\n",
    "lin_clf.fit(X_train, y_train)"
   ]
  },
  {
   "cell_type": "markdown",
   "metadata": {},
   "source": [
    "> Even with one million iterations, it still did not converge. There must be another problem. Let’s still evaluate this model with `cross_val_score`, it will serve as a baseline:"
   ]
  },
  {
   "cell_type": "code",
   "execution_count": 32,
   "metadata": {},
   "outputs": [
    {
     "name": "stderr",
     "output_type": "stream",
     "text": [
      "/Users/ageron/miniconda3/envs/homl3/lib/python3.8/site-packages/sklearn/svm/_base.py:1206: ConvergenceWarning: Liblinear failed to converge, increase the number of iterations.\n",
      "  warnings.warn(\n",
      "/Users/ageron/miniconda3/envs/homl3/lib/python3.8/site-packages/sklearn/svm/_base.py:1206: ConvergenceWarning: Liblinear failed to converge, increase the number of iterations.\n",
      "  warnings.warn(\n",
      "/Users/ageron/miniconda3/envs/homl3/lib/python3.8/site-packages/sklearn/svm/_base.py:1206: ConvergenceWarning: Liblinear failed to converge, increase the number of iterations.\n",
      "  warnings.warn(\n",
      "/Users/ageron/miniconda3/envs/homl3/lib/python3.8/site-packages/sklearn/svm/_base.py:1206: ConvergenceWarning: Liblinear failed to converge, increase the number of iterations.\n",
      "  warnings.warn(\n",
      "/Users/ageron/miniconda3/envs/homl3/lib/python3.8/site-packages/sklearn/svm/_base.py:1206: ConvergenceWarning: Liblinear failed to converge, increase the number of iterations.\n",
      "  warnings.warn(\n"
     ]
    },
    {
     "data": {
      "text/plain": [
       "0.90997150997151"
      ]
     },
     "execution_count": 32,
     "metadata": {},
     "output_type": "execute_result"
    }
   ],
   "source": [
    "from sklearn.model_selection import cross_val_score\n",
    "\n",
    "cross_val_score(lin_clf, X_train, y_train).mean()"
   ]
  },
  {
   "cell_type": "markdown",
   "metadata": {},
   "source": [
    "> Well 91% accuracy on this dataset is not great. So did we guess what the problem is? That’s right, we forgot to scale the features! Always remember to scale the features when using SVMs:"
   ]
  },
  {
   "cell_type": "code",
   "execution_count": 33,
   "metadata": {},
   "outputs": [
    {
     "data": {
      "text/plain": [
       "Pipeline(steps=[('standardscaler', StandardScaler()),\n",
       "                ('linearsvc', LinearSVC(random_state=42))])"
      ]
     },
     "execution_count": 33,
     "metadata": {},
     "output_type": "execute_result"
    }
   ],
   "source": [
    "lin_clf = make_pipeline(StandardScaler(), LinearSVC(random_state=42))\n",
    "lin_clf.fit(X_train, y_train)"
   ]
  },
  {
   "cell_type": "markdown",
   "metadata": {},
   "source": [
    "> Now it converges without any problem. Let’s measure its performance:"
   ]
  },
  {
   "cell_type": "code",
   "execution_count": 34,
   "metadata": {},
   "outputs": [
    {
     "data": {
      "text/plain": [
       "0.9774928774928775"
      ]
     },
     "execution_count": 34,
     "metadata": {},
     "output_type": "execute_result"
    }
   ],
   "source": [
    "from sklearn.model_selection import cross_val_score\n",
    "\n",
    "cross_val_score(lin_clf, X_train, y_train).mean()"
   ]
  },
  {
   "cell_type": "markdown",
   "metadata": {},
   "source": [
    "> Nice! We get 97.7% accuracy, that’s much better. Let’s see if a kernelized SVM will do better. We will use a default `SVC` for now:"
   ]
  },
  {
   "cell_type": "code",
   "execution_count": 35,
   "metadata": {},
   "outputs": [
    {
     "data": {
      "text/plain": [
       "0.9698005698005698"
      ]
     },
     "execution_count": 35,
     "metadata": {},
     "output_type": "execute_result"
    }
   ],
   "source": [
    "svm_clf = make_pipeline(StandardScaler(), SVC(random_state=42))\n",
    "cross_val_score(svm_clf, X_train, y_train).mean()"
   ]
  },
  {
   "cell_type": "markdown",
   "metadata": {},
   "source": [
    "> That’s not better, but perhaps we need to do a bit of hyperparameter tuning:"
   ]
  },
  {
   "cell_type": "code",
   "execution_count": 36,
   "metadata": {},
   "outputs": [
    {
     "data": {
      "text/plain": [
       "Pipeline(steps=[('standardscaler', StandardScaler()),\n",
       "                ('svc',\n",
       "                 SVC(C=9.925589984899778, gamma=0.011986281799901176,\n",
       "                     random_state=42))])"
      ]
     },
     "execution_count": 36,
     "metadata": {},
     "output_type": "execute_result"
    }
   ],
   "source": [
    "from scipy.stats import loguniform, uniform\n",
    "from sklearn.model_selection import RandomizedSearchCV\n",
    "\n",
    "param_distrib = {\n",
    "    'svc__gamma': loguniform(0.001, 0.1),\n",
    "    'svc__C': uniform(1, 10),\n",
    "}\n",
    "rnd_search_cv = RandomizedSearchCV(\n",
    "    svm_clf, param_distrib, n_iter=100, cv=5, random_state=42\n",
    ")\n",
    "rnd_search_cv.fit(X_train, y_train)\n",
    "rnd_search_cv.best_estimator_"
   ]
  },
  {
   "cell_type": "code",
   "execution_count": 37,
   "metadata": {},
   "outputs": [
    {
     "data": {
      "text/plain": [
       "0.9925925925925926"
      ]
     },
     "execution_count": 37,
     "metadata": {},
     "output_type": "execute_result"
    }
   ],
   "source": [
    "rnd_search_cv.best_score_"
   ]
  },
  {
   "cell_type": "markdown",
   "metadata": {},
   "source": [
    "> Ah, this looks excellent! Let’s select this model. Now we can test it on the test set:"
   ]
  },
  {
   "cell_type": "code",
   "execution_count": 38,
   "metadata": {},
   "outputs": [
    {
     "data": {
      "text/plain": [
       "0.9777777777777777"
      ]
     },
     "execution_count": 38,
     "metadata": {},
     "output_type": "execute_result"
    }
   ],
   "source": [
    "rnd_search_cv.score(X_test, y_test)"
   ]
  },
  {
   "cell_type": "markdown",
   "metadata": {},
   "source": [
    "> This tuned kernelized SVM performs better than the `LinearSVC` model, but we get a lower score on the test set than we measured using cross-validation. This is quite common: since we did so much hyperparameter tuning, we ended up slightly overfitting the cross-validation test sets. It’s tempting to tweak the hyperparameters a bit more until we get a better result on the test set, but this would probably not help, as we would just start overfitting the test set. Anyway, this score is not bad at all, so let’s stop here."
   ]
  },
  {
   "cell_type": "markdown",
   "metadata": {},
   "source": [
    "### 11. \n",
    "Train and fine-tune an SVM regressor on the California housing dataset. We can use the original dataset rather than the tweaked version we used in Chapter 2. The original dataset can be fetched using `sklearn.datasets.fetch_california_housing()`. The targets represent \n",
    "hundreds of thousands of dollars. Since there are over 20,000 instances, SVMs can be slow, so for hyperparameter tuning we should use much less instances (e.g., 2,000), to test many more hyperparameter combinations. What is our best model’s RMSE? \n",
    "> Let’s load the dataset:"
   ]
  },
  {
   "cell_type": "code",
   "execution_count": 39,
   "metadata": {},
   "outputs": [],
   "source": [
    "from sklearn.datasets import fetch_california_housing\n",
    "\n",
    "housing = fetch_california_housing()\n",
    "X = housing.data\n",
    "y = housing.target"
   ]
  },
  {
   "cell_type": "markdown",
   "metadata": {},
   "source": [
    "> Split it into a training set and a test set:"
   ]
  },
  {
   "cell_type": "code",
   "execution_count": 40,
   "metadata": {},
   "outputs": [],
   "source": [
    "from sklearn.model_selection import train_test_split\n",
    "\n",
    "X_train, X_test, y_train, y_test = train_test_split(\n",
    "    X, y, test_size=0.2, random_state=42\n",
    ")"
   ]
  },
  {
   "cell_type": "markdown",
   "metadata": {},
   "source": [
    "> Don’t forget to scale the data! Let’s train a simple `LinearSVR` first:"
   ]
  },
  {
   "cell_type": "code",
   "execution_count": 41,
   "metadata": {},
   "outputs": [
    {
     "name": "stderr",
     "output_type": "stream",
     "text": [
      "/Users/ageron/miniconda3/envs/homl3/lib/python3.8/site-packages/sklearn/svm/_base.py:1206: ConvergenceWarning: Liblinear failed to converge, increase the number of iterations.\n",
      "  warnings.warn(\n"
     ]
    },
    {
     "data": {
      "text/plain": [
       "Pipeline(steps=[('standardscaler', StandardScaler()),\n",
       "                ('linearsvr', LinearSVR(random_state=42))])"
      ]
     },
     "execution_count": 41,
     "metadata": {},
     "output_type": "execute_result"
    }
   ],
   "source": [
    "from sklearn.svm import LinearSVR\n",
    "\n",
    "lin_svr = make_pipeline(StandardScaler(), LinearSVR(random_state=42))\n",
    "lin_svr.fit(X_train, y_train)"
   ]
  },
  {
   "cell_type": "markdown",
   "metadata": {},
   "source": [
    "> It did not converge, so let’s increase `max_iter`:"
   ]
  },
  {
   "cell_type": "code",
   "execution_count": 42,
   "metadata": {},
   "outputs": [
    {
     "data": {
      "text/plain": [
       "Pipeline(steps=[('standardscaler', StandardScaler()),\n",
       "                ('linearsvr', LinearSVR(max_iter=5000, random_state=42))])"
      ]
     },
     "execution_count": 42,
     "metadata": {},
     "output_type": "execute_result"
    }
   ],
   "source": [
    "lin_svr = make_pipeline(\n",
    "    StandardScaler(), LinearSVR(max_iter=5000, random_state=42)\n",
    ")\n",
    "lin_svr.fit(X_train, y_train)"
   ]
  },
  {
   "cell_type": "markdown",
   "metadata": {},
   "source": [
    "> Let’s see how it performs on the training set:"
   ]
  },
  {
   "cell_type": "code",
   "execution_count": 43,
   "metadata": {},
   "outputs": [
    {
     "data": {
      "text/plain": [
       "0.9595484665813285"
      ]
     },
     "execution_count": 43,
     "metadata": {},
     "output_type": "execute_result"
    }
   ],
   "source": [
    "from sklearn.metrics import mean_squared_error\n",
    "\n",
    "y_pred = lin_svr.predict(X_train)\n",
    "mse = mean_squared_error(y_train, y_pred)\n",
    "mse"
   ]
  },
  {
   "cell_type": "markdown",
   "metadata": {},
   "source": [
    "> Let’s look at the RMSE:"
   ]
  },
  {
   "cell_type": "code",
   "execution_count": 44,
   "metadata": {},
   "outputs": [
    {
     "data": {
      "text/plain": [
       "0.979565447829459"
      ]
     },
     "execution_count": 44,
     "metadata": {},
     "output_type": "execute_result"
    }
   ],
   "source": [
    "np.sqrt(mse)"
   ]
  },
  {
   "cell_type": "markdown",
   "metadata": {},
   "source": [
    "> In this dataset, the targets represent hundreds of thousands of dollars. The RMSE gives a rough idea of the kind of error we should expect (with a higher weight for large errors): so with this model we can expect errors close to $98,000! Not great. Let’s see if we can do better with an RBF Kernel. We will use randomized search with cross validation to find the appropriate hyperparameter values for `C` and `gamma`:"
   ]
  },
  {
   "cell_type": "code",
   "execution_count": 45,
   "metadata": {},
   "outputs": [
    {
     "data": {
      "text/plain": [
       "RandomizedSearchCV(cv=3,\n",
       "                   estimator=Pipeline(steps=[('standardscaler',\n",
       "                                              StandardScaler()),\n",
       "                                             ('svr', SVR())]),\n",
       "                   n_iter=100,\n",
       "                   param_distributions={'svr__C': <scipy.stats._distn_infrastructure.rv_frozen object at 0x7ff030704ee0>,\n",
       "                                        'svr__gamma': <scipy.stats._distn_infrastructure.rv_frozen object at 0x7ff030704fd0>},\n",
       "                   random_state=42)"
      ]
     },
     "execution_count": 45,
     "metadata": {},
     "output_type": "execute_result"
    }
   ],
   "source": [
    "from scipy.stats import loguniform, uniform\n",
    "from sklearn.model_selection import RandomizedSearchCV\n",
    "from sklearn.svm import SVR\n",
    "\n",
    "svm_reg = make_pipeline(StandardScaler(), SVR())\n",
    "\n",
    "param_distrib = {\n",
    "    'svr__gamma': loguniform(0.001, 0.1),\n",
    "    'svr__C': uniform(1, 10),\n",
    "}\n",
    "rnd_search_cv = RandomizedSearchCV(\n",
    "    svm_reg, param_distrib, n_iter=100, cv=3, random_state=42\n",
    ")\n",
    "rnd_search_cv.fit(X_train[:2000], y_train[:2000])"
   ]
  },
  {
   "cell_type": "code",
   "execution_count": 46,
   "metadata": {},
   "outputs": [
    {
     "data": {
      "text/plain": [
       "Pipeline(steps=[('standardscaler', StandardScaler()),\n",
       "                ('svr', SVR(C=4.63629602379294, gamma=0.08781408196485974))])"
      ]
     },
     "execution_count": 46,
     "metadata": {},
     "output_type": "execute_result"
    }
   ],
   "source": [
    "rnd_search_cv.best_estimator_"
   ]
  },
  {
   "cell_type": "code",
   "execution_count": 47,
   "metadata": {},
   "outputs": [
    {
     "data": {
      "text/plain": [
       "array([0.58835648, 0.57468589, 0.58085278, 0.57109886, 0.59853029])"
      ]
     },
     "execution_count": 47,
     "metadata": {},
     "output_type": "execute_result"
    }
   ],
   "source": [
    "-cross_val_score(\n",
    "    rnd_search_cv.best_estimator_,\n",
    "    X_train,\n",
    "    y_train,\n",
    "    scoring=\"neg_root_mean_squared_error\",\n",
    ")"
   ]
  },
  {
   "cell_type": "markdown",
   "metadata": {},
   "source": [
    "> Looks much better than the linear model. Let’s select this model and evaluate it on the test set:"
   ]
  },
  {
   "cell_type": "code",
   "execution_count": 48,
   "metadata": {},
   "outputs": [
    {
     "data": {
      "text/plain": [
       "0.5854732265172222"
      ]
     },
     "execution_count": 48,
     "metadata": {},
     "output_type": "execute_result"
    }
   ],
   "source": [
    "y_pred = rnd_search_cv.best_estimator_.predict(X_test)\n",
    "rmse = mean_squared_error(y_test, y_pred, squared=False)\n",
    "rmse"
   ]
  },
  {
   "cell_type": "markdown",
   "metadata": {},
   "source": [
    "> So SVMs worked very well on the wine dataset, but not so much on the California Housing dataset. In Chapter 2, we found that Random Forests worked better for that dataset."
   ]
  }
 ],
 "metadata": {
  "kernelspec": {
   "display_name": "Python 3 (ipykernel)",
   "language": "python",
   "name": "python3"
  },
  "language_info": {
   "codemirror_mode": {
    "name": "ipython",
    "version": 3
   },
   "file_extension": ".py",
   "mimetype": "text/x-python",
   "name": "python",
   "nbconvert_exporter": "python",
   "pygments_lexer": "ipython3",
   "version": "3.10.4"
  },
  "nav_menu": {},
  "toc": {
   "navigate_menu": true,
   "number_sections": true,
   "sideBar": true,
   "threshold": 6,
   "toc_cell": false,
   "toc_section_display": "block",
   "toc_window_display": false
  }
 },
 "nbformat": 4,
 "nbformat_minor": 4
}
